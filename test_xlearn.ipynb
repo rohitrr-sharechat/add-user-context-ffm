{
 "cells": [
  {
   "cell_type": "code",
   "execution_count": 28,
   "id": "related-citizen",
   "metadata": {},
   "outputs": [],
   "source": [
    "import pandas as pd\n",
    "import numpy as np\n",
    "import xlearn as xl\n",
    "import tensorflow as tf\n",
    "import gc"
   ]
  },
  {
   "cell_type": "code",
   "execution_count": 77,
   "id": "novel-original",
   "metadata": {},
   "outputs": [],
   "source": [
    "def sigmoid(z):\n",
    "    return 1/(1 + np.exp(-z))"
   ]
  },
  {
   "cell_type": "code",
   "execution_count": 67,
   "id": "usual-salon",
   "metadata": {},
   "outputs": [],
   "source": [
    "test_path = \"./train_test_data_models/location/video/Punjabi/is_vp_succ2/test.txt\"\n",
    "xlearn_test_path = \"./train_test_data_models/location/video/Punjabi/is_vp_succ2/xlearn_test.txt\"\n",
    "model_path = \"./train_test_data_models/location/video/Punjabi/is_vp_succ2/out/model.out\"\n",
    "predicted_file_path = \"./train_test_data_models/location/video/Punjabi/is_vp_succ2/xlearn_predicted.txt\"\n",
    "load_model_path = \"./train_test_data_models/location/video/Punjabi/is_vp_succ2/out/model.txt\"\n",
    "mapping_file_path = \"./train_test_data_models/location/video/Punjabi/is_vp_succ2/user_post_ffm_mapping.csv\"\n",
    "\n",
    "line_counts = 200"
   ]
  },
  {
   "cell_type": "code",
   "execution_count": 68,
   "id": "unlimited-optimum",
   "metadata": {},
   "outputs": [],
   "source": [
    "# count=0\n",
    "# lines = []\n",
    "# with open(test_path) as f:\n",
    "#     for line in f:\n",
    "#         lines.append(line)\n",
    "#         if(count > line_count):\n",
    "#             break\n",
    "#         count+=1\n",
    "# with open(xlearn_test_path, \"w\") as f:\n",
    "#     f.writelines(lines)"
   ]
  },
  {
   "cell_type": "code",
   "execution_count": 72,
   "id": "elementary-appointment",
   "metadata": {},
   "outputs": [
    {
     "name": "stdout",
     "output_type": "stream",
     "text": [
      "['1 0:3422065:1 1:95477:1 2:3633926:1 ', '0 0:2429568:1 1:85714:1 2:3634564:1 ', '0 0:1888436:1 1:63919:1 2:3633849:1 ', '0 0:1760473:1 1:44696:1 2:3633926:1 ', '0 0:1675911:1 1:17563:1 2:3634063:1 ']\n"
     ]
    }
   ],
   "source": [
    "with open(xlearn_test_path) as f:\n",
    "    lines = f.read().splitlines()\n",
    "    \n",
    "print(lines[:5])"
   ]
  },
  {
   "cell_type": "code",
   "execution_count": 85,
   "id": "perceived-bandwidth",
   "metadata": {},
   "outputs": [
    {
     "name": "stdout",
     "output_type": "stream",
     "text": [
      "[0.268623, 0.0609916, 0.0826926, 0.547922, 0.0386218]\n"
     ]
    }
   ],
   "source": [
    "ffm_model = xl.create_ffm() \n",
    "ffm_model.setTest(xlearn_test_path)\n",
    "ffm_model.setSigmoid()\n",
    "ffm_model.predict(model_path, predicted_file_path)\n",
    "with open(predicted_file_path) as f:\n",
    "    xlearn_scores = [float(i) for i in f.readlines()]\n",
    "print(xlearn_scores[:5])"
   ]
  },
  {
   "cell_type": "code",
   "execution_count": 73,
   "id": "subjective-isaac",
   "metadata": {
    "tags": []
   },
   "outputs": [],
   "source": [
    "model = open(load_model_path, 'r').read().splitlines()\n",
    "\n",
    "embs = {}\n",
    "for s in model:\n",
    "    x = s.split(': ')\n",
    "    embs[x[0]] =  list(map(float, x[1].split(' ')))\n",
    "del model"
   ]
  },
  {
   "cell_type": "code",
   "execution_count": 100,
   "id": "valid-encounter",
   "metadata": {},
   "outputs": [],
   "source": [
    "global_bias = embs['bias'][0]\n",
    "scores = []\n",
    "for l in lines:\n",
    "    k = l.split(':')\n",
    "    feat_0, feat_1, feat_2 = k[1], k[3], k[5]\n",
    "    embs_0_1 = embs[f\"v_{feat_0}_1\"]\n",
    "    embs_0_2 = embs[f\"v_{feat_0}_2\"]\n",
    "    embs_1_0 = embs[f\"v_{feat_1}_0\"]\n",
    "    embs_1_2 = embs[f\"v_{feat_1}_2\"]\n",
    "    embs_2_0 = embs[f\"v_{feat_2}_0\"]\n",
    "    embs_2_1 = embs[f\"v_{feat_2}_1\"]\n",
    "    bias_0 = embs[f\"i_{feat_0}\"][0]\n",
    "    bias_1 = embs[f\"i_{feat_1}\"][0]\n",
    "    bias_2 = embs[f\"i_{feat_2}\"][0]\n",
    "    out = np.dot(embs_0_1, embs_1_0) + np.dot(embs_0_2, embs_2_0) + np.dot(embs_1_2, embs_2_1)\n",
    "    out = out*(1/3)\n",
    "    out += global_bias + (bias_0 + bias_1 + bias_2)*(1/np.sqrt(3))\n",
    "    scores.append(sigmoid(out))"
   ]
  },
  {
   "cell_type": "code",
   "execution_count": 101,
   "id": "alleged-guard",
   "metadata": {},
   "outputs": [
    {
     "name": "stdout",
     "output_type": "stream",
     "text": [
      "[(0.268623177761137, 0.268623), (0.06099181027639442, 0.0609916), (0.08269272623407295, 0.0826926), (0.5479224014874199, 0.547922), (0.03862176018697644, 0.0386218), (0.2147861347995403, 0.214786), (0.12502738825164658, 0.125027), (0.49118174675686255, 0.491181), (0.03995730751212297, 0.0399572), (0.12661886084133878, 0.126619)]\n"
     ]
    }
   ],
   "source": [
    "compare_scores = list(zip(scores, xlearn_scores))\n",
    "print(compare_scores[:10])"
   ]
  },
  {
   "cell_type": "markdown",
   "id": "portuguese-solomon",
   "metadata": {},
   "source": [
    "### Scrap notes"
   ]
  },
  {
   "cell_type": "code",
   "execution_count": null,
   "id": "copyrighted-tobacco",
   "metadata": {},
   "outputs": [],
   "source": []
  },
  {
   "cell_type": "code",
   "execution_count": null,
   "id": "genuine-apparatus",
   "metadata": {},
   "outputs": [],
   "source": []
  },
  {
   "cell_type": "code",
   "execution_count": 62,
   "id": "several-refund",
   "metadata": {},
   "outputs": [],
   "source": [
    "u_p_embs = embs[f\"v_3569360_1\"]\n",
    "u_c_embs = embs[f\"v_3569360_2\"]\n",
    "p_u_embs = embs[f\"v_60298_0\"]\n",
    "p_c_embs = embs[f\"v_60298_2\"]\n",
    "c_u_embs = embs[f\"v_3634989_0\"]\n",
    "c_p_embs = embs[f\"v_3634989_1\"]\n",
    "u_bias = embs[f\"i_3569360\"]\n",
    "p_bias = embs[f\"i_60298\"]\n",
    "c_bias = embs[f\"i_3634989\"]\n",
    "\n",
    "u_u_embs = embs[f\"v_3569360_0\"]\n",
    "p_p_embs = embs[f\"v_60298_1\"]\n",
    "c_c_embs = embs[f\"v_3634989_2\"]"
   ]
  },
  {
   "cell_type": "code",
   "execution_count": 63,
   "id": "biological-taste",
   "metadata": {},
   "outputs": [],
   "source": [
    "out = np.dot(u_p_embs, p_u_embs)+np.dot(p_c_embs, c_p_embs)+np.dot(u_c_embs, c_u_embs)+u_bias+p_bias+c_bias+global_bias"
   ]
  },
  {
   "cell_type": "code",
   "execution_count": 91,
   "id": "compliant-amazon",
   "metadata": {},
   "outputs": [
    {
     "data": {
      "text/plain": [
       "[0.218317,\n",
       " -0.40886,\n",
       " 0.033446,\n",
       " 0.0803355,\n",
       " 0.0166485,\n",
       " 0.249178,\n",
       " 0.268246,\n",
       " 0.347592,\n",
       " -0.471759,\n",
       " -0.10251,\n",
       " -0.891662,\n",
       " -0.0686677,\n",
       " 0.0351942,\n",
       " 0.139076,\n",
       " -0.243822,\n",
       " -0.622818,\n",
       " -0.0094951,\n",
       " 0.0934188,\n",
       " -0.100039,\n",
       " -0.522374,\n",
       " -0.243693,\n",
       " -0.488498,\n",
       " -0.0956531,\n",
       " 0.151277,\n",
       " -0.151594,\n",
       " -0.552921,\n",
       " -0.25861,\n",
       " -0.052828,\n",
       " 0.103763,\n",
       " -0.375676,\n",
       " 0.340832,\n",
       " -0.7]"
      ]
     },
     "execution_count": 91,
     "metadata": {},
     "output_type": "execute_result"
    }
   ],
   "source": [
    "embs_0_1"
   ]
  },
  {
   "cell_type": "code",
   "execution_count": 65,
   "id": "every-medication",
   "metadata": {},
   "outputs": [],
   "source": [
    "out += np.dot(u_u_embs, u_u_embs)+np.dot(p_p_embs, p_p_embs)+np.dot(c_c_embs, c_c_embs)"
   ]
  },
  {
   "cell_type": "code",
   "execution_count": 66,
   "id": "greenhouse-spare",
   "metadata": {},
   "outputs": [
    {
     "data": {
      "text/plain": [
       "<tf.Tensor: shape=(1,), dtype=float64, numpy=array([0.99460341])>"
      ]
     },
     "execution_count": 66,
     "metadata": {},
     "output_type": "execute_result"
    }
   ],
   "source": [
    "tf.sigmoid(out)"
   ]
  },
  {
   "cell_type": "code",
   "execution_count": 40,
   "id": "sudden-stopping",
   "metadata": {},
   "outputs": [
    {
     "data": {
      "text/plain": [
       "[0.0211019,\n",
       " 0.091591,\n",
       " 0.107846,\n",
       " 0.0595417,\n",
       " 0.0159502,\n",
       " 0.0776743,\n",
       " 0.0214465,\n",
       " 0.0495851,\n",
       " 0.100985,\n",
       " 0.0164256,\n",
       " 0.0172505,\n",
       " 0.114423,\n",
       " 0.114425,\n",
       " 0.0282691,\n",
       " 0.0274383,\n",
       " 0.0659249,\n",
       " 0.0761231,\n",
       " 0.0855822,\n",
       " 0.0407808,\n",
       " 0.0677408,\n",
       " 0.0279365,\n",
       " 0.0379567,\n",
       " 0.0888939,\n",
       " 0.0468252,\n",
       " 0.0345926,\n",
       " 0.0184763,\n",
       " 0.0651376,\n",
       " 0.0287175,\n",
       " 0.0964414,\n",
       " 0.0745555,\n",
       " 0.106452,\n",
       " 0.0774059]"
      ]
     },
     "execution_count": 40,
     "metadata": {},
     "output_type": "execute_result"
    }
   ],
   "source": [
    "embs[f\"v_3569360_0\"]"
   ]
  },
  {
   "cell_type": "code",
   "execution_count": 41,
   "id": "specified-governor",
   "metadata": {},
   "outputs": [
    {
     "data": {
      "text/plain": [
       "'v_75561_2'"
      ]
     },
     "execution_count": 41,
     "metadata": {},
     "output_type": "execute_result"
    }
   ],
   "source": [
    "\"v_60298_2\""
   ]
  },
  {
   "cell_type": "code",
   "execution_count": 80,
   "id": "partial-rapid",
   "metadata": {},
   "outputs": [
    {
     "data": {
      "text/plain": [
       "0.0066928509242848554"
      ]
     },
     "execution_count": 80,
     "metadata": {},
     "output_type": "execute_result"
    }
   ],
   "source": [
    "sigmoid(-5)"
   ]
  },
  {
   "cell_type": "code",
   "execution_count": 45,
   "id": "sought-burning",
   "metadata": {},
   "outputs": [],
   "source": [
    "count = 0\n",
    "for key, _ in embs.items():\n",
    "    if(\"v_\" in key and \"_0\" in key):\n",
    "        count+=1"
   ]
  },
  {
   "cell_type": "code",
   "execution_count": 46,
   "id": "comfortable-reply",
   "metadata": {},
   "outputs": [
    {
     "data": {
      "text/plain": [
       "(3637176, 2)"
      ]
     },
     "execution_count": 46,
     "metadata": {},
     "output_type": "execute_result"
    }
   ],
   "source": [
    "mapping.shape"
   ]
  },
  {
   "cell_type": "code",
   "execution_count": 47,
   "id": "quality-vanilla",
   "metadata": {},
   "outputs": [
    {
     "data": {
      "text/plain": [
       "3637179"
      ]
     },
     "execution_count": 47,
     "metadata": {},
     "output_type": "execute_result"
    }
   ],
   "source": [
    "count"
   ]
  },
  {
   "cell_type": "code",
   "execution_count": 48,
   "id": "extra-objective",
   "metadata": {},
   "outputs": [
    {
     "name": "stdout",
     "output_type": "stream",
     "text": [
      "v_oadfioajf\n"
     ]
    }
   ],
   "source": [
    "print(\"v_oadfioajf\")"
   ]
  },
  {
   "cell_type": "code",
   "execution_count": 58,
   "id": "smoking-neighbor",
   "metadata": {},
   "outputs": [
    {
     "data": {
      "text/plain": [
       "'0 0:3569360:1 1:60298:1 2:3634989:1 \\n'"
      ]
     },
     "execution_count": 58,
     "metadata": {},
     "output_type": "execute_result"
    }
   ],
   "source": [
    "save_line"
   ]
  },
  {
   "cell_type": "code",
   "execution_count": 81,
   "id": "victorian-civilization",
   "metadata": {},
   "outputs": [
    {
     "data": {
      "text/plain": [
       "['1 0', '3422065', '1 1', '95477', '1 2', '3633926', '1 ']"
      ]
     },
     "execution_count": 81,
     "metadata": {},
     "output_type": "execute_result"
    }
   ],
   "source": [
    "lines[0].split(':')"
   ]
  },
  {
   "cell_type": "code",
   "execution_count": 82,
   "id": "middle-romance",
   "metadata": {},
   "outputs": [],
   "source": [
    " k = lines[0].split(':')"
   ]
  },
  {
   "cell_type": "code",
   "execution_count": 83,
   "id": "express-advertising",
   "metadata": {},
   "outputs": [
    {
     "data": {
      "text/plain": [
       "('3422065', '95477', '3633926')"
      ]
     },
     "execution_count": 83,
     "metadata": {},
     "output_type": "execute_result"
    }
   ],
   "source": [
    "k[1], k[3], k[5]"
   ]
  },
  {
   "cell_type": "code",
   "execution_count": null,
   "id": "hearing-combat",
   "metadata": {},
   "outputs": [],
   "source": []
  }
 ],
 "metadata": {
  "kernelspec": {
   "display_name": "Python 3",
   "language": "python",
   "name": "python3"
  },
  "language_info": {
   "codemirror_mode": {
    "name": "ipython",
    "version": 3
   },
   "file_extension": ".py",
   "mimetype": "text/x-python",
   "name": "python",
   "nbconvert_exporter": "python",
   "pygments_lexer": "ipython3",
   "version": "3.8.8"
  }
 },
 "nbformat": 4,
 "nbformat_minor": 5
}
