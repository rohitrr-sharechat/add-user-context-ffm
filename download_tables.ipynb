{
 "cells": [
  {
   "cell_type": "code",
   "execution_count": 1,
   "id": "answering-student",
   "metadata": {},
   "outputs": [],
   "source": [
    "from utils.download_from_GCP import download_table_to_local_as_one_file"
   ]
  },
  {
   "cell_type": "code",
   "execution_count": 2,
   "id": "unsigned-techno",
   "metadata": {},
   "outputs": [],
   "source": [
    "table_path = \"maximal-furnace-783.rohitrr.user_activity_bucketed_Hindi_is_like_price_basic\"\n",
    "save_path = \"./train_test_data_models/price/video/Hindi/is_like/\""
   ]
  },
  {
   "cell_type": "code",
   "execution_count": 3,
   "id": "subtle-purchase",
   "metadata": {},
   "outputs": [
    {
     "name": "stdout",
     "output_type": "stream",
     "text": [
      "Downloading table - maximal-furnace-783.rohitrr.user_activity_bucketed_Hindi_is_like_price_basic to gcs\n"
     ]
    },
    {
     "name": "stderr",
     "output_type": "stream",
     "text": [
      "/home/rohitrr/miniconda3/envs/py3.8/lib/python3.8/site-packages/google/auth/_default.py:70: UserWarning: Your application has authenticated using end user credentials from Google Cloud SDK without a quota project. You might receive a \"quota exceeded\" or \"API not enabled\" error. We recommend you rerun `gcloud auth application-default login` and make sure a quota project is added. Or you can use service accounts instead. For more information about service accounts, see https://cloud.google.com/docs/authentication/\n",
      "  warnings.warn(_CLOUD_SDK_CREDENTIALS_WARNING)\n",
      "/home/rohitrr/miniconda3/envs/py3.8/lib/python3.8/site-packages/google/auth/_default.py:70: UserWarning: Your application has authenticated using end user credentials from Google Cloud SDK without a quota project. You might receive a \"quota exceeded\" or \"API not enabled\" error. We recommend you rerun `gcloud auth application-default login` and make sure a quota project is added. Or you can use service accounts instead. For more information about service accounts, see https://cloud.google.com/docs/authentication/\n",
      "  warnings.warn(_CLOUD_SDK_CREDENTIALS_WARNING)\n"
     ]
    },
    {
     "name": "stdout",
     "output_type": "stream",
     "text": [
      "Exported maximal-furnace-783:rohitrr.user_activity_bucketed_Hindi_is_like_price_basic to gs://query_runner_results/user_activity_bucketed_Hindi_is_like_price_basic_2021-06-30_05:23:25_157/*.csv\n",
      "Downloading from gcs_folder_name user_activity_bucketed_Hindi_is_like_price_basic_2021-06-30_05:23:25_157 to local\n"
     ]
    },
    {
     "name": "stderr",
     "output_type": "stream",
     "text": [
      "/home/rohitrr/miniconda3/envs/py3.8/lib/python3.8/site-packages/google/auth/_default.py:70: UserWarning: Your application has authenticated using end user credentials from Google Cloud SDK without a quota project. You might receive a \"quota exceeded\" or \"API not enabled\" error. We recommend you rerun `gcloud auth application-default login` and make sure a quota project is added. Or you can use service accounts instead. For more information about service accounts, see https://cloud.google.com/docs/authentication/\n",
      "  warnings.warn(_CLOUD_SDK_CREDENTIALS_WARNING)\n"
     ]
    },
    {
     "name": "stdout",
     "output_type": "stream",
     "text": [
      "Contents in gs://query_runner_results/user_activity_bucketed_Hindi_is_like_price_basic_2021-06-30_05:23:25_157     transferred to ./train_test_data_models/price/video/Hindi/is_like/temp_download_folder\n",
      "Merging and saving files from ./train_test_data_models/price/video/Hindi/is_like/temp_download_folder to ./train_test_data_models/price/video/Hindi/is_like/\n",
      "Saved file user_buckets.csv in ./train_test_data_models/price/video/Hindi/is_like/\n"
     ]
    }
   ],
   "source": [
    "download_table_to_local_as_one_file(table_path, save_path, out_file_name=\"user_buckets.csv\")"
   ]
  },
  {
   "cell_type": "code",
   "execution_count": null,
   "id": "printable-victorian",
   "metadata": {},
   "outputs": [],
   "source": []
  }
 ],
 "metadata": {
  "kernelspec": {
   "display_name": "Python 3",
   "language": "python",
   "name": "python3"
  },
  "language_info": {
   "codemirror_mode": {
    "name": "ipython",
    "version": 3
   },
   "file_extension": ".py",
   "mimetype": "text/x-python",
   "name": "python",
   "nbconvert_exporter": "python",
   "pygments_lexer": "ipython3",
   "version": "3.8.8"
  }
 },
 "nbformat": 4,
 "nbformat_minor": 5
}
