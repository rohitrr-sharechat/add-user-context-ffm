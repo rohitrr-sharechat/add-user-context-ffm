{
 "cells": [
  {
   "cell_type": "code",
   "execution_count": 1,
   "id": "black-wheel",
   "metadata": {},
   "outputs": [],
   "source": [
    "import numpy as np\n",
    "from utils.download_from_GCP import download_table_to_local_as_one_file\n",
    "import pandas as pd\n",
    "import os\n",
    "from sklearn.metrics import ndcg_score, roc_auc_score\n",
    "from tqdm import tqdm\n",
    "from multiprocessing import Pool\n",
    "import multiprocessing as mp\n",
    "import pathlib\n",
    "import xlearn as xl"
   ]
  },
  {
   "cell_type": "code",
   "execution_count": 2,
   "id": "particular-forward",
   "metadata": {},
   "outputs": [],
   "source": [
    "LANGS = [\n",
    "#     \"Hindi\",\n",
    "    # \"Tamil\",\n",
    "#     \"Telugu\",\n",
    "#     \"Kannada\",\n",
    "    \"Punjabi\",\n",
    "# #     \"Odia\",\n",
    "    \"Bengali\",\n",
    "# #     \"Marathi\",\n",
    "    \"Malayalam\",\n",
    "#     \"Gujarati\",\n",
    "]\n",
    "# DAYS_OF_DATA_CONSIDERED = 7\n",
    "rating_def_dict = {\n",
    "        \"vplay\": \"is_vp_succ\",\n",
    "        \"like\": \"is_like\",\n",
    "# #         \"share\": \"is_share\",\n",
    "# #         \"fav\": \"is_fav\",\n",
    "        \"vplay_skip\": \"is_vp_skip\",\n",
    "        \"vplay2\": \"is_vp_succ2\",\n",
    "    }\n",
    "\n",
    "# user_post_ref_mapping_file_path = \"./train_test_data_models/Bengali/is_vp_succ/user_post_ffm_mapping.csv\"\n",
    "# predicted_results_path = \"./train_test_data_models/Bengali/is_vp_succ/predicted_results/predicted_scores.txt\"\n",
    "# test_file_path = \"./train_test_data_models/Bengali/is_vp_succ/test.txt\"\n",
    "# no_ref_user_post_ref_mapping_file_path = \"./train_test_data_models/Bengali/is_vp_succ/user_post_ffm_mapping.csv\"\n",
    "# no_ref_predicted_results_path = \"./train_test_data_models/Bengali/is_vp_succ/predicted_results/predicted_scores.txt\"\n",
    "# no_ref_test_file_path = \"./train_test_data_models/Bengali/is_vp_succ/test.txt\""
   ]
  },
  {
   "cell_type": "code",
   "execution_count": 3,
   "id": "finite-uganda",
   "metadata": {},
   "outputs": [
    {
     "name": "stdout",
     "output_type": "stream",
     "text": [
      "Moving to Punjabi-is_vp_succ\n"
     ]
    },
    {
     "name": "stderr",
     "output_type": "stream",
     "text": [
      "/home/rohitrr/miniconda3/envs/py3.8/lib/python3.8/site-packages/pandas/core/generic.py:5494: SettingWithCopyWarning: \n",
      "A value is trying to be set on a copy of a slice from a DataFrame.\n",
      "Try using .loc[row_indexer,col_indexer] = value instead\n",
      "\n",
      "See the caveats in the documentation: https://pandas.pydata.org/pandas-docs/stable/user_guide/indexing.html#returning-a-view-versus-a-copy\n",
      "  self[name] = value\n"
     ]
    },
    {
     "name": "stdout",
     "output_type": "stream",
     "text": [
      "Mappings match so proceeding ....\n",
      "Shape before merging - (92487360, 5)\n",
      "Shape after merging - (92487358, 7)\n",
      "Completed Punjabi-is_vp_succ\n",
      "Moving to Punjabi-is_like\n"
     ]
    },
    {
     "name": "stderr",
     "output_type": "stream",
     "text": [
      "/home/rohitrr/miniconda3/envs/py3.8/lib/python3.8/site-packages/pandas/core/generic.py:5494: SettingWithCopyWarning: \n",
      "A value is trying to be set on a copy of a slice from a DataFrame.\n",
      "Try using .loc[row_indexer,col_indexer] = value instead\n",
      "\n",
      "See the caveats in the documentation: https://pandas.pydata.org/pandas-docs/stable/user_guide/indexing.html#returning-a-view-versus-a-copy\n",
      "  self[name] = value\n"
     ]
    },
    {
     "name": "stdout",
     "output_type": "stream",
     "text": [
      "Mappings match so proceeding ....\n",
      "Shape before merging - (72486564, 5)\n",
      "Shape after merging - (72486562, 7)\n",
      "Completed Punjabi-is_like\n",
      "Moving to Punjabi-is_vp_skip\n"
     ]
    },
    {
     "name": "stderr",
     "output_type": "stream",
     "text": [
      "/home/rohitrr/miniconda3/envs/py3.8/lib/python3.8/site-packages/pandas/core/generic.py:5494: SettingWithCopyWarning: \n",
      "A value is trying to be set on a copy of a slice from a DataFrame.\n",
      "Try using .loc[row_indexer,col_indexer] = value instead\n",
      "\n",
      "See the caveats in the documentation: https://pandas.pydata.org/pandas-docs/stable/user_guide/indexing.html#returning-a-view-versus-a-copy\n",
      "  self[name] = value\n"
     ]
    },
    {
     "name": "stdout",
     "output_type": "stream",
     "text": [
      "Mappings match so proceeding ....\n",
      "Shape before merging - (95599735, 5)\n",
      "Shape after merging - (95599733, 7)\n",
      "Completed Punjabi-is_vp_skip\n",
      "Moving to Punjabi-is_vp_succ2\n"
     ]
    },
    {
     "name": "stderr",
     "output_type": "stream",
     "text": [
      "/home/rohitrr/miniconda3/envs/py3.8/lib/python3.8/site-packages/pandas/core/generic.py:5494: SettingWithCopyWarning: \n",
      "A value is trying to be set on a copy of a slice from a DataFrame.\n",
      "Try using .loc[row_indexer,col_indexer] = value instead\n",
      "\n",
      "See the caveats in the documentation: https://pandas.pydata.org/pandas-docs/stable/user_guide/indexing.html#returning-a-view-versus-a-copy\n",
      "  self[name] = value\n"
     ]
    },
    {
     "name": "stdout",
     "output_type": "stream",
     "text": [
      "Mappings match so proceeding ....\n",
      "Shape before merging - (95034750, 5)\n",
      "Shape after merging - (95034748, 7)\n",
      "Completed Punjabi-is_vp_succ2\n",
      "Moving to Bengali-is_vp_succ\n"
     ]
    },
    {
     "name": "stderr",
     "output_type": "stream",
     "text": [
      "/home/rohitrr/miniconda3/envs/py3.8/lib/python3.8/site-packages/pandas/core/generic.py:5494: SettingWithCopyWarning: \n",
      "A value is trying to be set on a copy of a slice from a DataFrame.\n",
      "Try using .loc[row_indexer,col_indexer] = value instead\n",
      "\n",
      "See the caveats in the documentation: https://pandas.pydata.org/pandas-docs/stable/user_guide/indexing.html#returning-a-view-versus-a-copy\n",
      "  self[name] = value\n"
     ]
    },
    {
     "name": "stdout",
     "output_type": "stream",
     "text": [
      "Mappings match so proceeding ....\n",
      "Shape before merging - (30559663, 5)\n",
      "Shape after merging - (30559661, 7)\n",
      "Completed Bengali-is_vp_succ\n",
      "Moving to Bengali-is_like\n"
     ]
    },
    {
     "name": "stderr",
     "output_type": "stream",
     "text": [
      "/home/rohitrr/miniconda3/envs/py3.8/lib/python3.8/site-packages/pandas/core/generic.py:5494: SettingWithCopyWarning: \n",
      "A value is trying to be set on a copy of a slice from a DataFrame.\n",
      "Try using .loc[row_indexer,col_indexer] = value instead\n",
      "\n",
      "See the caveats in the documentation: https://pandas.pydata.org/pandas-docs/stable/user_guide/indexing.html#returning-a-view-versus-a-copy\n",
      "  self[name] = value\n"
     ]
    },
    {
     "name": "stdout",
     "output_type": "stream",
     "text": [
      "Mappings match so proceeding ....\n",
      "Shape before merging - (21279839, 5)\n",
      "Shape after merging - (21279838, 7)\n",
      "Completed Bengali-is_like\n",
      "Moving to Bengali-is_vp_skip\n"
     ]
    },
    {
     "name": "stderr",
     "output_type": "stream",
     "text": [
      "/home/rohitrr/miniconda3/envs/py3.8/lib/python3.8/site-packages/pandas/core/generic.py:5494: SettingWithCopyWarning: \n",
      "A value is trying to be set on a copy of a slice from a DataFrame.\n",
      "Try using .loc[row_indexer,col_indexer] = value instead\n",
      "\n",
      "See the caveats in the documentation: https://pandas.pydata.org/pandas-docs/stable/user_guide/indexing.html#returning-a-view-versus-a-copy\n",
      "  self[name] = value\n"
     ]
    },
    {
     "name": "stdout",
     "output_type": "stream",
     "text": [
      "Mappings match so proceeding ....\n",
      "Shape before merging - (33763782, 5)\n",
      "Shape after merging - (33763780, 7)\n",
      "Completed Bengali-is_vp_skip\n",
      "Moving to Bengali-is_vp_succ2\n"
     ]
    },
    {
     "name": "stderr",
     "output_type": "stream",
     "text": [
      "/home/rohitrr/miniconda3/envs/py3.8/lib/python3.8/site-packages/pandas/core/generic.py:5494: SettingWithCopyWarning: \n",
      "A value is trying to be set on a copy of a slice from a DataFrame.\n",
      "Try using .loc[row_indexer,col_indexer] = value instead\n",
      "\n",
      "See the caveats in the documentation: https://pandas.pydata.org/pandas-docs/stable/user_guide/indexing.html#returning-a-view-versus-a-copy\n",
      "  self[name] = value\n"
     ]
    },
    {
     "name": "stdout",
     "output_type": "stream",
     "text": [
      "Mappings match so proceeding ....\n",
      "Shape before merging - (33226993, 5)\n",
      "Shape after merging - (33226991, 7)\n",
      "Completed Bengali-is_vp_succ2\n",
      "Moving to Malayalam-is_vp_succ\n"
     ]
    },
    {
     "name": "stderr",
     "output_type": "stream",
     "text": [
      "/home/rohitrr/miniconda3/envs/py3.8/lib/python3.8/site-packages/pandas/core/generic.py:5494: SettingWithCopyWarning: \n",
      "A value is trying to be set on a copy of a slice from a DataFrame.\n",
      "Try using .loc[row_indexer,col_indexer] = value instead\n",
      "\n",
      "See the caveats in the documentation: https://pandas.pydata.org/pandas-docs/stable/user_guide/indexing.html#returning-a-view-versus-a-copy\n",
      "  self[name] = value\n"
     ]
    },
    {
     "name": "stdout",
     "output_type": "stream",
     "text": [
      "Mappings match so proceeding ....\n",
      "Shape before merging - (52355773, 5)\n",
      "Shape after merging - (52355771, 7)\n",
      "Completed Malayalam-is_vp_succ\n",
      "Moving to Malayalam-is_like\n"
     ]
    },
    {
     "name": "stderr",
     "output_type": "stream",
     "text": [
      "/home/rohitrr/miniconda3/envs/py3.8/lib/python3.8/site-packages/pandas/core/generic.py:5494: SettingWithCopyWarning: \n",
      "A value is trying to be set on a copy of a slice from a DataFrame.\n",
      "Try using .loc[row_indexer,col_indexer] = value instead\n",
      "\n",
      "See the caveats in the documentation: https://pandas.pydata.org/pandas-docs/stable/user_guide/indexing.html#returning-a-view-versus-a-copy\n",
      "  self[name] = value\n"
     ]
    },
    {
     "name": "stdout",
     "output_type": "stream",
     "text": [
      "Mappings match so proceeding ....\n",
      "Shape before merging - (33462835, 5)\n",
      "Shape after merging - (33462834, 7)\n",
      "Completed Malayalam-is_like\n",
      "Moving to Malayalam-is_vp_skip\n"
     ]
    },
    {
     "name": "stderr",
     "output_type": "stream",
     "text": [
      "/home/rohitrr/miniconda3/envs/py3.8/lib/python3.8/site-packages/pandas/core/generic.py:5494: SettingWithCopyWarning: \n",
      "A value is trying to be set on a copy of a slice from a DataFrame.\n",
      "Try using .loc[row_indexer,col_indexer] = value instead\n",
      "\n",
      "See the caveats in the documentation: https://pandas.pydata.org/pandas-docs/stable/user_guide/indexing.html#returning-a-view-versus-a-copy\n",
      "  self[name] = value\n"
     ]
    },
    {
     "name": "stdout",
     "output_type": "stream",
     "text": [
      "Mappings match so proceeding ....\n",
      "Shape before merging - (55346295, 5)\n",
      "Shape after merging - (55346295, 7)\n",
      "Completed Malayalam-is_vp_skip\n",
      "Moving to Malayalam-is_vp_succ2\n"
     ]
    },
    {
     "name": "stderr",
     "output_type": "stream",
     "text": [
      "/home/rohitrr/miniconda3/envs/py3.8/lib/python3.8/site-packages/pandas/core/generic.py:5494: SettingWithCopyWarning: \n",
      "A value is trying to be set on a copy of a slice from a DataFrame.\n",
      "Try using .loc[row_indexer,col_indexer] = value instead\n",
      "\n",
      "See the caveats in the documentation: https://pandas.pydata.org/pandas-docs/stable/user_guide/indexing.html#returning-a-view-versus-a-copy\n",
      "  self[name] = value\n"
     ]
    },
    {
     "name": "stdout",
     "output_type": "stream",
     "text": [
      "Mappings match so proceeding ....\n",
      "Shape before merging - (54673189, 5)\n",
      "Shape after merging - (54673189, 7)\n",
      "Completed Malayalam-is_vp_succ2\n"
     ]
    }
   ],
   "source": [
    "referrer_level_df = None\n",
    "for lang in LANGS:\n",
    "    for _, rating_def in rating_def_dict.items():\n",
    "        print(f\"Moving to {lang}-{rating_def}\")\n",
    "        user_post_ref_mapping_file_path = f\"./train_test_data_models/{lang}/{rating_def}/user_post_ffm_mapping.csv\"\n",
    "        predicted_results_path = f\"./train_test_data_models/{lang}/{rating_def}/predicted_results/predicted_scores.txt\"\n",
    "        test_file_path = f\"./train_test_data_models/{lang}/{rating_def}/test.txt\"\n",
    "        no_ref_user_post_mapping_file_path = f\"/home/rohitrr/test/ffm_vp_test/train_test_data_models/{lang}/{rating_def}/user_post_ffm_mapping.csv\"\n",
    "        no_ref_predicted_results_path = f\"/home/rohitrr/test/ffm_vp_test/train_test_data_models/{lang}/{rating_def}/predicted_results/predicted_scores.txt\"\n",
    "        no_ref_test_file_path = f\"/home/rohitrr/test/ffm_vp_test/train_test_data_models/{lang}/{rating_def}/test.txt\"\n",
    "        \n",
    "        temp_df = pd.read_csv(user_post_ref_mapping_file_path, delimiter = \"\\t\")\n",
    "        ref_map = temp_df[~temp_df.feature_name.str.contains(\"referrer\")]\n",
    "        mapping_df = temp_df[temp_df.feature_name.str.contains(\"referrer\")]\n",
    "        mapping_df.feature_name = mapping_df.feature_name.apply(lambda name: name[11:])\n",
    "\n",
    "        no_ref_map = pd.read_csv(no_ref_user_post_mapping_file_path, delimiter = \"\\t\")\n",
    "        \n",
    "        if(ref_map.equals(no_ref_map)):\n",
    "            print(\"Mappings match so proceeding ....\")\n",
    "        else:\n",
    "            raise Exception(\"Mappings don't match\")\n",
    "        \n",
    "        with open(predicted_results_path) as f:\n",
    "            lines = f.readlines()\n",
    "            predicted_scores = [float(score.replace('\\n','')) for score in lines]\n",
    "            \n",
    "        referrer_mappings = []\n",
    "        scores = []\n",
    "        user_mappings = []\n",
    "        post_mappings = []\n",
    "        with open(test_file_path) as f:\n",
    "            for l in f:\n",
    "                l_split = l.split(':')\n",
    "                user_mappings.append(int(l_split[1]))\n",
    "                post_mappings.append(int(l_split[3]))\n",
    "                referrer_mappings.append(int(l_split[5]))\n",
    "                scores.append(int(l[0]))\n",
    "        dataframe_dict = {\n",
    "            \"user_mapping\": user_mappings,\n",
    "            \"post_mapping\": post_mappings,\n",
    "            \"referrer_mapping\": referrer_mappings,\n",
    "            \"ref_score\": scores,\n",
    "            \"ref_predicted_score\": predicted_scores\n",
    "            }\n",
    "        ref_df = pd.DataFrame(dataframe_dict)\n",
    "        unique_referrer_mappings = ref_df.referrer_mapping.unique()\n",
    "        \n",
    "        with open(no_ref_predicted_results_path) as f:\n",
    "            lines = f.readlines()\n",
    "            predicted_scores = [float(score.replace('\\n','')) for score in lines]\n",
    "\n",
    "        scores = []\n",
    "        user_mappings = []\n",
    "        post_mappings = []\n",
    "        with open(no_ref_test_file_path) as f:\n",
    "            for l in f:\n",
    "                l_split = l.split(':')\n",
    "                user_mappings.append(int(l_split[1]))\n",
    "                post_mappings.append(int(l_split[3]))\n",
    "                scores.append(int(l[0]))\n",
    "        dataframe_dict = {\n",
    "            \"user_mapping\": user_mappings,\n",
    "            \"post_mapping\": post_mappings,\n",
    "            \"no_ref_score\": scores,\n",
    "            \"no_ref_predicted_score\": predicted_scores\n",
    "            }\n",
    "        no_ref_df = pd.DataFrame(dataframe_dict)\n",
    "        df = pd.merge(ref_df, no_ref_df, on=[\"user_mapping\", \"post_mapping\"])\n",
    "        print(f\"Shape before merging - {ref_df.shape}\")\n",
    "        print(f\"Shape after merging - {df.shape}\")\n",
    "        \n",
    "        ref_auc_scores = []\n",
    "        no_ref_auc_scores = []\n",
    "        number_of_ref_samples = []\n",
    "        langs = []\n",
    "        rating_defs = []\n",
    "        for ref_map in unique_referrer_mappings:\n",
    "            temp_df = df[df.referrer_mapping == ref_map]\n",
    "            ref_scores = temp_df.ref_score.values\n",
    "            ref_predicted_scores = temp_df.ref_predicted_score.values\n",
    "            ref_auc = roc_auc_score(ref_scores, ref_predicted_scores)\n",
    "            ref_auc_scores.append(ref_auc)\n",
    "            \n",
    "            no_ref_scores = temp_df.no_ref_score.values\n",
    "            no_ref_predicted_scores = temp_df.no_ref_predicted_score.values\n",
    "            no_ref_auc = roc_auc_score(no_ref_scores, no_ref_predicted_scores)\n",
    "            no_ref_auc_scores.append(no_ref_auc)\n",
    "            \n",
    "            number_of_ref_samples.append(len(scores))\n",
    "            langs.append(lang)\n",
    "            rating_defs.append(rating_def)\n",
    "\n",
    "        referrer_level_auc = {\n",
    "            \"Language\": langs,\n",
    "            \"Rating Definition\": rating_defs, \n",
    "            \"mapping\": unique_referrer_mappings,\n",
    "            \"referrer_auc\": ref_auc_scores,\n",
    "            \"no_referrer_auc\": no_ref_auc_scores,\n",
    "            \"number_of_samples\": number_of_ref_samples\n",
    "        }\n",
    "        \n",
    "        res_df = pd.DataFrame(referrer_level_auc)\n",
    "        temp_df = pd.merge(res_df, mapping_df, on=[\"mapping\"])\n",
    "        if referrer_level_df is None:\n",
    "            referrer_level_df = temp_df\n",
    "        else:\n",
    "            referrer_level_df = referrer_level_df.append(temp_df, ignore_index = True)\n",
    "        print(f\"Completed {lang}-{rating_def}\")"
   ]
  },
  {
   "cell_type": "code",
   "execution_count": 6,
   "id": "healthy-joint",
   "metadata": {},
   "outputs": [
    {
     "data": {
      "text/html": [
       "<div>\n",
       "<style scoped>\n",
       "    .dataframe tbody tr th:only-of-type {\n",
       "        vertical-align: middle;\n",
       "    }\n",
       "\n",
       "    .dataframe tbody tr th {\n",
       "        vertical-align: top;\n",
       "    }\n",
       "\n",
       "    .dataframe thead th {\n",
       "        text-align: right;\n",
       "    }\n",
       "</style>\n",
       "<table border=\"1\" class=\"dataframe\">\n",
       "  <thead>\n",
       "    <tr style=\"text-align: right;\">\n",
       "      <th></th>\n",
       "      <th>Language</th>\n",
       "      <th>Rating Definition</th>\n",
       "      <th>mapping</th>\n",
       "      <th>referrer_auc</th>\n",
       "      <th>no_referrer_auc</th>\n",
       "      <th>number_of_samples</th>\n",
       "      <th>refferer</th>\n",
       "    </tr>\n",
       "  </thead>\n",
       "  <tbody>\n",
       "    <tr>\n",
       "      <th>0</th>\n",
       "      <td>Punjabi</td>\n",
       "      <td>is_vp_succ</td>\n",
       "      <td>3531454</td>\n",
       "      <td>0.813773</td>\n",
       "      <td>0.812393</td>\n",
       "      <td>92487361</td>\n",
       "      <td>trendingfeed_suggested</td>\n",
       "    </tr>\n",
       "    <tr>\n",
       "      <th>1</th>\n",
       "      <td>Punjabi</td>\n",
       "      <td>is_vp_succ</td>\n",
       "      <td>3531451</td>\n",
       "      <td>0.800636</td>\n",
       "      <td>0.797237</td>\n",
       "      <td>92487361</td>\n",
       "      <td>profilepost</td>\n",
       "    </tr>\n",
       "    <tr>\n",
       "      <th>2</th>\n",
       "      <td>Punjabi</td>\n",
       "      <td>is_vp_succ</td>\n",
       "      <td>3531452</td>\n",
       "      <td>0.774211</td>\n",
       "      <td>0.773816</td>\n",
       "      <td>92487361</td>\n",
       "      <td>tagfeed</td>\n",
       "    </tr>\n",
       "    <tr>\n",
       "      <th>3</th>\n",
       "      <td>Punjabi</td>\n",
       "      <td>is_vp_succ</td>\n",
       "      <td>3531449</td>\n",
       "      <td>0.801454</td>\n",
       "      <td>0.801732</td>\n",
       "      <td>92487361</td>\n",
       "      <td>bucket</td>\n",
       "    </tr>\n",
       "    <tr>\n",
       "      <th>4</th>\n",
       "      <td>Punjabi</td>\n",
       "      <td>is_vp_succ</td>\n",
       "      <td>3531450</td>\n",
       "      <td>0.799211</td>\n",
       "      <td>0.800433</td>\n",
       "      <td>92487361</td>\n",
       "      <td>others</td>\n",
       "    </tr>\n",
       "  </tbody>\n",
       "</table>\n",
       "</div>"
      ],
      "text/plain": [
       "  Language Rating Definition  mapping  referrer_auc  no_referrer_auc  \\\n",
       "0  Punjabi        is_vp_succ  3531454      0.813773         0.812393   \n",
       "1  Punjabi        is_vp_succ  3531451      0.800636         0.797237   \n",
       "2  Punjabi        is_vp_succ  3531452      0.774211         0.773816   \n",
       "3  Punjabi        is_vp_succ  3531449      0.801454         0.801732   \n",
       "4  Punjabi        is_vp_succ  3531450      0.799211         0.800433   \n",
       "\n",
       "   number_of_samples                refferer  \n",
       "0           92487361  trendingfeed_suggested  \n",
       "1           92487361             profilepost  \n",
       "2           92487361                 tagfeed  \n",
       "3           92487361                  bucket  \n",
       "4           92487361                  others  "
      ]
     },
     "execution_count": 6,
     "metadata": {},
     "output_type": "execute_result"
    }
   ],
   "source": [
    "referrer_level_df.head(5)"
   ]
  },
  {
   "cell_type": "code",
   "execution_count": 5,
   "id": "unlimited-dairy",
   "metadata": {},
   "outputs": [],
   "source": [
    "referrer_level_df = referrer_level_df.rename(columns = {\"feature_name\": \"refferer\"})\n",
    "referrer_level_df.to_csv(\"results/referrer_level_metrics_compare.csv\", index = False)"
   ]
  },
  {
   "cell_type": "markdown",
   "id": "tested-devil",
   "metadata": {},
   "source": [
    "### Scrap code"
   ]
  },
  {
   "cell_type": "code",
   "execution_count": 47,
   "id": "amazing-oliver",
   "metadata": {},
   "outputs": [],
   "source": [
    "mapping_df = pd.read_csv(user_post_ref_mapping_file_path, delimiter = \"\\t\")\n",
    "mapping_df = mapping_df[mapping_df.feature_name.str.contains(\"referrer\")]\n",
    "mapping_df.feature_name = mapping_df.feature_name.apply(lambda name: name[11:])"
   ]
  },
  {
   "cell_type": "code",
   "execution_count": 48,
   "id": "paperback-anatomy",
   "metadata": {},
   "outputs": [],
   "source": [
    "with open(predicted_results_path) as f:\n",
    "    lines = f.readlines()\n",
    "    predicted_scores = [float(score.replace('\\n','')) for score in lines]\n",
    "referrer_mappings = []\n",
    "scores = []\n",
    "with open(test_file_path) as f:\n",
    "    for l in f:\n",
    "        referrer_mappings.append(int(l.split(':')[5]))\n",
    "        scores.append(int(l[0]))\n",
    "dataframe_dict = {\n",
    "    \"referrer_mapping\": referrer_mappings,\n",
    "    \"score\": scores,\n",
    "    \"predicted_score\": predicted_scores\n",
    "    }\n",
    "df = pd.DataFrame(dataframe_dict)"
   ]
  },
  {
   "cell_type": "code",
   "execution_count": 49,
   "id": "sweet-convenience",
   "metadata": {},
   "outputs": [],
   "source": [
    "unique_referrer_mappings = df.referrer_mapping.unique()\n",
    "ref_auc_scores = []\n",
    "number_of_ref_samples = []\n",
    "for ref_map in unique_referrer_mappings:\n",
    "    temp_df = df[df.referrer_mapping == ref_map]\n",
    "    scores = temp_df.score.values\n",
    "    predicted_scores = temp_df.predicted_score.values\n",
    "    ref_auc = roc_auc_score(scores, predicted_scores)\n",
    "    ref_auc_scores.append(ref_auc)\n",
    "    number_of_ref_samples.append(len(scores))\n",
    "    \n",
    "referrer_level_auc = {\n",
    "    \"mapping\": unique_referrer_mappings,\n",
    "    \"auc\": ref_auc_scores,\n",
    "    \"number_of_samples\": number_of_ref_samples\n",
    "}\n",
    "res_df = pd.DataFrame(referrer_level_auc)"
   ]
  },
  {
   "cell_type": "code",
   "execution_count": 50,
   "id": "objective-concrete",
   "metadata": {},
   "outputs": [],
   "source": [
    "referrer_level_df = pd.merge(res_df, mapping_df, on=[\"mapping\"])"
   ]
  },
  {
   "cell_type": "code",
   "execution_count": 51,
   "id": "prime-edgar",
   "metadata": {},
   "outputs": [
    {
     "data": {
      "text/html": [
       "<div>\n",
       "<style scoped>\n",
       "    .dataframe tbody tr th:only-of-type {\n",
       "        vertical-align: middle;\n",
       "    }\n",
       "\n",
       "    .dataframe tbody tr th {\n",
       "        vertical-align: top;\n",
       "    }\n",
       "\n",
       "    .dataframe thead th {\n",
       "        text-align: right;\n",
       "    }\n",
       "</style>\n",
       "<table border=\"1\" class=\"dataframe\">\n",
       "  <thead>\n",
       "    <tr style=\"text-align: right;\">\n",
       "      <th></th>\n",
       "      <th>mapping</th>\n",
       "      <th>auc</th>\n",
       "      <th>number_of_samples</th>\n",
       "      <th>feature_name</th>\n",
       "    </tr>\n",
       "  </thead>\n",
       "  <tbody>\n",
       "    <tr>\n",
       "      <th>0</th>\n",
       "      <td>1974602</td>\n",
       "      <td>0.820723</td>\n",
       "      <td>187308</td>\n",
       "      <td>profilepost</td>\n",
       "    </tr>\n",
       "    <tr>\n",
       "      <th>1</th>\n",
       "      <td>1974603</td>\n",
       "      <td>0.800529</td>\n",
       "      <td>404392</td>\n",
       "      <td>tagfeed</td>\n",
       "    </tr>\n",
       "    <tr>\n",
       "      <th>2</th>\n",
       "      <td>1974606</td>\n",
       "      <td>0.829898</td>\n",
       "      <td>632503</td>\n",
       "      <td>videofeed</td>\n",
       "    </tr>\n",
       "    <tr>\n",
       "      <th>3</th>\n",
       "      <td>1974604</td>\n",
       "      <td>0.843520</td>\n",
       "      <td>1017231</td>\n",
       "      <td>trendingfeed</td>\n",
       "    </tr>\n",
       "    <tr>\n",
       "      <th>4</th>\n",
       "      <td>1974605</td>\n",
       "      <td>0.829688</td>\n",
       "      <td>17750572</td>\n",
       "      <td>trendingfeed_suggested</td>\n",
       "    </tr>\n",
       "    <tr>\n",
       "      <th>5</th>\n",
       "      <td>1974600</td>\n",
       "      <td>0.820325</td>\n",
       "      <td>1766976</td>\n",
       "      <td>bucket</td>\n",
       "    </tr>\n",
       "    <tr>\n",
       "      <th>6</th>\n",
       "      <td>1974607</td>\n",
       "      <td>0.842179</td>\n",
       "      <td>7780777</td>\n",
       "      <td>videofeed_suggested</td>\n",
       "    </tr>\n",
       "    <tr>\n",
       "      <th>7</th>\n",
       "      <td>1974601</td>\n",
       "      <td>0.817584</td>\n",
       "      <td>1019904</td>\n",
       "      <td>others</td>\n",
       "    </tr>\n",
       "  </tbody>\n",
       "</table>\n",
       "</div>"
      ],
      "text/plain": [
       "   mapping       auc  number_of_samples            feature_name\n",
       "0  1974602  0.820723             187308             profilepost\n",
       "1  1974603  0.800529             404392                 tagfeed\n",
       "2  1974606  0.829898             632503               videofeed\n",
       "3  1974604  0.843520            1017231            trendingfeed\n",
       "4  1974605  0.829688           17750572  trendingfeed_suggested\n",
       "5  1974600  0.820325            1766976                  bucket\n",
       "6  1974607  0.842179            7780777     videofeed_suggested\n",
       "7  1974601  0.817584            1019904                  others"
      ]
     },
     "execution_count": 51,
     "metadata": {},
     "output_type": "execute_result"
    }
   ],
   "source": [
    "referrer_level_df"
   ]
  },
  {
   "cell_type": "code",
   "execution_count": 4,
   "id": "romantic-singapore",
   "metadata": {},
   "outputs": [
    {
     "data": {
      "text/html": [
       "<div>\n",
       "<style scoped>\n",
       "    .dataframe tbody tr th:only-of-type {\n",
       "        vertical-align: middle;\n",
       "    }\n",
       "\n",
       "    .dataframe tbody tr th {\n",
       "        vertical-align: top;\n",
       "    }\n",
       "\n",
       "    .dataframe thead th {\n",
       "        text-align: right;\n",
       "    }\n",
       "</style>\n",
       "<table border=\"1\" class=\"dataframe\">\n",
       "  <thead>\n",
       "    <tr style=\"text-align: right;\">\n",
       "      <th></th>\n",
       "      <th>feature_name</th>\n",
       "      <th>mapping</th>\n",
       "    </tr>\n",
       "  </thead>\n",
       "  <tbody>\n",
       "    <tr>\n",
       "      <th>0</th>\n",
       "      <td>1_post_1000114392</td>\n",
       "      <td>1</td>\n",
       "    </tr>\n",
       "    <tr>\n",
       "      <th>1</th>\n",
       "      <td>1_post_1000320092</td>\n",
       "      <td>2</td>\n",
       "    </tr>\n",
       "    <tr>\n",
       "      <th>2</th>\n",
       "      <td>1_post_1000415692</td>\n",
       "      <td>3</td>\n",
       "    </tr>\n",
       "    <tr>\n",
       "      <th>3</th>\n",
       "      <td>1_post_1000542292</td>\n",
       "      <td>4</td>\n",
       "    </tr>\n",
       "    <tr>\n",
       "      <th>4</th>\n",
       "      <td>1_post_1001177982</td>\n",
       "      <td>5</td>\n",
       "    </tr>\n",
       "  </tbody>\n",
       "</table>\n",
       "</div>"
      ],
      "text/plain": [
       "        feature_name  mapping\n",
       "0  1_post_1000114392        1\n",
       "1  1_post_1000320092        2\n",
       "2  1_post_1000415692        3\n",
       "3  1_post_1000542292        4\n",
       "4  1_post_1001177982        5"
      ]
     },
     "execution_count": 4,
     "metadata": {},
     "output_type": "execute_result"
    }
   ],
   "source": [
    "df.head(5)"
   ]
  },
  {
   "cell_type": "code",
   "execution_count": 11,
   "id": "potential-pledge",
   "metadata": {},
   "outputs": [],
   "source": [
    "with open(predicted_scores_path) as f:\n",
    "    l2 = f.readlines()"
   ]
  },
  {
   "cell_type": "code",
   "execution_count": 12,
   "id": "nutritional-newman",
   "metadata": {},
   "outputs": [
    {
     "data": {
      "text/plain": [
       "'0.0518904\\n'"
      ]
     },
     "execution_count": 12,
     "metadata": {},
     "output_type": "execute_result"
    }
   ],
   "source": [
    "l2[0]"
   ]
  },
  {
   "cell_type": "code",
   "execution_count": 19,
   "id": "illegal-homeless",
   "metadata": {},
   "outputs": [
    {
     "data": {
      "text/html": [
       "<div>\n",
       "<style scoped>\n",
       "    .dataframe tbody tr th:only-of-type {\n",
       "        vertical-align: middle;\n",
       "    }\n",
       "\n",
       "    .dataframe tbody tr th {\n",
       "        vertical-align: top;\n",
       "    }\n",
       "\n",
       "    .dataframe thead th {\n",
       "        text-align: right;\n",
       "    }\n",
       "</style>\n",
       "<table border=\"1\" class=\"dataframe\">\n",
       "  <thead>\n",
       "    <tr style=\"text-align: right;\">\n",
       "      <th></th>\n",
       "      <th>referrer_mapping</th>\n",
       "      <th>score</th>\n",
       "      <th>predicted_score</th>\n",
       "    </tr>\n",
       "  </thead>\n",
       "  <tbody>\n",
       "    <tr>\n",
       "      <th>0</th>\n",
       "      <td>1974602</td>\n",
       "      <td>0</td>\n",
       "      <td>0.051890</td>\n",
       "    </tr>\n",
       "    <tr>\n",
       "      <th>1</th>\n",
       "      <td>1974602</td>\n",
       "      <td>0</td>\n",
       "      <td>0.029875</td>\n",
       "    </tr>\n",
       "    <tr>\n",
       "      <th>2</th>\n",
       "      <td>1974602</td>\n",
       "      <td>0</td>\n",
       "      <td>0.003024</td>\n",
       "    </tr>\n",
       "    <tr>\n",
       "      <th>3</th>\n",
       "      <td>1974602</td>\n",
       "      <td>0</td>\n",
       "      <td>0.065021</td>\n",
       "    </tr>\n",
       "    <tr>\n",
       "      <th>4</th>\n",
       "      <td>1974602</td>\n",
       "      <td>0</td>\n",
       "      <td>0.006701</td>\n",
       "    </tr>\n",
       "  </tbody>\n",
       "</table>\n",
       "</div>"
      ],
      "text/plain": [
       "   referrer_mapping  score  predicted_score\n",
       "0           1974602      0         0.051890\n",
       "1           1974602      0         0.029875\n",
       "2           1974602      0         0.003024\n",
       "3           1974602      0         0.065021\n",
       "4           1974602      0         0.006701"
      ]
     },
     "execution_count": 19,
     "metadata": {},
     "output_type": "execute_result"
    }
   ],
   "source": [
    "df.head(5)"
   ]
  },
  {
   "cell_type": "code",
   "execution_count": 21,
   "id": "similar-nylon",
   "metadata": {},
   "outputs": [],
   "source": [
    "unique_referrer_mappings = df.referrer_mapping.unique()"
   ]
  },
  {
   "cell_type": "code",
   "execution_count": 37,
   "id": "verified-medicare",
   "metadata": {},
   "outputs": [],
   "source": [
    "unique_referrer_mappings = df.referrer_mapping.unique()\n",
    "ref_auc_scores = []\n",
    "number_of_ref_samples = []\n",
    "for ref_map in unique_referrer_mappings:\n",
    "    temp_df = df[df.referrer_mapping == ref_map]\n",
    "    scores = temp_df.score.values\n",
    "    predicted_scores = temp_df.predicted_score.values\n",
    "    ref_auc = roc_auc_score(scores, predicted_scores)\n",
    "    ref_auc_scores.append(ref_auc)\n",
    "    number_of_ref_samples.append(len(scores))"
   ]
  },
  {
   "cell_type": "code",
   "execution_count": 38,
   "id": "technical-peoples",
   "metadata": {},
   "outputs": [],
   "source": [
    "referrer_level_auc = {\n",
    "    \"mapping\": unique_referrer_mappings,\n",
    "    \"auc\": ref_auc_scores,\n",
    "    \"number_of_samples\": number_of_ref_samples\n",
    "}\n",
    "res_df = pd.DataFrame(referrer_level_auc)"
   ]
  },
  {
   "cell_type": "code",
   "execution_count": 72,
   "id": "classical-cowboy",
   "metadata": {},
   "outputs": [
    {
     "data": {
      "text/html": [
       "<div>\n",
       "<style scoped>\n",
       "    .dataframe tbody tr th:only-of-type {\n",
       "        vertical-align: middle;\n",
       "    }\n",
       "\n",
       "    .dataframe tbody tr th {\n",
       "        vertical-align: top;\n",
       "    }\n",
       "\n",
       "    .dataframe thead th {\n",
       "        text-align: right;\n",
       "    }\n",
       "</style>\n",
       "<table border=\"1\" class=\"dataframe\">\n",
       "  <thead>\n",
       "    <tr style=\"text-align: right;\">\n",
       "      <th></th>\n",
       "      <th>mapping</th>\n",
       "      <th>feature_name</th>\n",
       "    </tr>\n",
       "  </thead>\n",
       "  <tbody>\n",
       "    <tr>\n",
       "      <th>0</th>\n",
       "      <td>3531454</td>\n",
       "      <td>trendingfeed_suggested</td>\n",
       "    </tr>\n",
       "    <tr>\n",
       "      <th>1</th>\n",
       "      <td>3531451</td>\n",
       "      <td>profilepost</td>\n",
       "    </tr>\n",
       "    <tr>\n",
       "      <th>2</th>\n",
       "      <td>3531452</td>\n",
       "      <td>tagfeed</td>\n",
       "    </tr>\n",
       "    <tr>\n",
       "      <th>3</th>\n",
       "      <td>3531449</td>\n",
       "      <td>bucket</td>\n",
       "    </tr>\n",
       "    <tr>\n",
       "      <th>4</th>\n",
       "      <td>3531450</td>\n",
       "      <td>others</td>\n",
       "    </tr>\n",
       "    <tr>\n",
       "      <th>...</th>\n",
       "      <td>...</td>\n",
       "      <td>...</td>\n",
       "    </tr>\n",
       "    <tr>\n",
       "      <th>91</th>\n",
       "      <td>2674797</td>\n",
       "      <td>tagfeed</td>\n",
       "    </tr>\n",
       "    <tr>\n",
       "      <th>92</th>\n",
       "      <td>2674800</td>\n",
       "      <td>videofeed</td>\n",
       "    </tr>\n",
       "    <tr>\n",
       "      <th>93</th>\n",
       "      <td>2674798</td>\n",
       "      <td>trendingfeed</td>\n",
       "    </tr>\n",
       "    <tr>\n",
       "      <th>94</th>\n",
       "      <td>2674794</td>\n",
       "      <td>bucket</td>\n",
       "    </tr>\n",
       "    <tr>\n",
       "      <th>95</th>\n",
       "      <td>2674796</td>\n",
       "      <td>profilepost</td>\n",
       "    </tr>\n",
       "  </tbody>\n",
       "</table>\n",
       "<p>96 rows × 2 columns</p>\n",
       "</div>"
      ],
      "text/plain": [
       "    mapping            feature_name\n",
       "0   3531454  trendingfeed_suggested\n",
       "1   3531451             profilepost\n",
       "2   3531452                 tagfeed\n",
       "3   3531449                  bucket\n",
       "4   3531450                  others\n",
       "..      ...                     ...\n",
       "91  2674797                 tagfeed\n",
       "92  2674800               videofeed\n",
       "93  2674798            trendingfeed\n",
       "94  2674794                  bucket\n",
       "95  2674796             profilepost\n",
       "\n",
       "[96 rows x 2 columns]"
      ]
     },
     "execution_count": 72,
     "metadata": {},
     "output_type": "execute_result"
    }
   ],
   "source": [
    "referrer_level_df[[\"mapping\", \"feature_name\"]]"
   ]
  },
  {
   "cell_type": "code",
   "execution_count": 32,
   "id": "superb-roberts",
   "metadata": {},
   "outputs": [
    {
     "data": {
      "text/html": [
       "<div>\n",
       "<style scoped>\n",
       "    .dataframe tbody tr th:only-of-type {\n",
       "        vertical-align: middle;\n",
       "    }\n",
       "\n",
       "    .dataframe tbody tr th {\n",
       "        vertical-align: top;\n",
       "    }\n",
       "\n",
       "    .dataframe thead th {\n",
       "        text-align: right;\n",
       "    }\n",
       "</style>\n",
       "<table border=\"1\" class=\"dataframe\">\n",
       "  <thead>\n",
       "    <tr style=\"text-align: right;\">\n",
       "      <th></th>\n",
       "      <th>feature_name</th>\n",
       "      <th>mapping</th>\n",
       "    </tr>\n",
       "  </thead>\n",
       "  <tbody>\n",
       "    <tr>\n",
       "      <th>1974599</th>\n",
       "      <td>3_referrer_bucket</td>\n",
       "      <td>1974600</td>\n",
       "    </tr>\n",
       "    <tr>\n",
       "      <th>1974600</th>\n",
       "      <td>3_referrer_others</td>\n",
       "      <td>1974601</td>\n",
       "    </tr>\n",
       "    <tr>\n",
       "      <th>1974601</th>\n",
       "      <td>3_referrer_profilepost</td>\n",
       "      <td>1974602</td>\n",
       "    </tr>\n",
       "    <tr>\n",
       "      <th>1974602</th>\n",
       "      <td>3_referrer_tagfeed</td>\n",
       "      <td>1974603</td>\n",
       "    </tr>\n",
       "    <tr>\n",
       "      <th>1974603</th>\n",
       "      <td>3_referrer_trendingfeed</td>\n",
       "      <td>1974604</td>\n",
       "    </tr>\n",
       "    <tr>\n",
       "      <th>1974604</th>\n",
       "      <td>3_referrer_trendingfeed_suggested</td>\n",
       "      <td>1974605</td>\n",
       "    </tr>\n",
       "    <tr>\n",
       "      <th>1974605</th>\n",
       "      <td>3_referrer_videofeed</td>\n",
       "      <td>1974606</td>\n",
       "    </tr>\n",
       "    <tr>\n",
       "      <th>1974606</th>\n",
       "      <td>3_referrer_videofeed_suggested</td>\n",
       "      <td>1974607</td>\n",
       "    </tr>\n",
       "  </tbody>\n",
       "</table>\n",
       "</div>"
      ],
      "text/plain": [
       "                              feature_name  mapping\n",
       "1974599                  3_referrer_bucket  1974600\n",
       "1974600                  3_referrer_others  1974601\n",
       "1974601             3_referrer_profilepost  1974602\n",
       "1974602                 3_referrer_tagfeed  1974603\n",
       "1974603            3_referrer_trendingfeed  1974604\n",
       "1974604  3_referrer_trendingfeed_suggested  1974605\n",
       "1974605               3_referrer_videofeed  1974606\n",
       "1974606     3_referrer_videofeed_suggested  1974607"
      ]
     },
     "execution_count": 32,
     "metadata": {},
     "output_type": "execute_result"
    }
   ],
   "source": [
    "mapping_df"
   ]
  },
  {
   "cell_type": "code",
   "execution_count": 40,
   "id": "marked-tobago",
   "metadata": {},
   "outputs": [
    {
     "data": {
      "text/html": [
       "<div>\n",
       "<style scoped>\n",
       "    .dataframe tbody tr th:only-of-type {\n",
       "        vertical-align: middle;\n",
       "    }\n",
       "\n",
       "    .dataframe tbody tr th {\n",
       "        vertical-align: top;\n",
       "    }\n",
       "\n",
       "    .dataframe thead th {\n",
       "        text-align: right;\n",
       "    }\n",
       "</style>\n",
       "<table border=\"1\" class=\"dataframe\">\n",
       "  <thead>\n",
       "    <tr style=\"text-align: right;\">\n",
       "      <th></th>\n",
       "      <th>mapping</th>\n",
       "      <th>auc</th>\n",
       "      <th>number_of_samples</th>\n",
       "      <th>feature_name</th>\n",
       "    </tr>\n",
       "  </thead>\n",
       "  <tbody>\n",
       "    <tr>\n",
       "      <th>0</th>\n",
       "      <td>1974602</td>\n",
       "      <td>0.820723</td>\n",
       "      <td>187308</td>\n",
       "      <td>3_referrer_profilepost</td>\n",
       "    </tr>\n",
       "    <tr>\n",
       "      <th>1</th>\n",
       "      <td>1974603</td>\n",
       "      <td>0.800529</td>\n",
       "      <td>404392</td>\n",
       "      <td>3_referrer_tagfeed</td>\n",
       "    </tr>\n",
       "    <tr>\n",
       "      <th>2</th>\n",
       "      <td>1974606</td>\n",
       "      <td>0.829898</td>\n",
       "      <td>632503</td>\n",
       "      <td>3_referrer_videofeed</td>\n",
       "    </tr>\n",
       "    <tr>\n",
       "      <th>3</th>\n",
       "      <td>1974604</td>\n",
       "      <td>0.843520</td>\n",
       "      <td>1017231</td>\n",
       "      <td>3_referrer_trendingfeed</td>\n",
       "    </tr>\n",
       "    <tr>\n",
       "      <th>4</th>\n",
       "      <td>1974605</td>\n",
       "      <td>0.829688</td>\n",
       "      <td>17750572</td>\n",
       "      <td>3_referrer_trendingfeed_suggested</td>\n",
       "    </tr>\n",
       "    <tr>\n",
       "      <th>5</th>\n",
       "      <td>1974600</td>\n",
       "      <td>0.820325</td>\n",
       "      <td>1766976</td>\n",
       "      <td>3_referrer_bucket</td>\n",
       "    </tr>\n",
       "    <tr>\n",
       "      <th>6</th>\n",
       "      <td>1974607</td>\n",
       "      <td>0.842179</td>\n",
       "      <td>7780777</td>\n",
       "      <td>3_referrer_videofeed_suggested</td>\n",
       "    </tr>\n",
       "    <tr>\n",
       "      <th>7</th>\n",
       "      <td>1974601</td>\n",
       "      <td>0.817584</td>\n",
       "      <td>1019904</td>\n",
       "      <td>3_referrer_others</td>\n",
       "    </tr>\n",
       "  </tbody>\n",
       "</table>\n",
       "</div>"
      ],
      "text/plain": [
       "   mapping       auc  number_of_samples                       feature_name\n",
       "0  1974602  0.820723             187308             3_referrer_profilepost\n",
       "1  1974603  0.800529             404392                 3_referrer_tagfeed\n",
       "2  1974606  0.829898             632503               3_referrer_videofeed\n",
       "3  1974604  0.843520            1017231            3_referrer_trendingfeed\n",
       "4  1974605  0.829688           17750572  3_referrer_trendingfeed_suggested\n",
       "5  1974600  0.820325            1766976                  3_referrer_bucket\n",
       "6  1974607  0.842179            7780777     3_referrer_videofeed_suggested\n",
       "7  1974601  0.817584            1019904                  3_referrer_others"
      ]
     },
     "execution_count": 40,
     "metadata": {},
     "output_type": "execute_result"
    }
   ],
   "source": [
    "pd.merge(res_df, mapping_df, on=[\"mapping\"])"
   ]
  },
  {
   "cell_type": "code",
   "execution_count": 146,
   "id": "interesting-flashing",
   "metadata": {},
   "outputs": [
    {
     "name": "stdout",
     "output_type": "stream",
     "text": [
      "Moving to Punjabi-is_vp_succ\n"
     ]
    },
    {
     "ename": "KeyboardInterrupt",
     "evalue": "",
     "output_type": "error",
     "traceback": [
      "\u001b[0;31m---------------------------------------------------------------------------\u001b[0m",
      "\u001b[0;31mKeyboardInterrupt\u001b[0m                         Traceback (most recent call last)",
      "\u001b[0;32m<ipython-input-146-ef1780dac98b>\u001b[0m in \u001b[0;36m<module>\u001b[0;34m\u001b[0m\n\u001b[1;32m      8\u001b[0m \u001b[0;34m\u001b[0m\u001b[0m\n\u001b[1;32m      9\u001b[0m         \u001b[0mmapping_df\u001b[0m \u001b[0;34m=\u001b[0m \u001b[0mpd\u001b[0m\u001b[0;34m.\u001b[0m\u001b[0mread_csv\u001b[0m\u001b[0;34m(\u001b[0m\u001b[0muser_post_ref_mapping_file_path\u001b[0m\u001b[0;34m,\u001b[0m \u001b[0mdelimiter\u001b[0m \u001b[0;34m=\u001b[0m \u001b[0;34m\"\\t\"\u001b[0m\u001b[0;34m)\u001b[0m\u001b[0;34m\u001b[0m\u001b[0;34m\u001b[0m\u001b[0m\n\u001b[0;32m---> 10\u001b[0;31m         \u001b[0mmapping_df\u001b[0m \u001b[0;34m=\u001b[0m \u001b[0mmapping_df\u001b[0m\u001b[0;34m[\u001b[0m\u001b[0mmapping_df\u001b[0m\u001b[0;34m.\u001b[0m\u001b[0mfeature_name\u001b[0m\u001b[0;34m.\u001b[0m\u001b[0mstr\u001b[0m\u001b[0;34m.\u001b[0m\u001b[0mcontains\u001b[0m\u001b[0;34m(\u001b[0m\u001b[0;34m\"referrer\"\u001b[0m\u001b[0;34m)\u001b[0m\u001b[0;34m]\u001b[0m\u001b[0;34m\u001b[0m\u001b[0;34m\u001b[0m\u001b[0m\n\u001b[0m\u001b[1;32m     11\u001b[0m         \u001b[0mmapping_df\u001b[0m\u001b[0;34m.\u001b[0m\u001b[0mfeature_name\u001b[0m \u001b[0;34m=\u001b[0m \u001b[0mmapping_df\u001b[0m\u001b[0;34m.\u001b[0m\u001b[0mfeature_name\u001b[0m\u001b[0;34m.\u001b[0m\u001b[0mapply\u001b[0m\u001b[0;34m(\u001b[0m\u001b[0;32mlambda\u001b[0m \u001b[0mname\u001b[0m\u001b[0;34m:\u001b[0m \u001b[0mname\u001b[0m\u001b[0;34m[\u001b[0m\u001b[0;36m11\u001b[0m\u001b[0;34m:\u001b[0m\u001b[0;34m]\u001b[0m\u001b[0;34m)\u001b[0m\u001b[0;34m\u001b[0m\u001b[0;34m\u001b[0m\u001b[0m\n\u001b[1;32m     12\u001b[0m \u001b[0;34m\u001b[0m\u001b[0m\n",
      "\u001b[0;32m~/miniconda3/envs/py3.8/lib/python3.8/site-packages/pandas/core/strings/accessor.py\u001b[0m in \u001b[0;36mwrapper\u001b[0;34m(self, *args, **kwargs)\u001b[0m\n\u001b[1;32m     99\u001b[0m                 )\n\u001b[1;32m    100\u001b[0m                 \u001b[0;32mraise\u001b[0m \u001b[0mTypeError\u001b[0m\u001b[0;34m(\u001b[0m\u001b[0mmsg\u001b[0m\u001b[0;34m)\u001b[0m\u001b[0;34m\u001b[0m\u001b[0;34m\u001b[0m\u001b[0m\n\u001b[0;32m--> 101\u001b[0;31m             \u001b[0;32mreturn\u001b[0m \u001b[0mfunc\u001b[0m\u001b[0;34m(\u001b[0m\u001b[0mself\u001b[0m\u001b[0;34m,\u001b[0m \u001b[0;34m*\u001b[0m\u001b[0margs\u001b[0m\u001b[0;34m,\u001b[0m \u001b[0;34m**\u001b[0m\u001b[0mkwargs\u001b[0m\u001b[0;34m)\u001b[0m\u001b[0;34m\u001b[0m\u001b[0;34m\u001b[0m\u001b[0m\n\u001b[0m\u001b[1;32m    102\u001b[0m \u001b[0;34m\u001b[0m\u001b[0m\n\u001b[1;32m    103\u001b[0m         \u001b[0mwrapper\u001b[0m\u001b[0;34m.\u001b[0m\u001b[0m__name__\u001b[0m \u001b[0;34m=\u001b[0m \u001b[0mfunc_name\u001b[0m\u001b[0;34m\u001b[0m\u001b[0;34m\u001b[0m\u001b[0m\n",
      "\u001b[0;32m~/miniconda3/envs/py3.8/lib/python3.8/site-packages/pandas/core/strings/accessor.py\u001b[0m in \u001b[0;36mcontains\u001b[0;34m(self, pat, case, flags, na, regex)\u001b[0m\n\u001b[1;32m   1108\u001b[0m         \u001b[0mdtype\u001b[0m\u001b[0;34m:\u001b[0m \u001b[0mbool\u001b[0m\u001b[0;34m\u001b[0m\u001b[0;34m\u001b[0m\u001b[0m\n\u001b[1;32m   1109\u001b[0m         \"\"\"\n\u001b[0;32m-> 1110\u001b[0;31m         \u001b[0mresult\u001b[0m \u001b[0;34m=\u001b[0m \u001b[0mself\u001b[0m\u001b[0;34m.\u001b[0m\u001b[0m_data\u001b[0m\u001b[0;34m.\u001b[0m\u001b[0marray\u001b[0m\u001b[0;34m.\u001b[0m\u001b[0m_str_contains\u001b[0m\u001b[0;34m(\u001b[0m\u001b[0mpat\u001b[0m\u001b[0;34m,\u001b[0m \u001b[0mcase\u001b[0m\u001b[0;34m,\u001b[0m \u001b[0mflags\u001b[0m\u001b[0;34m,\u001b[0m \u001b[0mna\u001b[0m\u001b[0;34m,\u001b[0m \u001b[0mregex\u001b[0m\u001b[0;34m)\u001b[0m\u001b[0;34m\u001b[0m\u001b[0;34m\u001b[0m\u001b[0m\n\u001b[0m\u001b[1;32m   1111\u001b[0m         \u001b[0;32mreturn\u001b[0m \u001b[0mself\u001b[0m\u001b[0;34m.\u001b[0m\u001b[0m_wrap_result\u001b[0m\u001b[0;34m(\u001b[0m\u001b[0mresult\u001b[0m\u001b[0;34m,\u001b[0m \u001b[0mfill_value\u001b[0m\u001b[0;34m=\u001b[0m\u001b[0mna\u001b[0m\u001b[0;34m,\u001b[0m \u001b[0mreturns_string\u001b[0m\u001b[0;34m=\u001b[0m\u001b[0;32mFalse\u001b[0m\u001b[0;34m)\u001b[0m\u001b[0;34m\u001b[0m\u001b[0;34m\u001b[0m\u001b[0m\n\u001b[1;32m   1112\u001b[0m \u001b[0;34m\u001b[0m\u001b[0m\n",
      "\u001b[0;32m~/miniconda3/envs/py3.8/lib/python3.8/site-packages/pandas/core/strings/object_array.py\u001b[0m in \u001b[0;36m_str_contains\u001b[0;34m(self, pat, case, flags, na, regex)\u001b[0m\n\u001b[1;32m    125\u001b[0m                 \u001b[0mupper_pat\u001b[0m \u001b[0;34m=\u001b[0m \u001b[0mpat\u001b[0m\u001b[0;34m.\u001b[0m\u001b[0mupper\u001b[0m\u001b[0;34m(\u001b[0m\u001b[0;34m)\u001b[0m\u001b[0;34m\u001b[0m\u001b[0;34m\u001b[0m\u001b[0m\n\u001b[1;32m    126\u001b[0m                 \u001b[0mf\u001b[0m \u001b[0;34m=\u001b[0m \u001b[0;32mlambda\u001b[0m \u001b[0mx\u001b[0m\u001b[0;34m:\u001b[0m \u001b[0mupper_pat\u001b[0m \u001b[0;32min\u001b[0m \u001b[0mx\u001b[0m\u001b[0;34m.\u001b[0m\u001b[0mupper\u001b[0m\u001b[0;34m(\u001b[0m\u001b[0;34m)\u001b[0m\u001b[0;34m\u001b[0m\u001b[0;34m\u001b[0m\u001b[0m\n\u001b[0;32m--> 127\u001b[0;31m         \u001b[0;32mreturn\u001b[0m \u001b[0mself\u001b[0m\u001b[0;34m.\u001b[0m\u001b[0m_str_map\u001b[0m\u001b[0;34m(\u001b[0m\u001b[0mf\u001b[0m\u001b[0;34m,\u001b[0m \u001b[0mna\u001b[0m\u001b[0;34m,\u001b[0m \u001b[0mdtype\u001b[0m\u001b[0;34m=\u001b[0m\u001b[0mnp\u001b[0m\u001b[0;34m.\u001b[0m\u001b[0mdtype\u001b[0m\u001b[0;34m(\u001b[0m\u001b[0;34m\"bool\"\u001b[0m\u001b[0;34m)\u001b[0m\u001b[0;34m)\u001b[0m\u001b[0;34m\u001b[0m\u001b[0;34m\u001b[0m\u001b[0m\n\u001b[0m\u001b[1;32m    128\u001b[0m \u001b[0;34m\u001b[0m\u001b[0m\n\u001b[1;32m    129\u001b[0m     \u001b[0;32mdef\u001b[0m \u001b[0m_str_startswith\u001b[0m\u001b[0;34m(\u001b[0m\u001b[0mself\u001b[0m\u001b[0;34m,\u001b[0m \u001b[0mpat\u001b[0m\u001b[0;34m,\u001b[0m \u001b[0mna\u001b[0m\u001b[0;34m=\u001b[0m\u001b[0;32mNone\u001b[0m\u001b[0;34m)\u001b[0m\u001b[0;34m:\u001b[0m\u001b[0;34m\u001b[0m\u001b[0;34m\u001b[0m\u001b[0m\n",
      "\u001b[0;32m~/miniconda3/envs/py3.8/lib/python3.8/site-packages/pandas/core/strings/object_array.py\u001b[0m in \u001b[0;36m_str_map\u001b[0;34m(self, f, na_value, dtype)\u001b[0m\n\u001b[1;32m     59\u001b[0m         \u001b[0mconvert\u001b[0m \u001b[0;34m=\u001b[0m \u001b[0;32mnot\u001b[0m \u001b[0mnp\u001b[0m\u001b[0;34m.\u001b[0m\u001b[0mall\u001b[0m\u001b[0;34m(\u001b[0m\u001b[0mmask\u001b[0m\u001b[0;34m)\u001b[0m\u001b[0;34m\u001b[0m\u001b[0;34m\u001b[0m\u001b[0m\n\u001b[1;32m     60\u001b[0m         \u001b[0;32mtry\u001b[0m\u001b[0;34m:\u001b[0m\u001b[0;34m\u001b[0m\u001b[0;34m\u001b[0m\u001b[0m\n\u001b[0;32m---> 61\u001b[0;31m             \u001b[0mresult\u001b[0m \u001b[0;34m=\u001b[0m \u001b[0mlib\u001b[0m\u001b[0;34m.\u001b[0m\u001b[0mmap_infer_mask\u001b[0m\u001b[0;34m(\u001b[0m\u001b[0marr\u001b[0m\u001b[0;34m,\u001b[0m \u001b[0mf\u001b[0m\u001b[0;34m,\u001b[0m \u001b[0mmask\u001b[0m\u001b[0;34m.\u001b[0m\u001b[0mview\u001b[0m\u001b[0;34m(\u001b[0m\u001b[0mnp\u001b[0m\u001b[0;34m.\u001b[0m\u001b[0muint8\u001b[0m\u001b[0;34m)\u001b[0m\u001b[0;34m,\u001b[0m \u001b[0mconvert\u001b[0m\u001b[0;34m)\u001b[0m\u001b[0;34m\u001b[0m\u001b[0;34m\u001b[0m\u001b[0m\n\u001b[0m\u001b[1;32m     62\u001b[0m         \u001b[0;32mexcept\u001b[0m \u001b[0;34m(\u001b[0m\u001b[0mTypeError\u001b[0m\u001b[0;34m,\u001b[0m \u001b[0mAttributeError\u001b[0m\u001b[0;34m)\u001b[0m \u001b[0;32mas\u001b[0m \u001b[0me\u001b[0m\u001b[0;34m:\u001b[0m\u001b[0;34m\u001b[0m\u001b[0;34m\u001b[0m\u001b[0m\n\u001b[1;32m     63\u001b[0m             \u001b[0;31m# Reraise the exception if callable `f` got wrong number of args.\u001b[0m\u001b[0;34m\u001b[0m\u001b[0;34m\u001b[0m\u001b[0;34m\u001b[0m\u001b[0m\n",
      "\u001b[0;32mpandas/_libs/lib.pyx\u001b[0m in \u001b[0;36mpandas._libs.lib.map_infer_mask\u001b[0;34m()\u001b[0m\n",
      "\u001b[0;32m~/miniconda3/envs/py3.8/lib/python3.8/site-packages/pandas/core/strings/object_array.py\u001b[0m in \u001b[0;36m<lambda>\u001b[0;34m(x)\u001b[0m\n\u001b[1;32m    118\u001b[0m                 )\n\u001b[1;32m    119\u001b[0m \u001b[0;34m\u001b[0m\u001b[0m\n\u001b[0;32m--> 120\u001b[0;31m             \u001b[0mf\u001b[0m \u001b[0;34m=\u001b[0m \u001b[0;32mlambda\u001b[0m \u001b[0mx\u001b[0m\u001b[0;34m:\u001b[0m \u001b[0mregex\u001b[0m\u001b[0;34m.\u001b[0m\u001b[0msearch\u001b[0m\u001b[0;34m(\u001b[0m\u001b[0mx\u001b[0m\u001b[0;34m)\u001b[0m \u001b[0;32mis\u001b[0m \u001b[0;32mnot\u001b[0m \u001b[0;32mNone\u001b[0m\u001b[0;34m\u001b[0m\u001b[0;34m\u001b[0m\u001b[0m\n\u001b[0m\u001b[1;32m    121\u001b[0m         \u001b[0;32melse\u001b[0m\u001b[0;34m:\u001b[0m\u001b[0;34m\u001b[0m\u001b[0;34m\u001b[0m\u001b[0m\n\u001b[1;32m    122\u001b[0m             \u001b[0;32mif\u001b[0m \u001b[0mcase\u001b[0m\u001b[0;34m:\u001b[0m\u001b[0;34m\u001b[0m\u001b[0;34m\u001b[0m\u001b[0m\n",
      "\u001b[0;31mKeyboardInterrupt\u001b[0m: "
     ]
    }
   ],
   "source": [
    "referrer_level_df = None\n",
    "for lang in LANGS:\n",
    "    for _, rating_def in rating_def_dict.items():\n",
    "        print(f\"Moving to {lang}-{rating_def}\")\n",
    "        user_post_ref_mapping_file_path = f\"./train_test_data_models/{lang}/{rating_def}/user_post_ffm_mapping.csv\"\n",
    "        predicted_results_path = f\"./train_test_data_models/{lang}/{rating_def}/predicted_results/predicted_scores.txt\"\n",
    "        test_file_path = f\"./train_test_data_models/{lang}/{rating_def}/test.txt\"\n",
    "        \n",
    "        mapping_df = pd.read_csv(user_post_ref_mapping_file_path, delimiter = \"\\t\")\n",
    "        mapping_df = mapping_df[mapping_df.feature_name.str.contains(\"referrer\")]\n",
    "        mapping_df.feature_name = mapping_df.feature_name.apply(lambda name: name[11:])\n",
    "        \n",
    "        with open(predicted_results_path) as f:\n",
    "            lines = f.readlines()\n",
    "            predicted_scores = [float(score.replace('\\n','')) for score in lines]\n",
    "        referrer_mappings = []\n",
    "        scores = []\n",
    "        with open(test_file_path) as f:\n",
    "            for l in f:\n",
    "                referrer_mappings.append(int(l.split(':')[5]))\n",
    "                scores.append(int(l[0]))\n",
    "        dataframe_dict = {\n",
    "            \"referrer_mapping\": referrer_mappings,\n",
    "            \"score\": scores,\n",
    "            \"predicted_score\": predicted_scores\n",
    "            }\n",
    "        df = pd.DataFrame(dataframe_dict)\n",
    "        unique_referrer_mappings = df.referrer_mapping.unique()\n",
    "        ref_auc_scores = []\n",
    "        number_of_ref_samples = []\n",
    "        langs = []\n",
    "        rating_defs = []\n",
    "        for ref_map in unique_referrer_mappings:\n",
    "            temp_df = df[df.referrer_mapping == ref_map]\n",
    "            scores = temp_df.score.values\n",
    "            predicted_scores = temp_df.predicted_score.values\n",
    "            ref_auc = roc_auc_score(scores, predicted_scores)\n",
    "            ref_auc_scores.append(ref_auc)\n",
    "            number_of_ref_samples.append(len(scores))\n",
    "            langs.append(lang)\n",
    "            rating_defs.append(rating_def)\n",
    "\n",
    "        referrer_level_auc = {\n",
    "            \"Language\": langs,\n",
    "            \"Rating Definition\": rating_defs, \n",
    "            \"mapping\": unique_referrer_mappings,\n",
    "            \"auc\": ref_auc_scores,\n",
    "            \"number_of_samples\": number_of_ref_samples\n",
    "        }\n",
    "        res_df = pd.DataFrame(referrer_level_auc)\n",
    "        temp_df = pd.merge(res_df, mapping_df, on=[\"mapping\"])\n",
    "        if referrer_level_df is None:\n",
    "            referrer_level_df = temp_df\n",
    "        else:\n",
    "            referrer_level_df = referrer_level_df.append(temp_df, ignore_index = True)\n",
    "        print(f\"Completed {lang}-{rating_def}\")"
   ]
  },
  {
   "cell_type": "code",
   "execution_count": 152,
   "id": "visible-happiness",
   "metadata": {},
   "outputs": [
    {
     "name": "stdout",
     "output_type": "stream",
     "text": [
      "Moving to Punjabi-is_vp_succ\n",
      "Mappings match so proceeding ....\n",
      "Shape before merging - (92487360, 5)\n",
      "Shape after merging - (92487358, 7)\n",
      "Completed Punjabi-is_vp_succ\n"
     ]
    }
   ],
   "source": [
    "referrer_level_df = None\n",
    "for lang in LANGS:\n",
    "    for _, rating_def in rating_def_dict.items():\n",
    "        print(f\"Moving to {lang}-{rating_def}\")\n",
    "        user_post_ref_mapping_file_path = f\"./train_test_data_models/{lang}/{rating_def}/user_post_ffm_mapping.csv\"\n",
    "        predicted_results_path = f\"./train_test_data_models/{lang}/{rating_def}/predicted_results/predicted_scores.txt\"\n",
    "        test_file_path = f\"./train_test_data_models/{lang}/{rating_def}/test.txt\"\n",
    "        no_ref_user_post_mapping_file_path = f\"/home/rohitrr/test/ffm_vp_test/train_test_data_models/{lang}/{rating_def}/user_post_ffm_mapping.csv\"\n",
    "        no_ref_predicted_results_path = f\"/home/rohitrr/test/ffm_vp_test/train_test_data_models/{lang}/{rating_def}/predicted_results/predicted_scores.txt\"\n",
    "        no_ref_test_file_path = f\"/home/rohitrr/test/ffm_vp_test/train_test_data_models/{lang}/{rating_def}/test.txt\"\n",
    "        \n",
    "        temp_df = pd.read_csv(user_post_ref_mapping_file_path, delimiter = \"\\t\")\n",
    "        ref_map = temp_df[~temp_df.feature_name.str.contains(\"referrer\")]\n",
    "        mapping_df = temp_df[temp_df.feature_name.str.contains(\"referrer\")]\n",
    "        mapping_df.feature_name = mapping_df.feature_name.apply(lambda name: name[11:])\n",
    "\n",
    "        no_ref_map = pd.read_csv(no_ref_user_post_mapping_file_path, delimiter = \"\\t\")\n",
    "        \n",
    "        if(ref_map.equals(no_ref_map)):\n",
    "            print(\"Mappings match so proceeding ....\")\n",
    "        else:\n",
    "            raise Exception(\"Mappings don't match\")\n",
    "        \n",
    "        with open(predicted_results_path) as f:\n",
    "            lines = f.readlines()\n",
    "            predicted_scores = [float(score.replace('\\n','')) for score in lines]\n",
    "            \n",
    "        referrer_mappings = []\n",
    "        scores = []\n",
    "        user_mappings = []\n",
    "        post_mappings = []\n",
    "        with open(test_file_path) as f:\n",
    "            for l in f:\n",
    "                l_split = l.split(':')\n",
    "                user_mappings.append(int(l_split[1]))\n",
    "                post_mappings.append(int(l_split[3]))\n",
    "                referrer_mappings.append(int(l_split[5]))\n",
    "                scores.append(int(l[0]))\n",
    "        dataframe_dict = {\n",
    "            \"user_mapping\": user_mappings,\n",
    "            \"post_mapping\": post_mappings,\n",
    "            \"referrer_mapping\": referrer_mappings,\n",
    "            \"ref_score\": scores,\n",
    "            \"ref_predicted_score\": predicted_scores\n",
    "            }\n",
    "        ref_df = pd.DataFrame(dataframe_dict)\n",
    "        unique_referrer_mappings = ref_df.referrer_mapping.unique()\n",
    "        \n",
    "        with open(no_ref_predicted_results_path) as f:\n",
    "            lines = f.readlines()\n",
    "            predicted_scores = [float(score.replace('\\n','')) for score in lines]\n",
    "\n",
    "        scores = []\n",
    "        user_mappings = []\n",
    "        post_mappings = []\n",
    "        with open(no_ref_test_file_path) as f:\n",
    "            for l in f:\n",
    "                l_split = l.split(':')\n",
    "                user_mappings.append(int(l_split[1]))\n",
    "                post_mappings.append(int(l_split[3]))\n",
    "                scores.append(int(l[0]))\n",
    "        dataframe_dict = {\n",
    "            \"user_mapping\": user_mappings,\n",
    "            \"post_mapping\": post_mappings,\n",
    "            \"no_ref_score\": scores,\n",
    "            \"no_ref_predicted_score\": predicted_scores\n",
    "            }\n",
    "        no_ref_df = pd.DataFrame(dataframe_dict)\n",
    "        df = pd.merge(ref_df, no_ref_df, on=[\"user_mapping\", \"post_mapping\"])\n",
    "        print(f\"Shape before merging - {ref_df.shape}\")\n",
    "        print(f\"Shape after merging - {df.shape}\")\n",
    "        \n",
    "        ref_auc_scores = []\n",
    "        no_ref_auc_scores = []\n",
    "        number_of_ref_samples = []\n",
    "        langs = []\n",
    "        rating_defs = []\n",
    "        for ref_map in unique_referrer_mappings:\n",
    "            temp_df = df[df.referrer_mapping == ref_map]\n",
    "            ref_scores = temp_df.ref_score.values\n",
    "            ref_predicted_scores = temp_df.ref_predicted_score.values\n",
    "            ref_auc = roc_auc_score(ref_scores, ref_predicted_scores)\n",
    "            ref_auc_scores.append(ref_auc)\n",
    "            \n",
    "            no_ref_scores = temp_df.no_ref_score.values\n",
    "            no_ref_predicted_scores = temp_df.no_ref_predicted_score.values\n",
    "            no_ref_auc = roc_auc_score(no_ref_scores, no_ref_predicted_scores)\n",
    "            no_ref_auc_scores.append(no_ref_auc)\n",
    "            \n",
    "            number_of_ref_samples.append(len(scores))\n",
    "            langs.append(lang)\n",
    "            rating_defs.append(rating_def)\n",
    "\n",
    "        referrer_level_auc = {\n",
    "            \"Language\": langs,\n",
    "            \"Rating Definition\": rating_defs, \n",
    "            \"mapping\": unique_referrer_mappings,\n",
    "            \"referrer_auc\": ref_auc_scores,\n",
    "            \"no_referrer_auc\": no_ref_auc_scores,\n",
    "            \"number_of_samples\": number_of_ref_samples\n",
    "        }\n",
    "        \n",
    "        res_df = pd.DataFrame(referrer_level_auc)\n",
    "        temp_df = pd.merge(res_df, mapping_df, on=[\"mapping\"])\n",
    "        if referrer_level_df is None:\n",
    "            referrer_level_df = temp_df\n",
    "        else:\n",
    "            referrer_level_df = referrer_level_df.append(temp_df, ignore_index = True)\n",
    "        print(f\"Completed {lang}-{rating_def}\")"
   ]
  },
  {
   "cell_type": "code",
   "execution_count": 155,
   "id": "laden-phoenix",
   "metadata": {},
   "outputs": [
    {
     "data": {
      "text/html": [
       "<div>\n",
       "<style scoped>\n",
       "    .dataframe tbody tr th:only-of-type {\n",
       "        vertical-align: middle;\n",
       "    }\n",
       "\n",
       "    .dataframe tbody tr th {\n",
       "        vertical-align: top;\n",
       "    }\n",
       "\n",
       "    .dataframe thead th {\n",
       "        text-align: right;\n",
       "    }\n",
       "</style>\n",
       "<table border=\"1\" class=\"dataframe\">\n",
       "  <thead>\n",
       "    <tr style=\"text-align: right;\">\n",
       "      <th></th>\n",
       "      <th>Language</th>\n",
       "      <th>Rating Definition</th>\n",
       "      <th>mapping</th>\n",
       "      <th>referrer_auc</th>\n",
       "      <th>no_referrer_auc</th>\n",
       "      <th>number_of_samples</th>\n",
       "      <th>feature_name</th>\n",
       "    </tr>\n",
       "  </thead>\n",
       "  <tbody>\n",
       "    <tr>\n",
       "      <th>0</th>\n",
       "      <td>Punjabi</td>\n",
       "      <td>is_vp_succ</td>\n",
       "      <td>3531454</td>\n",
       "      <td>0.813773</td>\n",
       "      <td>0.813773</td>\n",
       "      <td>92487361</td>\n",
       "      <td>trendingfeed_suggested</td>\n",
       "    </tr>\n",
       "    <tr>\n",
       "      <th>1</th>\n",
       "      <td>Punjabi</td>\n",
       "      <td>is_vp_succ</td>\n",
       "      <td>3531451</td>\n",
       "      <td>0.800636</td>\n",
       "      <td>0.800636</td>\n",
       "      <td>92487361</td>\n",
       "      <td>profilepost</td>\n",
       "    </tr>\n",
       "    <tr>\n",
       "      <th>2</th>\n",
       "      <td>Punjabi</td>\n",
       "      <td>is_vp_succ</td>\n",
       "      <td>3531452</td>\n",
       "      <td>0.774211</td>\n",
       "      <td>0.774211</td>\n",
       "      <td>92487361</td>\n",
       "      <td>tagfeed</td>\n",
       "    </tr>\n",
       "    <tr>\n",
       "      <th>3</th>\n",
       "      <td>Punjabi</td>\n",
       "      <td>is_vp_succ</td>\n",
       "      <td>3531449</td>\n",
       "      <td>0.801454</td>\n",
       "      <td>0.801454</td>\n",
       "      <td>92487361</td>\n",
       "      <td>bucket</td>\n",
       "    </tr>\n",
       "    <tr>\n",
       "      <th>4</th>\n",
       "      <td>Punjabi</td>\n",
       "      <td>is_vp_succ</td>\n",
       "      <td>3531450</td>\n",
       "      <td>0.799211</td>\n",
       "      <td>0.799211</td>\n",
       "      <td>92487361</td>\n",
       "      <td>others</td>\n",
       "    </tr>\n",
       "    <tr>\n",
       "      <th>5</th>\n",
       "      <td>Punjabi</td>\n",
       "      <td>is_vp_succ</td>\n",
       "      <td>3531455</td>\n",
       "      <td>0.802020</td>\n",
       "      <td>0.802020</td>\n",
       "      <td>92487361</td>\n",
       "      <td>videofeed</td>\n",
       "    </tr>\n",
       "    <tr>\n",
       "      <th>6</th>\n",
       "      <td>Punjabi</td>\n",
       "      <td>is_vp_succ</td>\n",
       "      <td>3531453</td>\n",
       "      <td>0.834032</td>\n",
       "      <td>0.834032</td>\n",
       "      <td>92487361</td>\n",
       "      <td>trendingfeed</td>\n",
       "    </tr>\n",
       "    <tr>\n",
       "      <th>7</th>\n",
       "      <td>Punjabi</td>\n",
       "      <td>is_vp_succ</td>\n",
       "      <td>3531456</td>\n",
       "      <td>0.812813</td>\n",
       "      <td>0.812813</td>\n",
       "      <td>92487361</td>\n",
       "      <td>videofeed_suggested</td>\n",
       "    </tr>\n",
       "    <tr>\n",
       "      <th>8</th>\n",
       "      <td>Punjabi</td>\n",
       "      <td>is_vp_succ</td>\n",
       "      <td>3531454</td>\n",
       "      <td>0.813773</td>\n",
       "      <td>0.812393</td>\n",
       "      <td>92487361</td>\n",
       "      <td>trendingfeed_suggested</td>\n",
       "    </tr>\n",
       "    <tr>\n",
       "      <th>9</th>\n",
       "      <td>Punjabi</td>\n",
       "      <td>is_vp_succ</td>\n",
       "      <td>3531451</td>\n",
       "      <td>0.800636</td>\n",
       "      <td>0.797237</td>\n",
       "      <td>92487361</td>\n",
       "      <td>profilepost</td>\n",
       "    </tr>\n",
       "    <tr>\n",
       "      <th>10</th>\n",
       "      <td>Punjabi</td>\n",
       "      <td>is_vp_succ</td>\n",
       "      <td>3531452</td>\n",
       "      <td>0.774211</td>\n",
       "      <td>0.773816</td>\n",
       "      <td>92487361</td>\n",
       "      <td>tagfeed</td>\n",
       "    </tr>\n",
       "    <tr>\n",
       "      <th>11</th>\n",
       "      <td>Punjabi</td>\n",
       "      <td>is_vp_succ</td>\n",
       "      <td>3531449</td>\n",
       "      <td>0.801454</td>\n",
       "      <td>0.801732</td>\n",
       "      <td>92487361</td>\n",
       "      <td>bucket</td>\n",
       "    </tr>\n",
       "    <tr>\n",
       "      <th>12</th>\n",
       "      <td>Punjabi</td>\n",
       "      <td>is_vp_succ</td>\n",
       "      <td>3531450</td>\n",
       "      <td>0.799211</td>\n",
       "      <td>0.800433</td>\n",
       "      <td>92487361</td>\n",
       "      <td>others</td>\n",
       "    </tr>\n",
       "    <tr>\n",
       "      <th>13</th>\n",
       "      <td>Punjabi</td>\n",
       "      <td>is_vp_succ</td>\n",
       "      <td>3531455</td>\n",
       "      <td>0.802020</td>\n",
       "      <td>0.784500</td>\n",
       "      <td>92487361</td>\n",
       "      <td>videofeed</td>\n",
       "    </tr>\n",
       "    <tr>\n",
       "      <th>14</th>\n",
       "      <td>Punjabi</td>\n",
       "      <td>is_vp_succ</td>\n",
       "      <td>3531453</td>\n",
       "      <td>0.834032</td>\n",
       "      <td>0.823301</td>\n",
       "      <td>92487361</td>\n",
       "      <td>trendingfeed</td>\n",
       "    </tr>\n",
       "    <tr>\n",
       "      <th>15</th>\n",
       "      <td>Punjabi</td>\n",
       "      <td>is_vp_succ</td>\n",
       "      <td>3531456</td>\n",
       "      <td>0.812813</td>\n",
       "      <td>0.811292</td>\n",
       "      <td>92487361</td>\n",
       "      <td>videofeed_suggested</td>\n",
       "    </tr>\n",
       "  </tbody>\n",
       "</table>\n",
       "</div>"
      ],
      "text/plain": [
       "   Language Rating Definition  mapping  referrer_auc  no_referrer_auc  \\\n",
       "0   Punjabi        is_vp_succ  3531454      0.813773         0.813773   \n",
       "1   Punjabi        is_vp_succ  3531451      0.800636         0.800636   \n",
       "2   Punjabi        is_vp_succ  3531452      0.774211         0.774211   \n",
       "3   Punjabi        is_vp_succ  3531449      0.801454         0.801454   \n",
       "4   Punjabi        is_vp_succ  3531450      0.799211         0.799211   \n",
       "5   Punjabi        is_vp_succ  3531455      0.802020         0.802020   \n",
       "6   Punjabi        is_vp_succ  3531453      0.834032         0.834032   \n",
       "7   Punjabi        is_vp_succ  3531456      0.812813         0.812813   \n",
       "8   Punjabi        is_vp_succ  3531454      0.813773         0.812393   \n",
       "9   Punjabi        is_vp_succ  3531451      0.800636         0.797237   \n",
       "10  Punjabi        is_vp_succ  3531452      0.774211         0.773816   \n",
       "11  Punjabi        is_vp_succ  3531449      0.801454         0.801732   \n",
       "12  Punjabi        is_vp_succ  3531450      0.799211         0.800433   \n",
       "13  Punjabi        is_vp_succ  3531455      0.802020         0.784500   \n",
       "14  Punjabi        is_vp_succ  3531453      0.834032         0.823301   \n",
       "15  Punjabi        is_vp_succ  3531456      0.812813         0.811292   \n",
       "\n",
       "    number_of_samples            feature_name  \n",
       "0            92487361  trendingfeed_suggested  \n",
       "1            92487361             profilepost  \n",
       "2            92487361                 tagfeed  \n",
       "3            92487361                  bucket  \n",
       "4            92487361                  others  \n",
       "5            92487361               videofeed  \n",
       "6            92487361            trendingfeed  \n",
       "7            92487361     videofeed_suggested  \n",
       "8            92487361  trendingfeed_suggested  \n",
       "9            92487361             profilepost  \n",
       "10           92487361                 tagfeed  \n",
       "11           92487361                  bucket  \n",
       "12           92487361                  others  \n",
       "13           92487361               videofeed  \n",
       "14           92487361            trendingfeed  \n",
       "15           92487361     videofeed_suggested  "
      ]
     },
     "execution_count": 155,
     "metadata": {},
     "output_type": "execute_result"
    }
   ],
   "source": [
    "referrer_level_df"
   ]
  },
  {
   "cell_type": "code",
   "execution_count": 154,
   "id": "blessed-extreme",
   "metadata": {},
   "outputs": [
    {
     "name": "stdout",
     "output_type": "stream",
     "text": [
      "Completed Punjabi-is_vp_succ\n"
     ]
    }
   ],
   "source": [
    "ref_auc_scores = []\n",
    "no_ref_auc_scores = []\n",
    "number_of_ref_samples = []\n",
    "langs = []\n",
    "rating_defs = []\n",
    "for ref_map in unique_referrer_mappings:\n",
    "    temp_df = df[df.referrer_mapping == ref_map]\n",
    "    ref_scores = temp_df.ref_score.values\n",
    "    ref_predicted_scores = temp_df.ref_predicted_score.values\n",
    "    ref_auc = roc_auc_score(ref_scores, ref_predicted_scores)\n",
    "    ref_auc_scores.append(ref_auc)\n",
    "\n",
    "    no_ref_scores = temp_df.no_ref_score.values\n",
    "    no_ref_predicted_scores = temp_df.no_ref_predicted_score.values\n",
    "    no_ref_auc = roc_auc_score(no_ref_scores, no_ref_predicted_scores)\n",
    "    no_ref_auc_scores.append(no_ref_auc)\n",
    "\n",
    "    number_of_ref_samples.append(len(ref_scores))\n",
    "    langs.append(lang)\n",
    "    rating_defs.append(rating_def)\n",
    "\n",
    "referrer_level_auc = {\n",
    "    \"Language\": langs,\n",
    "    \"Rating Definition\": rating_defs, \n",
    "    \"mapping\": unique_referrer_mappings,\n",
    "    \"referrer_auc\": ref_auc_scores,\n",
    "    \"no_referrer_auc\": no_ref_auc_scores,\n",
    "    \"number_of_samples\": number_of_ref_samples\n",
    "}\n",
    "\n",
    "res_df = pd.DataFrame(referrer_level_auc)\n",
    "temp_df = pd.merge(res_df, mapping_df, on=[\"mapping\"])\n",
    "if referrer_level_df is None:\n",
    "    referrer_level_df = temp_df\n",
    "else:\n",
    "    referrer_level_df = referrer_level_df.append(temp_df, ignore_index = True)\n",
    "print(f\"Completed {lang}-{rating_def}\")"
   ]
  },
  {
   "cell_type": "code",
   "execution_count": 92,
   "id": "burning-growth",
   "metadata": {},
   "outputs": [],
   "source": [
    "test_path = \"/home/rohitrr/test/ffm_vp_test/train_test_data_models/Bengali/is_vp_succ/test.txt\"\n",
    "user_mappings = []\n",
    "post_mappings = []\n",
    "referrer_mappings = []\n",
    "with open(test_path) as f:\n",
    "    for l in f:\n",
    "        l_split = l.split(':')\n",
    "        user_mappings.append(int(l_split[1]))\n",
    "        post_mappings.append(int(l_split[3]))\n",
    "        \n",
    "temp_dict = {\n",
    "    \"user_mapping\": user_mappings,\n",
    "    \"post_mapping\": post_mappings\n",
    "}\n",
    "temp_df = pd.DataFrame(temp_dict)"
   ]
  },
  {
   "cell_type": "code",
   "execution_count": 93,
   "id": "authorized-needle",
   "metadata": {},
   "outputs": [
    {
     "data": {
      "text/html": [
       "<div>\n",
       "<style scoped>\n",
       "    .dataframe tbody tr th:only-of-type {\n",
       "        vertical-align: middle;\n",
       "    }\n",
       "\n",
       "    .dataframe tbody tr th {\n",
       "        vertical-align: top;\n",
       "    }\n",
       "\n",
       "    .dataframe thead th {\n",
       "        text-align: right;\n",
       "    }\n",
       "</style>\n",
       "<table border=\"1\" class=\"dataframe\">\n",
       "  <thead>\n",
       "    <tr style=\"text-align: right;\">\n",
       "      <th></th>\n",
       "      <th>user_mapping</th>\n",
       "      <th>post_mapping</th>\n",
       "    </tr>\n",
       "  </thead>\n",
       "  <tbody>\n",
       "    <tr>\n",
       "      <th>0</th>\n",
       "      <td>118412</td>\n",
       "      <td>20560</td>\n",
       "    </tr>\n",
       "    <tr>\n",
       "      <th>1</th>\n",
       "      <td>709563</td>\n",
       "      <td>15929</td>\n",
       "    </tr>\n",
       "    <tr>\n",
       "      <th>2</th>\n",
       "      <td>461262</td>\n",
       "      <td>34596</td>\n",
       "    </tr>\n",
       "    <tr>\n",
       "      <th>3</th>\n",
       "      <td>930551</td>\n",
       "      <td>10630</td>\n",
       "    </tr>\n",
       "    <tr>\n",
       "      <th>4</th>\n",
       "      <td>1904296</td>\n",
       "      <td>4485</td>\n",
       "    </tr>\n",
       "  </tbody>\n",
       "</table>\n",
       "</div>"
      ],
      "text/plain": [
       "   user_mapping  post_mapping\n",
       "0        118412         20560\n",
       "1        709563         15929\n",
       "2        461262         34596\n",
       "3        930551         10630\n",
       "4       1904296          4485"
      ]
     },
     "execution_count": 93,
     "metadata": {},
     "output_type": "execute_result"
    }
   ],
   "source": [
    "temp_df.head(5)"
   ]
  },
  {
   "cell_type": "code",
   "execution_count": 95,
   "id": "registered-welcome",
   "metadata": {},
   "outputs": [],
   "source": [
    "no_ref_df = temp_df"
   ]
  },
  {
   "cell_type": "code",
   "execution_count": 96,
   "id": "finite-celebration",
   "metadata": {},
   "outputs": [
    {
     "data": {
      "text/plain": [
       "((30559663, 3), (30559663, 2))"
      ]
     },
     "execution_count": 96,
     "metadata": {},
     "output_type": "execute_result"
    }
   ],
   "source": [
    "ref_df.shape, no_ref_df.shape"
   ]
  },
  {
   "cell_type": "code",
   "execution_count": 97,
   "id": "bored-projection",
   "metadata": {},
   "outputs": [],
   "source": [
    "t_df_1 = pd.merge(ref_df, no_ref_df, on=[\"user_mapping\", \"post_mapping\"])"
   ]
  },
  {
   "cell_type": "code",
   "execution_count": 98,
   "id": "junior-apollo",
   "metadata": {},
   "outputs": [
    {
     "data": {
      "text/plain": [
       "(30559661, 3)"
      ]
     },
     "execution_count": 98,
     "metadata": {},
     "output_type": "execute_result"
    }
   ],
   "source": [
    "t_df_1.shape"
   ]
  },
  {
   "cell_type": "code",
   "execution_count": 104,
   "id": "sound-season",
   "metadata": {},
   "outputs": [
    {
     "data": {
      "text/html": [
       "<div>\n",
       "<style scoped>\n",
       "    .dataframe tbody tr th:only-of-type {\n",
       "        vertical-align: middle;\n",
       "    }\n",
       "\n",
       "    .dataframe tbody tr th {\n",
       "        vertical-align: top;\n",
       "    }\n",
       "\n",
       "    .dataframe thead th {\n",
       "        text-align: right;\n",
       "    }\n",
       "</style>\n",
       "<table border=\"1\" class=\"dataframe\">\n",
       "  <thead>\n",
       "    <tr style=\"text-align: right;\">\n",
       "      <th></th>\n",
       "      <th>user_mapping</th>\n",
       "      <th>post_mapping</th>\n",
       "      <th>referrer_mapping</th>\n",
       "    </tr>\n",
       "  </thead>\n",
       "  <tbody>\n",
       "    <tr>\n",
       "      <th>30559656</th>\n",
       "      <td>427855</td>\n",
       "      <td>18059</td>\n",
       "      <td>1974607</td>\n",
       "    </tr>\n",
       "    <tr>\n",
       "      <th>30559657</th>\n",
       "      <td>99226</td>\n",
       "      <td>16688</td>\n",
       "      <td>1974607</td>\n",
       "    </tr>\n",
       "    <tr>\n",
       "      <th>30559658</th>\n",
       "      <td>104875</td>\n",
       "      <td>1718</td>\n",
       "      <td>1974607</td>\n",
       "    </tr>\n",
       "    <tr>\n",
       "      <th>30559659</th>\n",
       "      <td>619200</td>\n",
       "      <td>16688</td>\n",
       "      <td>1974607</td>\n",
       "    </tr>\n",
       "    <tr>\n",
       "      <th>30559660</th>\n",
       "      <td>318646</td>\n",
       "      <td>14270</td>\n",
       "      <td>1974607</td>\n",
       "    </tr>\n",
       "  </tbody>\n",
       "</table>\n",
       "</div>"
      ],
      "text/plain": [
       "          user_mapping  post_mapping  referrer_mapping\n",
       "30559656        427855         18059           1974607\n",
       "30559657         99226         16688           1974607\n",
       "30559658        104875          1718           1974607\n",
       "30559659        619200         16688           1974607\n",
       "30559660        318646         14270           1974607"
      ]
     },
     "execution_count": 104,
     "metadata": {},
     "output_type": "execute_result"
    }
   ],
   "source": [
    "t_df_1.tail(5)"
   ]
  },
  {
   "cell_type": "code",
   "execution_count": 105,
   "id": "filled-chest",
   "metadata": {},
   "outputs": [
    {
     "data": {
      "text/html": [
       "<div>\n",
       "<style scoped>\n",
       "    .dataframe tbody tr th:only-of-type {\n",
       "        vertical-align: middle;\n",
       "    }\n",
       "\n",
       "    .dataframe tbody tr th {\n",
       "        vertical-align: top;\n",
       "    }\n",
       "\n",
       "    .dataframe thead th {\n",
       "        text-align: right;\n",
       "    }\n",
       "</style>\n",
       "<table border=\"1\" class=\"dataframe\">\n",
       "  <thead>\n",
       "    <tr style=\"text-align: right;\">\n",
       "      <th></th>\n",
       "      <th>user_mapping</th>\n",
       "      <th>post_mapping</th>\n",
       "      <th>referrer_mapping</th>\n",
       "    </tr>\n",
       "  </thead>\n",
       "  <tbody>\n",
       "    <tr>\n",
       "      <th>30559658</th>\n",
       "      <td>427855</td>\n",
       "      <td>18059</td>\n",
       "      <td>1974607</td>\n",
       "    </tr>\n",
       "    <tr>\n",
       "      <th>30559659</th>\n",
       "      <td>99226</td>\n",
       "      <td>16688</td>\n",
       "      <td>1974607</td>\n",
       "    </tr>\n",
       "    <tr>\n",
       "      <th>30559660</th>\n",
       "      <td>104875</td>\n",
       "      <td>1718</td>\n",
       "      <td>1974607</td>\n",
       "    </tr>\n",
       "    <tr>\n",
       "      <th>30559661</th>\n",
       "      <td>619200</td>\n",
       "      <td>16688</td>\n",
       "      <td>1974607</td>\n",
       "    </tr>\n",
       "    <tr>\n",
       "      <th>30559662</th>\n",
       "      <td>318646</td>\n",
       "      <td>14270</td>\n",
       "      <td>1974607</td>\n",
       "    </tr>\n",
       "  </tbody>\n",
       "</table>\n",
       "</div>"
      ],
      "text/plain": [
       "          user_mapping  post_mapping  referrer_mapping\n",
       "30559658        427855         18059           1974607\n",
       "30559659         99226         16688           1974607\n",
       "30559660        104875          1718           1974607\n",
       "30559661        619200         16688           1974607\n",
       "30559662        318646         14270           1974607"
      ]
     },
     "execution_count": 105,
     "metadata": {},
     "output_type": "execute_result"
    }
   ],
   "source": [
    "ref_df.tail(5)"
   ]
  },
  {
   "cell_type": "code",
   "execution_count": 127,
   "id": "arabic-cambridge",
   "metadata": {},
   "outputs": [],
   "source": [
    "uv = t_df_1.user_mapping.values\n",
    "uv_1 = ref_df.user_mapping.values\n",
    "pv = t_df_1.post_mapping.values\n",
    "pv_1 = ref_df.post_mapping.values"
   ]
  },
  {
   "cell_type": "code",
   "execution_count": 110,
   "id": "hollywood-malpractice",
   "metadata": {},
   "outputs": [
    {
     "ename": "ValueError",
     "evalue": "The truth value of a Series is ambiguous. Use a.empty, a.bool(), a.item(), a.any() or a.all().",
     "output_type": "error",
     "traceback": [
      "\u001b[0;31m---------------------------------------------------------------------------\u001b[0m",
      "\u001b[0;31mValueError\u001b[0m                                Traceback (most recent call last)",
      "\u001b[0;32m<ipython-input-110-95b2eb7380ef>\u001b[0m in \u001b[0;36m<module>\u001b[0;34m\u001b[0m\n\u001b[0;32m----> 1\u001b[0;31m \u001b[0mt_df_2\u001b[0m \u001b[0;34m=\u001b[0m \u001b[0mref_df\u001b[0m\u001b[0;34m[\u001b[0m\u001b[0;32mnot\u001b[0m \u001b[0mref_df\u001b[0m\u001b[0;34m.\u001b[0m\u001b[0muser_mapping\u001b[0m\u001b[0;34m.\u001b[0m\u001b[0misin\u001b[0m\u001b[0;34m(\u001b[0m\u001b[0muv\u001b[0m\u001b[0;34m)\u001b[0m\u001b[0;34m]\u001b[0m\u001b[0;34m\u001b[0m\u001b[0;34m\u001b[0m\u001b[0m\n\u001b[0m",
      "\u001b[0;32m~/miniconda3/envs/py3.8/lib/python3.8/site-packages/pandas/core/generic.py\u001b[0m in \u001b[0;36m__nonzero__\u001b[0;34m(self)\u001b[0m\n\u001b[1;32m   1440\u001b[0m     \u001b[0;34m@\u001b[0m\u001b[0mfinal\u001b[0m\u001b[0;34m\u001b[0m\u001b[0;34m\u001b[0m\u001b[0m\n\u001b[1;32m   1441\u001b[0m     \u001b[0;32mdef\u001b[0m \u001b[0m__nonzero__\u001b[0m\u001b[0;34m(\u001b[0m\u001b[0mself\u001b[0m\u001b[0;34m)\u001b[0m\u001b[0;34m:\u001b[0m\u001b[0;34m\u001b[0m\u001b[0;34m\u001b[0m\u001b[0m\n\u001b[0;32m-> 1442\u001b[0;31m         raise ValueError(\n\u001b[0m\u001b[1;32m   1443\u001b[0m             \u001b[0;34mf\"The truth value of a {type(self).__name__} is ambiguous. \"\u001b[0m\u001b[0;34m\u001b[0m\u001b[0;34m\u001b[0m\u001b[0m\n\u001b[1;32m   1444\u001b[0m             \u001b[0;34m\"Use a.empty, a.bool(), a.item(), a.any() or a.all().\"\u001b[0m\u001b[0;34m\u001b[0m\u001b[0;34m\u001b[0m\u001b[0m\n",
      "\u001b[0;31mValueError\u001b[0m: The truth value of a Series is ambiguous. Use a.empty, a.bool(), a.item(), a.any() or a.all()."
     ]
    }
   ],
   "source": [
    "t_df_2 = ref_df[ref_df.user_mapping.isin(uv)]"
   ]
  },
  {
   "cell_type": "code",
   "execution_count": 123,
   "id": "wound-marine",
   "metadata": {},
   "outputs": [],
   "source": [
    "temp_set = set(uv).difference(uv_1)"
   ]
  },
  {
   "cell_type": "code",
   "execution_count": 124,
   "id": "productive-princeton",
   "metadata": {},
   "outputs": [
    {
     "data": {
      "text/plain": [
       "0"
      ]
     },
     "execution_count": 124,
     "metadata": {},
     "output_type": "execute_result"
    }
   ],
   "source": [
    "len(temp_set)"
   ]
  },
  {
   "cell_type": "code",
   "execution_count": 150,
   "id": "square-practice",
   "metadata": {},
   "outputs": [
    {
     "data": {
      "text/plain": [
       "(92487360, 92487360)"
      ]
     },
     "execution_count": 150,
     "metadata": {},
     "output_type": "execute_result"
    }
   ],
   "source": [
    "len(predicted_scores), len(scores)"
   ]
  },
  {
   "cell_type": "code",
   "execution_count": 125,
   "id": "seeing-collaboration",
   "metadata": {},
   "outputs": [
    {
     "data": {
      "text/plain": [
       "set()"
      ]
     },
     "execution_count": 125,
     "metadata": {},
     "output_type": "execute_result"
    }
   ],
   "source": [
    "temp_set"
   ]
  },
  {
   "cell_type": "code",
   "execution_count": 126,
   "id": "persistent-hammer",
   "metadata": {},
   "outputs": [
    {
     "data": {
      "text/html": [
       "<div>\n",
       "<style scoped>\n",
       "    .dataframe tbody tr th:only-of-type {\n",
       "        vertical-align: middle;\n",
       "    }\n",
       "\n",
       "    .dataframe tbody tr th {\n",
       "        vertical-align: top;\n",
       "    }\n",
       "\n",
       "    .dataframe thead th {\n",
       "        text-align: right;\n",
       "    }\n",
       "</style>\n",
       "<table border=\"1\" class=\"dataframe\">\n",
       "  <thead>\n",
       "    <tr style=\"text-align: right;\">\n",
       "      <th></th>\n",
       "      <th>user_mapping</th>\n",
       "      <th>post_mapping</th>\n",
       "      <th>referrer_mapping</th>\n",
       "    </tr>\n",
       "  </thead>\n",
       "  <tbody>\n",
       "    <tr>\n",
       "      <th>10545509</th>\n",
       "      <td>1255122</td>\n",
       "      <td>28790</td>\n",
       "      <td>1974602</td>\n",
       "    </tr>\n",
       "  </tbody>\n",
       "</table>\n",
       "</div>"
      ],
      "text/plain": [
       "          user_mapping  post_mapping  referrer_mapping\n",
       "10545509       1255122         28790           1974602"
      ]
     },
     "execution_count": 126,
     "metadata": {},
     "output_type": "execute_result"
    }
   ],
   "source": [
    "ref_df[ref_df.user_mapping == 1255122]"
   ]
  },
  {
   "cell_type": "code",
   "execution_count": 128,
   "id": "driving-hunter",
   "metadata": {},
   "outputs": [
    {
     "data": {
      "text/plain": [
       "{(221449, 28790), (1255122, 28790)}"
      ]
     },
     "execution_count": 128,
     "metadata": {},
     "output_type": "execute_result"
    }
   ],
   "source": [
    "set(list(zip(uv, pv)))^set(list(zip(uv_1, pv_1)))"
   ]
  },
  {
   "cell_type": "code",
   "execution_count": 133,
   "id": "finished-forwarding",
   "metadata": {},
   "outputs": [],
   "source": [
    "user_post_ref_mapping_file_path = \"./train_test_data_models/Bengali/is_vp_succ/user_post_ffm_mapping.csv\"\n",
    "ref_map = pd.read_csv(user_post_ref_mapping_file_path, delimiter=\"\\t\")\n",
    "user_post_ref_mapping_file_path = \"/home/rohitrr/test/ffm_vp_test/train_test_data_models/Bengali/is_vp_succ/user_post_ffm_mapping.csv\"\n",
    "no_ref_map = pd.read_csv(user_post_ref_mapping_file_path, delimiter=\"\\t\")"
   ]
  },
  {
   "cell_type": "code",
   "execution_count": 136,
   "id": "handled-capability",
   "metadata": {},
   "outputs": [],
   "source": [
    "ref_map = ref_map[~ref_map.feature_name.str.contains(\"referrer\")]"
   ]
  },
  {
   "cell_type": "code",
   "execution_count": 138,
   "id": "infinite-living",
   "metadata": {},
   "outputs": [
    {
     "data": {
      "text/plain": [
       "((1974599, 2), (1974599, 2))"
      ]
     },
     "execution_count": 138,
     "metadata": {},
     "output_type": "execute_result"
    }
   ],
   "source": [
    "ref_map.shape, no_ref_map.shape"
   ]
  },
  {
   "cell_type": "code",
   "execution_count": 139,
   "id": "optimum-sydney",
   "metadata": {},
   "outputs": [
    {
     "data": {
      "text/plain": [
       "True"
      ]
     },
     "execution_count": 139,
     "metadata": {},
     "output_type": "execute_result"
    }
   ],
   "source": [
    "ref_map.equals(no_ref_map)"
   ]
  },
  {
   "cell_type": "code",
   "execution_count": 143,
   "id": "interracial-nitrogen",
   "metadata": {},
   "outputs": [
    {
     "data": {
      "text/html": [
       "<div>\n",
       "<style scoped>\n",
       "    .dataframe tbody tr th:only-of-type {\n",
       "        vertical-align: middle;\n",
       "    }\n",
       "\n",
       "    .dataframe tbody tr th {\n",
       "        vertical-align: top;\n",
       "    }\n",
       "\n",
       "    .dataframe thead th {\n",
       "        text-align: right;\n",
       "    }\n",
       "</style>\n",
       "<table border=\"1\" class=\"dataframe\">\n",
       "  <thead>\n",
       "    <tr style=\"text-align: right;\">\n",
       "      <th></th>\n",
       "      <th>feature_name</th>\n",
       "      <th>mapping</th>\n",
       "    </tr>\n",
       "  </thead>\n",
       "  <tbody>\n",
       "    <tr>\n",
       "      <th>2674793</th>\n",
       "      <td>bucket</td>\n",
       "      <td>2674794</td>\n",
       "    </tr>\n",
       "    <tr>\n",
       "      <th>2674794</th>\n",
       "      <td>others</td>\n",
       "      <td>2674795</td>\n",
       "    </tr>\n",
       "    <tr>\n",
       "      <th>2674795</th>\n",
       "      <td>profilepost</td>\n",
       "      <td>2674796</td>\n",
       "    </tr>\n",
       "    <tr>\n",
       "      <th>2674796</th>\n",
       "      <td>tagfeed</td>\n",
       "      <td>2674797</td>\n",
       "    </tr>\n",
       "    <tr>\n",
       "      <th>2674797</th>\n",
       "      <td>trendingfeed</td>\n",
       "      <td>2674798</td>\n",
       "    </tr>\n",
       "  </tbody>\n",
       "</table>\n",
       "</div>"
      ],
      "text/plain": [
       "         feature_name  mapping\n",
       "2674793        bucket  2674794\n",
       "2674794        others  2674795\n",
       "2674795   profilepost  2674796\n",
       "2674796       tagfeed  2674797\n",
       "2674797  trendingfeed  2674798"
      ]
     },
     "execution_count": 143,
     "metadata": {},
     "output_type": "execute_result"
    }
   ],
   "source": [
    "ref_map.head(5)"
   ]
  },
  {
   "cell_type": "code",
   "execution_count": null,
   "id": "steady-gothic",
   "metadata": {},
   "outputs": [],
   "source": []
  }
 ],
 "metadata": {
  "kernelspec": {
   "display_name": "Python 3",
   "language": "python",
   "name": "python3"
  },
  "language_info": {
   "codemirror_mode": {
    "name": "ipython",
    "version": 3
   },
   "file_extension": ".py",
   "mimetype": "text/x-python",
   "name": "python",
   "nbconvert_exporter": "python",
   "pygments_lexer": "ipython3",
   "version": "3.8.8"
  }
 },
 "nbformat": 4,
 "nbformat_minor": 5
}
