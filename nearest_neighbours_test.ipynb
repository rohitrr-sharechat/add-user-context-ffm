{
 "cells": [
  {
   "cell_type": "code",
   "execution_count": 60,
   "id": "declared-least",
   "metadata": {},
   "outputs": [],
   "source": [
    "import numpy as np\n",
    "import pandas as pd\n",
    "from sklearn.metrics.pairwise import cosine_similarity\n",
    "import pathlib\n",
    "import os"
   ]
  },
  {
   "cell_type": "code",
   "execution_count": 61,
   "id": "touched-frederick",
   "metadata": {},
   "outputs": [],
   "source": [
    "lang = \"Hindi\"\n",
    "rating_def = \"is_vp_succ2\"\n",
    "user_context = \"location\"\n",
    "dtype=\"video\"\n",
    "model_path = f\"./train_test_data_models/{user_context}/{dtype}/{lang}/{rating_def}/out/model.txt\"\n",
    "mapping_path = f\"./train_test_data_models/{user_context}/{dtype}/{lang}/{rating_def}/user_post_ffm_mapping.csv\"\n",
    "num_nearest_neighbours = 10\n",
    "num_samples = 12\n",
    "RANDOM_SEED = 9745"
   ]
  },
  {
   "cell_type": "code",
   "execution_count": 17,
   "id": "sustainable-input",
   "metadata": {
    "tags": []
   },
   "outputs": [],
   "source": [
    "model = open(model_path).readlines()\n",
    "embs = {}\n",
    "for s in model:\n",
    "    x = s.split(': ')\n",
    "    embs[x[0]] =  list(map(float, x[1].split(' ')))\n",
    "del model"
   ]
  },
  {
   "cell_type": "code",
   "execution_count": 103,
   "id": "reliable-ecology",
   "metadata": {
    "tags": []
   },
   "outputs": [
    {
     "name": "stderr",
     "output_type": "stream",
     "text": [
      "/home/rohitrr/miniconda3/envs/py3.8/lib/python3.8/site-packages/numpy/lib/arraysetops.py:569: FutureWarning: elementwise comparison failed; returning scalar instead, but in the future will perform elementwise comparison\n",
      "  mask |= (ar1 == a)\n",
      "<ipython-input-103-52176def754b>:4: SettingWithCopyWarning: \n",
      "A value is trying to be set on a copy of a slice from a DataFrame.\n",
      "Try using .loc[row_indexer,col_indexer] = value instead\n",
      "\n",
      "See the caveats in the documentation: https://pandas.pydata.org/pandas-docs/stable/user_guide/indexing.html#returning-a-view-versus-a-copy\n",
      "  location_mapping['location'] = mapping['object'].str.split('locationBucket_').str[-1]\n",
      "<ipython-input-103-52176def754b>:5: SettingWithCopyWarning: \n",
      "A value is trying to be set on a copy of a slice from a DataFrame.\n",
      "Try using .loc[row_indexer,col_indexer] = value instead\n",
      "\n",
      "See the caveats in the documentation: https://pandas.pydata.org/pandas-docs/stable/user_guide/indexing.html#returning-a-view-versus-a-copy\n",
      "  location_mapping['location_user_embs'] = location_mapping.index.map(lambda x: embs['v_' + str(x) + '_0'])\n",
      "<ipython-input-103-52176def754b>:6: SettingWithCopyWarning: \n",
      "A value is trying to be set on a copy of a slice from a DataFrame.\n",
      "Try using .loc[row_indexer,col_indexer] = value instead\n",
      "\n",
      "See the caveats in the documentation: https://pandas.pydata.org/pandas-docs/stable/user_guide/indexing.html#returning-a-view-versus-a-copy\n",
      "  location_mapping['location_post_embs'] = location_mapping.index.map(lambda x: embs['v_' + str(x) + '_1'])\n",
      "<ipython-input-103-52176def754b>:7: SettingWithCopyWarning: \n",
      "A value is trying to be set on a copy of a slice from a DataFrame.\n",
      "Try using .loc[row_indexer,col_indexer] = value instead\n",
      "\n",
      "See the caveats in the documentation: https://pandas.pydata.org/pandas-docs/stable/user_guide/indexing.html#returning-a-view-versus-a-copy\n",
      "  location_mapping['location_bias'] = location_mapping.index.map(lambda x: embs['i_' + str(x)][0])\n"
     ]
    }
   ],
   "source": [
    "mapping = pd.read_csv(mapping_path, names=['object', 'mapping'], header=None, index_col='mapping',\n",
    "                     delimiter = '\\t', skiprows=1)\n",
    "location_mapping = mapping[mapping['object'].str.contains('locationBucket_')]\n",
    "location_mapping['location'] = mapping['object'].str.split('locationBucket_').str[-1] \n",
    "location_mapping['location_user_embs'] = location_mapping.index.map(lambda x: embs['v_' + str(x) + '_0'])\n",
    "location_mapping['location_post_embs'] = location_mapping.index.map(lambda x: embs['v_' + str(x) + '_1'])\n",
    "location_mapping['location_bias'] = location_mapping.index.map(lambda x: embs['i_' + str(x)][0])\n",
    "location_mapping = location_mapping[['location','location_post_embs', 'location_user_embs', 'location_bias']]"
   ]
  },
  {
   "cell_type": "code",
   "execution_count": 129,
   "id": "formed-bookmark",
   "metadata": {},
   "outputs": [],
   "source": [
    "temp_location_mapping = location_mapping[location_mapping.location.str.contains(\"maharashtra|bihar|uttar pradesh|punjab|himachal|madhya pradesh|haryana|delhi|rajasthan\")]\n",
    "sampled_locations = temp_location_mapping.sample(n = num_samples, random_state=RANDOM_SEED)\n",
    "# sampled_locations = location_mapping[location_mapping.location.str.contains(\"maharashtra\")]"
   ]
  },
  {
   "cell_type": "code",
   "execution_count": 130,
   "id": "demonstrated-norfolk",
   "metadata": {},
   "outputs": [],
   "source": [
    "location_emb_mat = np.array(location_mapping.location_post_embs.to_list())\n",
    "res = cosine_similarity(sampled_locations.location_post_embs.to_list(), location_emb_mat)\n",
    "top_n_indices = [(-cos_sim).argsort()[:num_nearest_neighbours] for cos_sim in res]\n",
    "top_n_vals = [res[i, inds] for i, inds in enumerate(top_n_indices)]\n",
    "sampled_locations[\"similar_locations\"] = [location_mapping.iloc[inds].location.to_list() for inds in top_n_indices]\n",
    "sampled_locations[\"cosine_similarity\"] = top_n_vals"
   ]
  },
  {
   "cell_type": "code",
   "execution_count": 131,
   "id": "recorded-juice",
   "metadata": {
    "tags": []
   },
   "outputs": [],
   "source": [
    "rows_dict_list= []\n",
    "\n",
    "for i,location in enumerate(sampled_locations.location.to_list()):\n",
    "    inds = top_n_indices[i]\n",
    "    similar_locations = location_mapping.iloc[inds].location.to_list()\n",
    "    similar_locations_scores = top_n_vals[i]\n",
    "    for n in range(len(similar_locations)):\n",
    "        row_dict = {\n",
    "            \"Rating Def\": rating_def,\n",
    "            \"Language\": lang,\n",
    "        }\n",
    "        row_dict[\"location\"] = location\n",
    "        row_dict[\"Similar location\"] = similar_locations[n]\n",
    "        row_dict[\"Cosine Similarity\"] = similar_locations_scores[n]\n",
    "        rows_dict_list.append(row_dict)\n",
    "        \n",
    "save_df = pd.DataFrame(rows_dict_list)\n",
    "save_df_path = f\"./neighbourhood_embeddings_data/{user_context}/{dtype}/{lang}/{rating_def}\"\n",
    "pathlib.Path(save_df_path).mkdir(parents = True, exist_ok = True)\n",
    "save_df_path = os.path.join(save_df_path, \"similar_locations_samples.csv\")\n",
    "save_df.to_csv(save_df_path, index=False)        "
   ]
  },
  {
   "cell_type": "markdown",
   "id": "immune-going",
   "metadata": {},
   "source": [
    "## Scrap Code"
   ]
  },
  {
   "cell_type": "code",
   "execution_count": 125,
   "id": "convenient-criticism",
   "metadata": {},
   "outputs": [
    {
     "data": {
      "text/plain": [
       "array(['ghaziabad_bihar', 'gurgaon_haryana', 'bhind_madhya pradesh',\n",
       "       'south delhi_mexico city', 'sirsa_punjab',\n",
       "       'faizabad_uttar pradesh', 'ludhiana_uttar pradesh',\n",
       "       'garhwa_uttar pradesh', 'south west delhi_fujairah',\n",
       "       'dadra and nagar haveli_maharashtra', 'sitamarhi_bihar',\n",
       "       'north delhi_sharjah'], dtype=object)"
      ]
     },
     "execution_count": 125,
     "metadata": {},
     "output_type": "execute_result"
    }
   ],
   "source": [
    "sampled_locations.location.values"
   ]
  },
  {
   "cell_type": "code",
   "execution_count": 120,
   "id": "constant-charger",
   "metadata": {},
   "outputs": [
    {
     "ename": "AttributeError",
     "evalue": "'DataFrame' object has no attribute 'similar_locations'",
     "output_type": "error",
     "traceback": [
      "\u001b[0;31m---------------------------------------------------------------------------\u001b[0m",
      "\u001b[0;31mAttributeError\u001b[0m                            Traceback (most recent call last)",
      "\u001b[0;32m<ipython-input-120-0c1d58ecc2a8>\u001b[0m in \u001b[0;36m<module>\u001b[0;34m\u001b[0m\n\u001b[0;32m----> 1\u001b[0;31m \u001b[0msampled_locations\u001b[0m\u001b[0;34m.\u001b[0m\u001b[0msimilar_locations\u001b[0m\u001b[0;34m.\u001b[0m\u001b[0mhead\u001b[0m\u001b[0;34m(\u001b[0m\u001b[0;36m5\u001b[0m\u001b[0;34m)\u001b[0m\u001b[0;34m\u001b[0m\u001b[0;34m\u001b[0m\u001b[0m\n\u001b[0m",
      "\u001b[0;32m~/miniconda3/envs/py3.8/lib/python3.8/site-packages/pandas/core/generic.py\u001b[0m in \u001b[0;36m__getattr__\u001b[0;34m(self, name)\u001b[0m\n\u001b[1;32m   5463\u001b[0m             \u001b[0;32mif\u001b[0m \u001b[0mself\u001b[0m\u001b[0;34m.\u001b[0m\u001b[0m_info_axis\u001b[0m\u001b[0;34m.\u001b[0m\u001b[0m_can_hold_identifiers_and_holds_name\u001b[0m\u001b[0;34m(\u001b[0m\u001b[0mname\u001b[0m\u001b[0;34m)\u001b[0m\u001b[0;34m:\u001b[0m\u001b[0;34m\u001b[0m\u001b[0;34m\u001b[0m\u001b[0m\n\u001b[1;32m   5464\u001b[0m                 \u001b[0;32mreturn\u001b[0m \u001b[0mself\u001b[0m\u001b[0;34m[\u001b[0m\u001b[0mname\u001b[0m\u001b[0;34m]\u001b[0m\u001b[0;34m\u001b[0m\u001b[0;34m\u001b[0m\u001b[0m\n\u001b[0;32m-> 5465\u001b[0;31m             \u001b[0;32mreturn\u001b[0m \u001b[0mobject\u001b[0m\u001b[0;34m.\u001b[0m\u001b[0m__getattribute__\u001b[0m\u001b[0;34m(\u001b[0m\u001b[0mself\u001b[0m\u001b[0;34m,\u001b[0m \u001b[0mname\u001b[0m\u001b[0;34m)\u001b[0m\u001b[0;34m\u001b[0m\u001b[0;34m\u001b[0m\u001b[0m\n\u001b[0m\u001b[1;32m   5466\u001b[0m \u001b[0;34m\u001b[0m\u001b[0m\n\u001b[1;32m   5467\u001b[0m     \u001b[0;32mdef\u001b[0m \u001b[0m__setattr__\u001b[0m\u001b[0;34m(\u001b[0m\u001b[0mself\u001b[0m\u001b[0;34m,\u001b[0m \u001b[0mname\u001b[0m\u001b[0;34m:\u001b[0m \u001b[0mstr\u001b[0m\u001b[0;34m,\u001b[0m \u001b[0mvalue\u001b[0m\u001b[0;34m)\u001b[0m \u001b[0;34m->\u001b[0m \u001b[0;32mNone\u001b[0m\u001b[0;34m:\u001b[0m\u001b[0;34m\u001b[0m\u001b[0;34m\u001b[0m\u001b[0m\n",
      "\u001b[0;31mAttributeError\u001b[0m: 'DataFrame' object has no attribute 'similar_locations'"
     ]
    }
   ],
   "source": [
    "sampled_locations.similar_locations.head(5)"
   ]
  },
  {
   "cell_type": "code",
   "execution_count": 107,
   "id": "recognized-astronomy",
   "metadata": {
    "collapsed": true,
    "jupyter": {
     "outputs_hidden": true
    },
    "tags": []
   },
   "outputs": [
    {
     "data": {
      "text/plain": [
       "array(['agra_uttar pradesh', 'ahmedabad_uttar pradesh',\n",
       "       'alawal_uttar pradesh', 'aligarh_uttar pradesh',\n",
       "       'ambedkar nagar_uttar pradesh', 'amethi_uttar pradesh',\n",
       "       'amritsar_uttar pradesh', 'amroha_uttar pradesh',\n",
       "       'anshik_uttar pradesh', 'asarfpur_uttar pradesh',\n",
       "       'ashoknagar_uttar pradesh', 'auraiya_uttar pradesh',\n",
       "       'azamgarh_uttar pradesh', 'badaun_uttar pradesh',\n",
       "       'bagpat_uttar pradesh', 'bahera_uttar pradesh',\n",
       "       'bahraich_uttar pradesh', 'baku_uttar pradesh',\n",
       "       'balasore_uttar pradesh', 'ballia_uttar pradesh',\n",
       "       'balrampur_uttar pradesh', 'banda_uttar pradesh',\n",
       "       'bangalore urban_uttar pradesh', 'barabanki_uttar pradesh',\n",
       "       'bareilly_uttar pradesh', 'basti_uttar pradesh',\n",
       "       'belagavi_uttar pradesh', 'bhalau_uttar pradesh',\n",
       "       'bhanpuer_uttar pradesh', 'bharatpur_uttar pradesh',\n",
       "       'bheri_uttar pradesh', 'bhind_uttar pradesh',\n",
       "       'bhojpur_uttar pradesh', 'bhopal_uttar pradesh',\n",
       "       'bijnor_uttar pradesh', 'bulandshahar_uttar pradesh',\n",
       "       'buxar_uttar pradesh', 'chandauli_uttar pradesh',\n",
       "       'chhatarpur_uttar pradesh', 'chitrakoot_uttar pradesh',\n",
       "       'datia_uttar pradesh', 'dehradun_uttar pradesh',\n",
       "       'deoria_uttar pradesh', 'dhaulpur_uttar pradesh',\n",
       "       'district bulandhshahr_uttar pradesh', 'east delhi_uttar pradesh',\n",
       "       'etah_uttar pradesh', 'etawah_uttar pradesh',\n",
       "       'faizabad_uttar pradesh', 'faridabad_uttar pradesh',\n",
       "       'farrukhabad_uttar pradesh', 'fatehpur_uttar pradesh',\n",
       "       'firozabad_uttar pradesh', 'garhwa_uttar pradesh',\n",
       "       'gautam buddh nagar_uttar pradesh',\n",
       "       'gautam buddha nagar_uttar pradesh', 'ghaziabad_uttar pradesh',\n",
       "       'ghazipur_uttar pradesh', 'gonda_uttar pradesh',\n",
       "       'gopalganj_uttar pradesh', 'gorakhpur_uttar pradesh',\n",
       "       'gurgaon_uttar pradesh', 'hamirpur_uttar pradesh',\n",
       "       'hapur_uttar pradesh', 'hardoi_uttar pradesh',\n",
       "       'haridwar_uttar pradesh', 'hathras_uttar pradesh',\n",
       "       'jabalpur_uttar pradesh', 'jalaun_uttar pradesh',\n",
       "       'jaunpur_uttar pradesh', 'jhansi_uttar pradesh',\n",
       "       'kaimur_uttar pradesh', 'kaliyanpur jagoo_uttar pradesh',\n",
       "       'kannauj_uttar pradesh', 'kanpur dehat_uttar pradesh',\n",
       "       'kanpur nagar_uttar pradesh', 'kanshi ram nagar_uttar pradesh',\n",
       "       'karnal_uttar pradesh', 'kaushambi_uttar pradesh',\n",
       "       'kolhapur_uttar pradesh', 'kushinagar_uttar pradesh',\n",
       "       'lakhimpur kheri_uttar pradesh', 'lalitpur_uttar pradesh',\n",
       "       'lucknow_uttar pradesh', 'ludhiana_uttar pradesh',\n",
       "       'lumbini_uttar pradesh', 'madhepura_uttar pradesh',\n",
       "       'maharajganj_uttar pradesh', 'mahoba_uttar pradesh',\n",
       "       'mainpuri_uttar pradesh', 'mathura_uttar pradesh',\n",
       "       'mau_uttar pradesh', 'medchal district_uttar pradesh',\n",
       "       'meerut_uttar pradesh', 'mewat_uttar pradesh',\n",
       "       'mirzapur_uttar pradesh', 'moradabad_uttar pradesh',\n",
       "       'mumbai suburban_uttar pradesh', 'mumbai_uttar pradesh',\n",
       "       'muzaffarnagar_uttar pradesh', 'new delhi_uttar pradesh',\n",
       "       'nocitylocation_uttar pradesh', 'north delhi_uttar pradesh',\n",
       "       'north east delhi_uttar pradesh', 'palwal_uttar pradesh',\n",
       "       'panipat_uttar pradesh', 'panna_uttar pradesh',\n",
       "       'pashchim champaran_uttar pradesh', 'pathankot_uttar pradesh',\n",
       "       'pauri garhwal_uttar pradesh', 'pilibhit_uttar pradesh',\n",
       "       'pratapgarh_uttar pradesh', 'prayagraj_uttar pradesh',\n",
       "       'pune_uttar pradesh', 'rae bareli_uttar pradesh',\n",
       "       'raigad_uttar pradesh', 'rampur_uttar pradesh',\n",
       "       'ranga reddy_uttar pradesh', 'renusaga_uttar pradesh',\n",
       "       'rewa_uttar pradesh', 'sabarkatha_uttar pradesh',\n",
       "       'sagar_uttar pradesh', 'saharanpur_uttar pradesh',\n",
       "       'sambhal_uttar pradesh', 'sant kabir nagar_uttar pradesh',\n",
       "       'sant ravidas nagar_uttar pradesh', 'saran_uttar pradesh',\n",
       "       'satna_uttar pradesh', 'saurai_uttar pradesh',\n",
       "       'seedha_uttar pradesh', 'seti_uttar pradesh',\n",
       "       'shahdara_uttar pradesh', 'shahjahanpur_uttar pradesh',\n",
       "       'shamli_uttar pradesh', 'shauabuddinpur_uttar pradesh',\n",
       "       'shrawasti_uttar pradesh', 'siddharthnagar_uttar pradesh',\n",
       "       'singrauli_uttar pradesh', 'sitapur_uttar pradesh',\n",
       "       'siwan_uttar pradesh', 'sonbhadra_uttar pradesh',\n",
       "       'south delhi_uttar pradesh', 'sultanpur_uttar pradesh',\n",
       "       'surat_uttar pradesh', 'surguja_uttar pradesh',\n",
       "       'thane_uttar pradesh', 'tikadeori_uttar pradesh',\n",
       "       'tikamgarh_uttar pradesh', 'udham singh nagar_uttar pradesh',\n",
       "       'unnao_uttar pradesh', 'vadodara_uttar pradesh',\n",
       "       'varanasi_uttar pradesh', 'vill_uttar pradesh',\n",
       "       'yamuna nagar_uttar pradesh', 'भेरी_uttar pradesh'], dtype=object)"
      ]
     },
     "execution_count": 107,
     "metadata": {},
     "output_type": "execute_result"
    }
   ],
   "source": [
    "location_mapping[location_mapping.location.str.contains(\"maharashtra\")].location.values"
   ]
  },
  {
   "cell_type": "code",
   "execution_count": 112,
   "id": "suffering-vatican",
   "metadata": {},
   "outputs": [],
   "source": [
    "temp_df = sampled_locations[sampled_locations.location.str.contains(\"pune\")]"
   ]
  },
  {
   "cell_type": "code",
   "execution_count": 113,
   "id": "recreational-feedback",
   "metadata": {},
   "outputs": [
    {
     "name": "stdout",
     "output_type": "stream",
     "text": [
      "[list(['pune_maharashtra', 'solapur_maharashtra', 'ahmednagar_maharashtra', 'satara_maharashtra', 'osmanabad_maharashtra', 'sangli_maharashtra', 'kolhapur_maharashtra', 'aurangabad_maharashtra', 'latur_maharashtra', 'nanded_maharashtra'])]\n"
     ]
    }
   ],
   "source": [
    "print(temp_df.similar_locations.values)"
   ]
  },
  {
   "cell_type": "code",
   "execution_count": 102,
   "id": "cognitive-munich",
   "metadata": {},
   "outputs": [
    {
     "data": {
      "text/plain": [
       "array([array([1.        , 0.86240904, 0.85792183, 0.85043648, 0.84782158,\n",
       "       0.84778797, 0.84426956, 0.8428945 , 0.84245285, 0.84217169]),\n",
       "       array([1.        , 0.90593651, 0.89933396, 0.89873083, 0.89601722,\n",
       "       0.88971562, 0.88831216, 0.88781327, 0.88622991, 0.88585101])],\n",
       "      dtype=object)"
      ]
     },
     "execution_count": 102,
     "metadata": {},
     "output_type": "execute_result"
    }
   ],
   "source": [
    "temp_df.cosine_similarity.values"
   ]
  },
  {
   "cell_type": "code",
   "execution_count": 45,
   "id": "unlikely-genesis",
   "metadata": {},
   "outputs": [],
   "source": [
    "mapping = pd.read_csv(mapping_path, names=['object', 'mapping'], header=None,\n",
    "                     delimiter = '\\t', skiprows=1)"
   ]
  },
  {
   "cell_type": "code",
   "execution_count": 46,
   "id": "exact-vegetation",
   "metadata": {},
   "outputs": [],
   "source": [
    "location_mapping = mapping[mapping['object'].str.contains('locationBucket_')]"
   ]
  },
  {
   "cell_type": "code",
   "execution_count": 70,
   "id": "subsequent-oasis",
   "metadata": {
    "collapsed": true,
    "jupyter": {
     "outputs_hidden": true
    },
    "tags": []
   },
   "outputs": [
    {
     "data": {
      "text/html": [
       "<div>\n",
       "<style scoped>\n",
       "    .dataframe tbody tr th:only-of-type {\n",
       "        vertical-align: middle;\n",
       "    }\n",
       "\n",
       "    .dataframe tbody tr th {\n",
       "        vertical-align: top;\n",
       "    }\n",
       "\n",
       "    .dataframe thead th {\n",
       "        text-align: right;\n",
       "    }\n",
       "</style>\n",
       "<table border=\"1\" class=\"dataframe\">\n",
       "  <thead>\n",
       "    <tr style=\"text-align: right;\">\n",
       "      <th></th>\n",
       "      <th>location</th>\n",
       "      <th>location_post_embs</th>\n",
       "      <th>location_user_embs</th>\n",
       "      <th>location_bias</th>\n",
       "      <th>similar_locations</th>\n",
       "      <th>cosine_similarity</th>\n",
       "    </tr>\n",
       "    <tr>\n",
       "      <th>mapping</th>\n",
       "      <th></th>\n",
       "      <th></th>\n",
       "      <th></th>\n",
       "      <th></th>\n",
       "      <th></th>\n",
       "      <th></th>\n",
       "    </tr>\n",
       "  </thead>\n",
       "  <tbody>\n",
       "    <tr>\n",
       "      <th>24142696</th>\n",
       "      <td>janakpur_dubai</td>\n",
       "      <td>[0.101442, 0.0442485, 0.0358052, 0.0361507, 0....</td>\n",
       "      <td>[0.106819, 0.0342476, 0.0656946, 0.0472308, 0....</td>\n",
       "      <td>0.042278</td>\n",
       "      <td>[janakpur_dubai, kula_manisa, al harth_jazan, ...</td>\n",
       "      <td>[1.0000000000000002, 0.9346347277511485, 0.925...</td>\n",
       "    </tr>\n",
       "    <tr>\n",
       "      <th>24140514</th>\n",
       "      <td>al-muzahmiyya_riyadh province</td>\n",
       "      <td>[0.231066, 0.296304, 0.234816, 0.254913, 0.444...</td>\n",
       "      <td>[-0.0371273, 0.083598, 0.0243366, 0.169848, -0...</td>\n",
       "      <td>-0.551625</td>\n",
       "      <td>[al-muzahmiyya_riyadh province, sikar_assam, s...</td>\n",
       "      <td>[0.9999999999999999, 0.7769319609745171, 0.758...</td>\n",
       "    </tr>\n",
       "    <tr>\n",
       "      <th>24142902</th>\n",
       "      <td>kannur_johor</td>\n",
       "      <td>[-0.013964, 0.00548028, -0.00864858, 0.0049976...</td>\n",
       "      <td>[0.0268046, 0.044769, 0.045428, 0.051317, 0.07...</td>\n",
       "      <td>-0.244242</td>\n",
       "      <td>[kannur_johor, saran_thimphu, kutch_al batinah...</td>\n",
       "      <td>[1.0000000000000002, 0.9081864210847753, 0.904...</td>\n",
       "    </tr>\n",
       "    <tr>\n",
       "      <th>24140701</th>\n",
       "      <td>anand_kakamega county</td>\n",
       "      <td>[0.112178, 0.25917, 0.136845, 0.199748, 0.2368...</td>\n",
       "      <td>[0.018624, 0.0265641, 0.0396445, 0.0173614, 0....</td>\n",
       "      <td>-0.252025</td>\n",
       "      <td>[anand_kakamega county, gorod voronezh_voronez...</td>\n",
       "      <td>[1.0000000000000002, 0.8601395758193444, 0.851...</td>\n",
       "    </tr>\n",
       "    <tr>\n",
       "      <th>24144380</th>\n",
       "      <td>pali_muscat governorate</td>\n",
       "      <td>[0.0848778, 0.120216, 0.121797, 0.128381, 0.18...</td>\n",
       "      <td>[0.117159, 0.0760136, 0.0689212, 0.079329, 0.0...</td>\n",
       "      <td>0.421416</td>\n",
       "      <td>[pali_muscat governorate, guliston tumani_sird...</td>\n",
       "      <td>[0.9999999999999998, 0.9153870306717415, 0.912...</td>\n",
       "    </tr>\n",
       "  </tbody>\n",
       "</table>\n",
       "</div>"
      ],
      "text/plain": [
       "                               location  \\\n",
       "mapping                                   \n",
       "24142696                 janakpur_dubai   \n",
       "24140514  al-muzahmiyya_riyadh province   \n",
       "24142902                   kannur_johor   \n",
       "24140701          anand_kakamega county   \n",
       "24144380        pali_muscat governorate   \n",
       "\n",
       "                                         location_post_embs  \\\n",
       "mapping                                                       \n",
       "24142696  [0.101442, 0.0442485, 0.0358052, 0.0361507, 0....   \n",
       "24140514  [0.231066, 0.296304, 0.234816, 0.254913, 0.444...   \n",
       "24142902  [-0.013964, 0.00548028, -0.00864858, 0.0049976...   \n",
       "24140701  [0.112178, 0.25917, 0.136845, 0.199748, 0.2368...   \n",
       "24144380  [0.0848778, 0.120216, 0.121797, 0.128381, 0.18...   \n",
       "\n",
       "                                         location_user_embs  location_bias  \\\n",
       "mapping                                                                      \n",
       "24142696  [0.106819, 0.0342476, 0.0656946, 0.0472308, 0....       0.042278   \n",
       "24140514  [-0.0371273, 0.083598, 0.0243366, 0.169848, -0...      -0.551625   \n",
       "24142902  [0.0268046, 0.044769, 0.045428, 0.051317, 0.07...      -0.244242   \n",
       "24140701  [0.018624, 0.0265641, 0.0396445, 0.0173614, 0....      -0.252025   \n",
       "24144380  [0.117159, 0.0760136, 0.0689212, 0.079329, 0.0...       0.421416   \n",
       "\n",
       "                                          similar_locations  \\\n",
       "mapping                                                       \n",
       "24142696  [janakpur_dubai, kula_manisa, al harth_jazan, ...   \n",
       "24140514  [al-muzahmiyya_riyadh province, sikar_assam, s...   \n",
       "24142902  [kannur_johor, saran_thimphu, kutch_al batinah...   \n",
       "24140701  [anand_kakamega county, gorod voronezh_voronez...   \n",
       "24144380  [pali_muscat governorate, guliston tumani_sird...   \n",
       "\n",
       "                                          cosine_similarity  \n",
       "mapping                                                      \n",
       "24142696  [1.0000000000000002, 0.9346347277511485, 0.925...  \n",
       "24140514  [0.9999999999999999, 0.7769319609745171, 0.758...  \n",
       "24142902  [1.0000000000000002, 0.9081864210847753, 0.904...  \n",
       "24140701  [1.0000000000000002, 0.8601395758193444, 0.851...  \n",
       "24144380  [0.9999999999999998, 0.9153870306717415, 0.912...  "
      ]
     },
     "execution_count": 70,
     "metadata": {},
     "output_type": "execute_result"
    }
   ],
   "source": [
    "sampled_locations.tail(5)"
   ]
  },
  {
   "cell_type": "code",
   "execution_count": 47,
   "id": "modern-pearl",
   "metadata": {},
   "outputs": [
    {
     "name": "stderr",
     "output_type": "stream",
     "text": [
      "<ipython-input-47-e5c14e2aa28f>:1: SettingWithCopyWarning: \n",
      "A value is trying to be set on a copy of a slice from a DataFrame.\n",
      "Try using .loc[row_indexer,col_indexer] = value instead\n",
      "\n",
      "See the caveats in the documentation: https://pandas.pydata.org/pandas-docs/stable/user_guide/indexing.html#returning-a-view-versus-a-copy\n",
      "  location_mapping['location'] = mapping['object'].str.split('locationBucket_').str[-1]\n"
     ]
    }
   ],
   "source": [
    "location_mapping['location'] = mapping['object'].str.split('locationBucket_').str[-1] "
   ]
  },
  {
   "cell_type": "code",
   "execution_count": 63,
   "id": "current-elements",
   "metadata": {},
   "outputs": [
    {
     "data": {
      "text/html": [
       "<div>\n",
       "<style scoped>\n",
       "    .dataframe tbody tr th:only-of-type {\n",
       "        vertical-align: middle;\n",
       "    }\n",
       "\n",
       "    .dataframe tbody tr th {\n",
       "        vertical-align: top;\n",
       "    }\n",
       "\n",
       "    .dataframe thead th {\n",
       "        text-align: right;\n",
       "    }\n",
       "</style>\n",
       "<table border=\"1\" class=\"dataframe\">\n",
       "  <thead>\n",
       "    <tr style=\"text-align: right;\">\n",
       "      <th></th>\n",
       "      <th>location</th>\n",
       "      <th>location_post_embs</th>\n",
       "      <th>location_user_embs</th>\n",
       "      <th>location_bias</th>\n",
       "    </tr>\n",
       "    <tr>\n",
       "      <th>mapping</th>\n",
       "      <th></th>\n",
       "      <th></th>\n",
       "      <th></th>\n",
       "      <th></th>\n",
       "    </tr>\n",
       "  </thead>\n",
       "  <tbody>\n",
       "    <tr>\n",
       "      <th>24140341</th>\n",
       "      <td>(south) umzinyathi dc_kwazulu-natal</td>\n",
       "      <td>[0.104051, 0.0576361, 0.0281409, 0.0013603, 0....</td>\n",
       "      <td>[0.101274, 0.107041, 0.0831622, 0.0182644, 0.1...</td>\n",
       "      <td>0.127011</td>\n",
       "    </tr>\n",
       "    <tr>\n",
       "      <th>24140342</th>\n",
       "      <td>4lm_rajasthan</td>\n",
       "      <td>[-0.0381735, 0.0284101, 0.0333699, -0.00733359...</td>\n",
       "      <td>[0.0825477, 0.0979836, 0.0456688, 0.113165, 0....</td>\n",
       "      <td>-0.321994</td>\n",
       "    </tr>\n",
       "    <tr>\n",
       "      <th>24140343</th>\n",
       "      <td>aakkar_north governorate</td>\n",
       "      <td>[0.149043, 0.220884, 0.129671, 0.180512, 0.285...</td>\n",
       "      <td>[0.0990175, 0.0315876, 0.0763511, 0.0826484, 0...</td>\n",
       "      <td>0.387779</td>\n",
       "    </tr>\n",
       "    <tr>\n",
       "      <th>24140344</th>\n",
       "      <td>abanga-bigne_moyen-ogooue</td>\n",
       "      <td>[0.0609473, 0.0372103, 0.0723546, -0.00142679,...</td>\n",
       "      <td>[0.0324651, 0.0210004, 0.062029, 0.0591275, 0....</td>\n",
       "      <td>0.039166</td>\n",
       "    </tr>\n",
       "    <tr>\n",
       "      <th>24140345</th>\n",
       "      <td>abanoub_assiut governorate</td>\n",
       "      <td>[0.0337231, 0.0227387, 0.0542926, 0.0696732, 0...</td>\n",
       "      <td>[0.0262316, 0.0597258, 0.0527955, 0.0261947, 0...</td>\n",
       "      <td>0.133525</td>\n",
       "    </tr>\n",
       "  </tbody>\n",
       "</table>\n",
       "</div>"
      ],
      "text/plain": [
       "                                     location  \\\n",
       "mapping                                         \n",
       "24140341  (south) umzinyathi dc_kwazulu-natal   \n",
       "24140342                        4lm_rajasthan   \n",
       "24140343             aakkar_north governorate   \n",
       "24140344            abanga-bigne_moyen-ogooue   \n",
       "24140345           abanoub_assiut governorate   \n",
       "\n",
       "                                         location_post_embs  \\\n",
       "mapping                                                       \n",
       "24140341  [0.104051, 0.0576361, 0.0281409, 0.0013603, 0....   \n",
       "24140342  [-0.0381735, 0.0284101, 0.0333699, -0.00733359...   \n",
       "24140343  [0.149043, 0.220884, 0.129671, 0.180512, 0.285...   \n",
       "24140344  [0.0609473, 0.0372103, 0.0723546, -0.00142679,...   \n",
       "24140345  [0.0337231, 0.0227387, 0.0542926, 0.0696732, 0...   \n",
       "\n",
       "                                         location_user_embs  location_bias  \n",
       "mapping                                                                     \n",
       "24140341  [0.101274, 0.107041, 0.0831622, 0.0182644, 0.1...       0.127011  \n",
       "24140342  [0.0825477, 0.0979836, 0.0456688, 0.113165, 0....      -0.321994  \n",
       "24140343  [0.0990175, 0.0315876, 0.0763511, 0.0826484, 0...       0.387779  \n",
       "24140344  [0.0324651, 0.0210004, 0.062029, 0.0591275, 0....       0.039166  \n",
       "24140345  [0.0262316, 0.0597258, 0.0527955, 0.0261947, 0...       0.133525  "
      ]
     },
     "execution_count": 63,
     "metadata": {},
     "output_type": "execute_result"
    }
   ],
   "source": [
    "location_mapping.head(5)"
   ]
  },
  {
   "cell_type": "code",
   "execution_count": 73,
   "id": "distant-radio",
   "metadata": {},
   "outputs": [
    {
     "data": {
      "text/html": [
       "<div>\n",
       "<style scoped>\n",
       "    .dataframe tbody tr th:only-of-type {\n",
       "        vertical-align: middle;\n",
       "    }\n",
       "\n",
       "    .dataframe tbody tr th {\n",
       "        vertical-align: top;\n",
       "    }\n",
       "\n",
       "    .dataframe thead th {\n",
       "        text-align: right;\n",
       "    }\n",
       "</style>\n",
       "<table border=\"1\" class=\"dataframe\">\n",
       "  <thead>\n",
       "    <tr style=\"text-align: right;\">\n",
       "      <th></th>\n",
       "      <th>location</th>\n",
       "      <th>location_post_embs</th>\n",
       "      <th>location_user_embs</th>\n",
       "      <th>location_bias</th>\n",
       "    </tr>\n",
       "    <tr>\n",
       "      <th>mapping</th>\n",
       "      <th></th>\n",
       "      <th></th>\n",
       "      <th></th>\n",
       "      <th></th>\n",
       "    </tr>\n",
       "  </thead>\n",
       "  <tbody>\n",
       "    <tr>\n",
       "      <th>24140381</th>\n",
       "      <td>agra_uttar pradesh</td>\n",
       "      <td>[0.0163561, 0.0912644, 0.022996, 0.0564003, 0....</td>\n",
       "      <td>[0.308406, -0.0599296, 0.140461, 0.187802, 0.0...</td>\n",
       "      <td>0.107385</td>\n",
       "    </tr>\n",
       "    <tr>\n",
       "      <th>24140403</th>\n",
       "      <td>ahmedabad_uttar pradesh</td>\n",
       "      <td>[0.100228, 0.0710225, 0.0258819, 0.128603, 0.0...</td>\n",
       "      <td>[0.0949965, 0.0854674, 0.0710013, 0.149782, 0....</td>\n",
       "      <td>0.307652</td>\n",
       "    </tr>\n",
       "    <tr>\n",
       "      <th>24140528</th>\n",
       "      <td>alawal_uttar pradesh</td>\n",
       "      <td>[-0.0390414, -0.0515073, -0.0585844, -0.007947...</td>\n",
       "      <td>[0.0409647, 0.0322067, 0.112707, 0.0744967, 0....</td>\n",
       "      <td>0.648933</td>\n",
       "    </tr>\n",
       "    <tr>\n",
       "      <th>24140534</th>\n",
       "      <td>aligarh_uttar pradesh</td>\n",
       "      <td>[0.0176555, 0.105855, 0.0311591, 0.0637617, 0....</td>\n",
       "      <td>[0.0464878, -0.0270681, -0.0128773, 0.309399, ...</td>\n",
       "      <td>0.093520</td>\n",
       "    </tr>\n",
       "    <tr>\n",
       "      <th>24140548</th>\n",
       "      <td>almora_uttarakhand</td>\n",
       "      <td>[0.00882621, 0.0639144, 0.0206279, 0.0381731, ...</td>\n",
       "      <td>[-0.104439, 0.00966363, 0.153871, 0.105629, -0...</td>\n",
       "      <td>-0.069571</td>\n",
       "    </tr>\n",
       "    <tr>\n",
       "      <th>...</th>\n",
       "      <td>...</td>\n",
       "      <td>...</td>\n",
       "      <td>...</td>\n",
       "      <td>...</td>\n",
       "    </tr>\n",
       "    <tr>\n",
       "      <th>24145927</th>\n",
       "      <td>varanasi_uttar pradesh</td>\n",
       "      <td>[0.03008, 0.0903881, 0.0177325, 0.0532811, 0.1...</td>\n",
       "      <td>[0.0785108, 0.0488698, -0.110044, 0.0852572, -...</td>\n",
       "      <td>0.218754</td>\n",
       "    </tr>\n",
       "    <tr>\n",
       "      <th>24145946</th>\n",
       "      <td>vill_uttar pradesh</td>\n",
       "      <td>[0.0651642, 0.123794, 0.0320974, 0.0741413, 0....</td>\n",
       "      <td>[0.29733, 0.148037, 0.138092, 0.288412, -0.036...</td>\n",
       "      <td>0.476191</td>\n",
       "    </tr>\n",
       "    <tr>\n",
       "      <th>24146058</th>\n",
       "      <td>yamuna nagar_uttar pradesh</td>\n",
       "      <td>[-0.0252161, 0.0768343, 0.0447366, 0.0367306, ...</td>\n",
       "      <td>[0.0550142, 0.297125, -0.188637, 0.126489, 0.1...</td>\n",
       "      <td>-0.011406</td>\n",
       "    </tr>\n",
       "    <tr>\n",
       "      <th>24146160</th>\n",
       "      <td>भेरी_uttar pradesh</td>\n",
       "      <td>[0.0194763, 0.0757113, 0.017552, 0.042528, 0.1...</td>\n",
       "      <td>[0.231187, -0.046792, 0.0938207, 0.146476, -0....</td>\n",
       "      <td>0.086203</td>\n",
       "    </tr>\n",
       "    <tr>\n",
       "      <th>24146163</th>\n",
       "      <td>महाकाली_uttarakhand</td>\n",
       "      <td>[0.0120354, 0.0677564, 0.0334927, 0.030744, 0....</td>\n",
       "      <td>[0.15079, 0.417646, 0.125349, -0.0155285, 0.14...</td>\n",
       "      <td>0.211585</td>\n",
       "    </tr>\n",
       "  </tbody>\n",
       "</table>\n",
       "<p>200 rows × 4 columns</p>\n",
       "</div>"
      ],
      "text/plain": [
       "                            location  \\\n",
       "mapping                                \n",
       "24140381          agra_uttar pradesh   \n",
       "24140403     ahmedabad_uttar pradesh   \n",
       "24140528        alawal_uttar pradesh   \n",
       "24140534       aligarh_uttar pradesh   \n",
       "24140548          almora_uttarakhand   \n",
       "...                              ...   \n",
       "24145927      varanasi_uttar pradesh   \n",
       "24145946          vill_uttar pradesh   \n",
       "24146058  yamuna nagar_uttar pradesh   \n",
       "24146160          भेरी_uttar pradesh   \n",
       "24146163         महाकाली_uttarakhand   \n",
       "\n",
       "                                         location_post_embs  \\\n",
       "mapping                                                       \n",
       "24140381  [0.0163561, 0.0912644, 0.022996, 0.0564003, 0....   \n",
       "24140403  [0.100228, 0.0710225, 0.0258819, 0.128603, 0.0...   \n",
       "24140528  [-0.0390414, -0.0515073, -0.0585844, -0.007947...   \n",
       "24140534  [0.0176555, 0.105855, 0.0311591, 0.0637617, 0....   \n",
       "24140548  [0.00882621, 0.0639144, 0.0206279, 0.0381731, ...   \n",
       "...                                                     ...   \n",
       "24145927  [0.03008, 0.0903881, 0.0177325, 0.0532811, 0.1...   \n",
       "24145946  [0.0651642, 0.123794, 0.0320974, 0.0741413, 0....   \n",
       "24146058  [-0.0252161, 0.0768343, 0.0447366, 0.0367306, ...   \n",
       "24146160  [0.0194763, 0.0757113, 0.017552, 0.042528, 0.1...   \n",
       "24146163  [0.0120354, 0.0677564, 0.0334927, 0.030744, 0....   \n",
       "\n",
       "                                         location_user_embs  location_bias  \n",
       "mapping                                                                     \n",
       "24140381  [0.308406, -0.0599296, 0.140461, 0.187802, 0.0...       0.107385  \n",
       "24140403  [0.0949965, 0.0854674, 0.0710013, 0.149782, 0....       0.307652  \n",
       "24140528  [0.0409647, 0.0322067, 0.112707, 0.0744967, 0....       0.648933  \n",
       "24140534  [0.0464878, -0.0270681, -0.0128773, 0.309399, ...       0.093520  \n",
       "24140548  [-0.104439, 0.00966363, 0.153871, 0.105629, -0...      -0.069571  \n",
       "...                                                     ...            ...  \n",
       "24145927  [0.0785108, 0.0488698, -0.110044, 0.0852572, -...       0.218754  \n",
       "24145946  [0.29733, 0.148037, 0.138092, 0.288412, -0.036...       0.476191  \n",
       "24146058  [0.0550142, 0.297125, -0.188637, 0.126489, 0.1...      -0.011406  \n",
       "24146160  [0.231187, -0.046792, 0.0938207, 0.146476, -0....       0.086203  \n",
       "24146163  [0.15079, 0.417646, 0.125349, -0.0155285, 0.14...       0.211585  \n",
       "\n",
       "[200 rows x 4 columns]"
      ]
     },
     "execution_count": 73,
     "metadata": {},
     "output_type": "execute_result"
    }
   ],
   "source": [
    "location_mapping[location_mapping.location.str.contains(\"uttar\")]"
   ]
  },
  {
   "cell_type": "code",
   "execution_count": 21,
   "id": "broke-valley",
   "metadata": {},
   "outputs": [
    {
     "data": {
      "text/plain": [
       "'i_1: 0.81823\\n'"
      ]
     },
     "execution_count": 21,
     "metadata": {},
     "output_type": "execute_result"
    }
   ],
   "source": [
    "lines[2]"
   ]
  },
  {
   "cell_type": "code",
   "execution_count": 36,
   "id": "excellent-instruction",
   "metadata": {},
   "outputs": [
    {
     "data": {
      "text/plain": [
       "'v_1976264_1: -0.384767 0.0184156 -0.198459 0.02862 0.749588 -0.465176 1.03756 0.755093 -0.237331 -0.0749291 0.257781 0.179921 0.467672 -0.0607599 -0.317543 0.528643 -0.162297 0.133466 0.210119 0.0823327 -0.352756 -0.613152 0.112987 0.0811176 -0.212291 0.0384478 0.189875 -0.0466602 -0.573383 -0.0380357 -0.00423541 0.0257472\\n'"
      ]
     },
     "execution_count": 36,
     "metadata": {},
     "output_type": "execute_result"
    }
   ],
   "source": [
    "lines[-1]"
   ]
  },
  {
   "cell_type": "code",
   "execution_count": 28,
   "id": "interracial-delight",
   "metadata": {},
   "outputs": [],
   "source": [
    "for i, l in enumerate(lines):\n",
    "    if(l[0] == 'v'):\n",
    "        break"
   ]
  },
  {
   "cell_type": "code",
   "execution_count": 29,
   "id": "ceramic-winter",
   "metadata": {},
   "outputs": [
    {
     "name": "stdout",
     "output_type": "stream",
     "text": [
      "1976266\n"
     ]
    }
   ],
   "source": [
    "print(i)"
   ]
  },
  {
   "cell_type": "code",
   "execution_count": 19,
   "id": "billion-baker",
   "metadata": {},
   "outputs": [
    {
     "data": {
      "text/html": [
       "<div>\n",
       "<style scoped>\n",
       "    .dataframe tbody tr th:only-of-type {\n",
       "        vertical-align: middle;\n",
       "    }\n",
       "\n",
       "    .dataframe tbody tr th {\n",
       "        vertical-align: top;\n",
       "    }\n",
       "\n",
       "    .dataframe thead th {\n",
       "        text-align: right;\n",
       "    }\n",
       "</style>\n",
       "<table border=\"1\" class=\"dataframe\">\n",
       "  <thead>\n",
       "    <tr style=\"text-align: right;\">\n",
       "      <th></th>\n",
       "      <th>location</th>\n",
       "      <th>location_post_embs</th>\n",
       "      <th>location_user_embs</th>\n",
       "      <th>location_bias</th>\n",
       "    </tr>\n",
       "    <tr>\n",
       "      <th>mapping</th>\n",
       "      <th></th>\n",
       "      <th></th>\n",
       "      <th></th>\n",
       "      <th></th>\n",
       "    </tr>\n",
       "  </thead>\n",
       "  <tbody>\n",
       "    <tr>\n",
       "      <th>24144028</th>\n",
       "      <td>'amran governorate</td>\n",
       "      <td>[0.0476274, 0.0985418, 0.0945089, 0.102908, 0....</td>\n",
       "      <td>[0.0590635, 0.123265, 0.139928, 0.220338, 0.16...</td>\n",
       "      <td>0.862394</td>\n",
       "    </tr>\n",
       "    <tr>\n",
       "      <th>24144029</th>\n",
       "      <td>abu dhabi</td>\n",
       "      <td>[0.0118952, 0.101399, 0.0299083, 0.056269, 0.2...</td>\n",
       "      <td>[0.203786, 0.414275, 0.219784, -0.229608, 0.41...</td>\n",
       "      <td>-0.081865</td>\n",
       "    </tr>\n",
       "    <tr>\n",
       "      <th>24144030</th>\n",
       "      <td>ad dakhiliyah ‍governorate</td>\n",
       "      <td>[0.0331937, 0.17813, 0.0750565, 0.119955, 0.29...</td>\n",
       "      <td>[0.0563649, 0.0761893, 0.0458001, 0.0791271, 0...</td>\n",
       "      <td>0.333669</td>\n",
       "    </tr>\n",
       "    <tr>\n",
       "      <th>24144031</th>\n",
       "      <td>ad dhahirah governorate</td>\n",
       "      <td>[0.0164509, 0.101343, 0.0367861, 0.0427484, 0....</td>\n",
       "      <td>[-0.014704, 0.0633957, 0.127622, 0.176291, 0.0...</td>\n",
       "      <td>0.169855</td>\n",
       "    </tr>\n",
       "    <tr>\n",
       "      <th>24144032</th>\n",
       "      <td>addis ababa</td>\n",
       "      <td>[0.182803, 0.252469, 0.182235, 0.209159, 0.412...</td>\n",
       "      <td>[0.138104, 0.196535, 0.0724725, 0.209923, 0.21...</td>\n",
       "      <td>0.394284</td>\n",
       "    </tr>\n",
       "  </tbody>\n",
       "</table>\n",
       "</div>"
      ],
      "text/plain": [
       "                            location  \\\n",
       "mapping                                \n",
       "24144028          'amran governorate   \n",
       "24144029                   abu dhabi   \n",
       "24144030  ad dakhiliyah ‍governorate   \n",
       "24144031     ad dhahirah governorate   \n",
       "24144032                 addis ababa   \n",
       "\n",
       "                                         location_post_embs  \\\n",
       "mapping                                                       \n",
       "24144028  [0.0476274, 0.0985418, 0.0945089, 0.102908, 0....   \n",
       "24144029  [0.0118952, 0.101399, 0.0299083, 0.056269, 0.2...   \n",
       "24144030  [0.0331937, 0.17813, 0.0750565, 0.119955, 0.29...   \n",
       "24144031  [0.0164509, 0.101343, 0.0367861, 0.0427484, 0....   \n",
       "24144032  [0.182803, 0.252469, 0.182235, 0.209159, 0.412...   \n",
       "\n",
       "                                         location_user_embs  location_bias  \n",
       "mapping                                                                     \n",
       "24144028  [0.0590635, 0.123265, 0.139928, 0.220338, 0.16...       0.862394  \n",
       "24144029  [0.203786, 0.414275, 0.219784, -0.229608, 0.41...      -0.081865  \n",
       "24144030  [0.0563649, 0.0761893, 0.0458001, 0.0791271, 0...       0.333669  \n",
       "24144031  [-0.014704, 0.0633957, 0.127622, 0.176291, 0.0...       0.169855  \n",
       "24144032  [0.138104, 0.196535, 0.0724725, 0.209923, 0.21...       0.394284  "
      ]
     },
     "execution_count": 19,
     "metadata": {},
     "output_type": "execute_result"
    }
   ],
   "source": [
    "location_mapping.head(5)"
   ]
  },
  {
   "cell_type": "code",
   "execution_count": 11,
   "id": "demographic-drawing",
   "metadata": {},
   "outputs": [
    {
     "data": {
      "text/plain": [
       "'v_0_0: 9.13069e-07 0.0153469 0.0881585 0.0535119 0.0621593 0.0255465 0.00548882 0.0792049 0.0792553 0.109053 0.0447442 0.0606017 0.0969509 0.00403362 0.00623751 0.0618015 0.0783048 0.000898167 0.0447341 0.00779866 0.0487092 0.0801276 0.0687174 0.108556 0.0987245 0.0614782 0.0107298 0.0762944 0.0485357 0.0818097 0.10621 0.0889276\\n'"
      ]
     },
     "execution_count": 11,
     "metadata": {},
     "output_type": "execute_result"
    }
   ],
   "source": [
    "lines[i]"
   ]
  },
  {
   "cell_type": "code",
   "execution_count": 14,
   "id": "forbidden-jonathan",
   "metadata": {},
   "outputs": [
    {
     "data": {
      "text/plain": [
       "2.000000913069"
      ]
     },
     "execution_count": 14,
     "metadata": {},
     "output_type": "execute_result"
    }
   ],
   "source": [
    "float(\"9.13069e-07\")+2"
   ]
  },
  {
   "cell_type": "code",
   "execution_count": 26,
   "id": "modular-modeling",
   "metadata": {},
   "outputs": [],
   "source": [
    "df = pd.read_csv(\"./train_test_data_models/is_vp_succ2/Bengali/user_post_ffm_mapping.csv\", delimiter=\"\\t\")"
   ]
  },
  {
   "cell_type": "code",
   "execution_count": 27,
   "id": "charged-teddy",
   "metadata": {},
   "outputs": [
    {
     "data": {
      "text/html": [
       "<div>\n",
       "<style scoped>\n",
       "    .dataframe tbody tr th:only-of-type {\n",
       "        vertical-align: middle;\n",
       "    }\n",
       "\n",
       "    .dataframe tbody tr th {\n",
       "        vertical-align: top;\n",
       "    }\n",
       "\n",
       "    .dataframe thead th {\n",
       "        text-align: right;\n",
       "    }\n",
       "</style>\n",
       "<table border=\"1\" class=\"dataframe\">\n",
       "  <thead>\n",
       "    <tr style=\"text-align: right;\">\n",
       "      <th></th>\n",
       "      <th>feature_name</th>\n",
       "      <th>mapping</th>\n",
       "    </tr>\n",
       "  </thead>\n",
       "  <tbody>\n",
       "    <tr>\n",
       "      <th>0</th>\n",
       "      <td>1_post_1000023282</td>\n",
       "      <td>1</td>\n",
       "    </tr>\n",
       "    <tr>\n",
       "      <th>1</th>\n",
       "      <td>1_post_1000272282</td>\n",
       "      <td>2</td>\n",
       "    </tr>\n",
       "    <tr>\n",
       "      <th>2</th>\n",
       "      <td>1_post_1000759972</td>\n",
       "      <td>3</td>\n",
       "    </tr>\n",
       "    <tr>\n",
       "      <th>3</th>\n",
       "      <td>1_post_1000867472</td>\n",
       "      <td>4</td>\n",
       "    </tr>\n",
       "    <tr>\n",
       "      <th>4</th>\n",
       "      <td>1_post_1000918572</td>\n",
       "      <td>5</td>\n",
       "    </tr>\n",
       "  </tbody>\n",
       "</table>\n",
       "</div>"
      ],
      "text/plain": [
       "        feature_name  mapping\n",
       "0  1_post_1000023282        1\n",
       "1  1_post_1000272282        2\n",
       "2  1_post_1000759972        3\n",
       "3  1_post_1000867472        4\n",
       "4  1_post_1000918572        5"
      ]
     },
     "execution_count": 27,
     "metadata": {},
     "output_type": "execute_result"
    }
   ],
   "source": [
    "df.head(5)"
   ]
  },
  {
   "cell_type": "code",
   "execution_count": 32,
   "id": "gothic-africa",
   "metadata": {},
   "outputs": [],
   "source": [
    "model = open(model_path).readlines()\n",
    "embs = {}\n",
    "for s in model:\n",
    "    x = s.split(': ')\n",
    "    embs[x[0]] =  list(map(float, x[1].split(' ')))"
   ]
  },
  {
   "cell_type": "code",
   "execution_count": 35,
   "id": "available-employee",
   "metadata": {},
   "outputs": [
    {
     "name": "stdout",
     "output_type": "stream",
     "text": [
      "0\n",
      "1\n",
      "2\n",
      "3\n",
      "4\n"
     ]
    },
    {
     "data": {
      "text/plain": [
       "Index([None, None, None, None, None], dtype='object')"
      ]
     },
     "execution_count": 35,
     "metadata": {},
     "output_type": "execute_result"
    }
   ],
   "source": [
    "df.head(5).index.map(lambda x: print(x))"
   ]
  },
  {
   "cell_type": "code",
   "execution_count": 37,
   "id": "coated-government",
   "metadata": {},
   "outputs": [
    {
     "data": {
      "text/plain": [
       "'v_1976264_1: -0.384767 0.0184156 -0.198459 0.02862 0.749588 -0.465176 1.03756 0.755093 -0.237331 -0.0749291 0.257781 0.179921 0.467672 -0.0607599 -0.317543 0.528643 -0.162297 0.133466 0.210119 0.0823327 -0.352756 -0.613152 0.112987 0.0811176 -0.212291 0.0384478 0.189875 -0.0466602 -0.573383 -0.0380357 -0.00423541 0.0257472\\n'"
      ]
     },
     "execution_count": 37,
     "metadata": {},
     "output_type": "execute_result"
    }
   ],
   "source": [
    "model[-1]"
   ]
  },
  {
   "cell_type": "code",
   "execution_count": 41,
   "id": "scenic-investigation",
   "metadata": {},
   "outputs": [],
   "source": [
    "for i,s in enumerate(model):\n",
    "    temp = s.split(': ')\n",
    "    if(temp[0][-1] == '1' and temp[0][0] != 'i'):\n",
    "        break"
   ]
  },
  {
   "cell_type": "code",
   "execution_count": 42,
   "id": "chief-franklin",
   "metadata": {},
   "outputs": [
    {
     "data": {
      "text/plain": [
       "1976267"
      ]
     },
     "execution_count": 42,
     "metadata": {},
     "output_type": "execute_result"
    }
   ],
   "source": [
    "i"
   ]
  },
  {
   "cell_type": "code",
   "execution_count": 44,
   "id": "handy-central",
   "metadata": {},
   "outputs": [
    {
     "data": {
      "text/plain": [
       "'v_0_1: 0.0306211 0.00553781 0.0858806 0.0382959 0.0738116 0.0882524 0.115627 0.042625 0.0288227 0.114637 0.0843147 0.087896 0.0760144 0.00848045 0.0736945 0.103221 0.0318178 0.0509173 0.089429 0.0557382 0.0277418 0.0320741 0.0419164 0.0194268 0.0567633 0.104732 0.10608 0.0070662 0.105548 0.058864 0.0602371 0.0372224\\n'"
      ]
     },
     "execution_count": 44,
     "metadata": {},
     "output_type": "execute_result"
    }
   ],
   "source": [
    "model[i]"
   ]
  },
  {
   "cell_type": "code",
   "execution_count": 64,
   "id": "collaborative-acceptance",
   "metadata": {},
   "outputs": [],
   "source": [
    "mapping = pd.read_csv(user_post_mapping_path, names=['ids', 'mapping'],\n",
    "                header=None, delimiter = '\\t', skiprows=1)"
   ]
  },
  {
   "cell_type": "code",
   "execution_count": 65,
   "id": "fifteen-beach",
   "metadata": {},
   "outputs": [
    {
     "data": {
      "text/html": [
       "<div>\n",
       "<style scoped>\n",
       "    .dataframe tbody tr th:only-of-type {\n",
       "        vertical-align: middle;\n",
       "    }\n",
       "\n",
       "    .dataframe tbody tr th {\n",
       "        vertical-align: top;\n",
       "    }\n",
       "\n",
       "    .dataframe thead th {\n",
       "        text-align: right;\n",
       "    }\n",
       "</style>\n",
       "<table border=\"1\" class=\"dataframe\">\n",
       "  <thead>\n",
       "    <tr style=\"text-align: right;\">\n",
       "      <th></th>\n",
       "      <th>ids</th>\n",
       "      <th>mapping</th>\n",
       "    </tr>\n",
       "  </thead>\n",
       "  <tbody>\n",
       "    <tr>\n",
       "      <th>0</th>\n",
       "      <td>1_post_1000023282</td>\n",
       "      <td>1</td>\n",
       "    </tr>\n",
       "    <tr>\n",
       "      <th>1</th>\n",
       "      <td>1_post_1000272282</td>\n",
       "      <td>2</td>\n",
       "    </tr>\n",
       "    <tr>\n",
       "      <th>2</th>\n",
       "      <td>1_post_1000759972</td>\n",
       "      <td>3</td>\n",
       "    </tr>\n",
       "    <tr>\n",
       "      <th>3</th>\n",
       "      <td>1_post_1000867472</td>\n",
       "      <td>4</td>\n",
       "    </tr>\n",
       "    <tr>\n",
       "      <th>4</th>\n",
       "      <td>1_post_1000918572</td>\n",
       "      <td>5</td>\n",
       "    </tr>\n",
       "  </tbody>\n",
       "</table>\n",
       "</div>"
      ],
      "text/plain": [
       "                 ids  mapping\n",
       "0  1_post_1000023282        1\n",
       "1  1_post_1000272282        2\n",
       "2  1_post_1000759972        3\n",
       "3  1_post_1000867472        4\n",
       "4  1_post_1000918572        5"
      ]
     },
     "execution_count": 65,
     "metadata": {},
     "output_type": "execute_result"
    }
   ],
   "source": [
    "mapping.head(5)"
   ]
  },
  {
   "cell_type": "code",
   "execution_count": 66,
   "id": "peripheral-forty",
   "metadata": {},
   "outputs": [
    {
     "name": "stderr",
     "output_type": "stream",
     "text": [
      "<ipython-input-66-ca614a5bd78f>:2: SettingWithCopyWarning: \n",
      "A value is trying to be set on a copy of a slice from a DataFrame.\n",
      "Try using .loc[row_indexer,col_indexer] = value instead\n",
      "\n",
      "See the caveats in the documentation: https://pandas.pydata.org/pandas-docs/stable/user_guide/indexing.html#returning-a-view-versus-a-copy\n",
      "  user_mapping['userId'] = user_mapping['ids'].str.slice(7)\n",
      "<ipython-input-66-ca614a5bd78f>:5: SettingWithCopyWarning: \n",
      "A value is trying to be set on a copy of a slice from a DataFrame.\n",
      "Try using .loc[row_indexer,col_indexer] = value instead\n",
      "\n",
      "See the caveats in the documentation: https://pandas.pydata.org/pandas-docs/stable/user_guide/indexing.html#returning-a-view-versus-a-copy\n",
      "  post_mapping['postId'] = mapping['ids'].str.slice(7)\n"
     ]
    }
   ],
   "source": [
    "user_mapping = mapping[mapping['ids'].str.contains('user_')]\n",
    "user_mapping['userId'] = user_mapping['ids'].str.slice(7)\n",
    "\n",
    "post_mapping = mapping[mapping['ids'].str.contains('post_')]\n",
    "post_mapping['postId'] = mapping['ids'].str.slice(7)"
   ]
  },
  {
   "cell_type": "code",
   "execution_count": 67,
   "id": "accepted-produce",
   "metadata": {},
   "outputs": [
    {
     "data": {
      "text/plain": [
       "Int64Index([31693, 31694, 31695, 31696, 31697], dtype='int64')"
      ]
     },
     "execution_count": 67,
     "metadata": {},
     "output_type": "execute_result"
    }
   ],
   "source": [
    "user_mapping.head(5).index"
   ]
  },
  {
   "cell_type": "code",
   "execution_count": 68,
   "id": "flying-chuck",
   "metadata": {},
   "outputs": [
    {
     "data": {
      "text/html": [
       "<div>\n",
       "<style scoped>\n",
       "    .dataframe tbody tr th:only-of-type {\n",
       "        vertical-align: middle;\n",
       "    }\n",
       "\n",
       "    .dataframe tbody tr th {\n",
       "        vertical-align: top;\n",
       "    }\n",
       "\n",
       "    .dataframe thead th {\n",
       "        text-align: right;\n",
       "    }\n",
       "</style>\n",
       "<table border=\"1\" class=\"dataframe\">\n",
       "  <thead>\n",
       "    <tr style=\"text-align: right;\">\n",
       "      <th></th>\n",
       "      <th>ids</th>\n",
       "      <th>mapping</th>\n",
       "      <th>userId</th>\n",
       "    </tr>\n",
       "  </thead>\n",
       "  <tbody>\n",
       "    <tr>\n",
       "      <th>31693</th>\n",
       "      <td>2_user_1000005774</td>\n",
       "      <td>31694</td>\n",
       "      <td>1000005774</td>\n",
       "    </tr>\n",
       "    <tr>\n",
       "      <th>31694</th>\n",
       "      <td>2_user_1000007538</td>\n",
       "      <td>31695</td>\n",
       "      <td>1000007538</td>\n",
       "    </tr>\n",
       "    <tr>\n",
       "      <th>31695</th>\n",
       "      <td>2_user_1000007814</td>\n",
       "      <td>31696</td>\n",
       "      <td>1000007814</td>\n",
       "    </tr>\n",
       "    <tr>\n",
       "      <th>31696</th>\n",
       "      <td>2_user_1000009203</td>\n",
       "      <td>31697</td>\n",
       "      <td>1000009203</td>\n",
       "    </tr>\n",
       "    <tr>\n",
       "      <th>31697</th>\n",
       "      <td>2_user_1000009529</td>\n",
       "      <td>31698</td>\n",
       "      <td>1000009529</td>\n",
       "    </tr>\n",
       "  </tbody>\n",
       "</table>\n",
       "</div>"
      ],
      "text/plain": [
       "                     ids  mapping      userId\n",
       "31693  2_user_1000005774    31694  1000005774\n",
       "31694  2_user_1000007538    31695  1000007538\n",
       "31695  2_user_1000007814    31696  1000007814\n",
       "31696  2_user_1000009203    31697  1000009203\n",
       "31697  2_user_1000009529    31698  1000009529"
      ]
     },
     "execution_count": 68,
     "metadata": {},
     "output_type": "execute_result"
    }
   ],
   "source": [
    "user_mapping.head(5)"
   ]
  },
  {
   "cell_type": "code",
   "execution_count": 69,
   "id": "military-waterproof",
   "metadata": {},
   "outputs": [
    {
     "data": {
      "text/plain": [
       "'bias: -1.68722\\n'"
      ]
     },
     "execution_count": 69,
     "metadata": {},
     "output_type": "execute_result"
    }
   ],
   "source": [
    "lines[0]"
   ]
  },
  {
   "cell_type": "code",
   "execution_count": 77,
   "id": "conditional-german",
   "metadata": {},
   "outputs": [
    {
     "name": "stdout",
     "output_type": "stream",
     "text": [
      "['v_0_1', '0.0306211 0.00553781 0.0858806 0.0382959 0.0738116 0.0882524 0.115627 0.042625 0.0288227 0.114637 0.0843147 0.087896 0.0760144 0.00848045 0.0736945 0.103221 0.0318178 0.0509173 0.089429 0.0557382 0.0277418 0.0320741 0.0419164 0.0194268 0.0567633 0.104732 0.10608 0.0070662 0.105548 0.058864 0.0602371 0.0372224\\n']\n"
     ]
    }
   ],
   "source": [
    "for i,l in enumerate(lines):\n",
    "    temp = l.split(': ')\n",
    "    if temp[0][-1] == '1' and temp[0][0] == 'v':\n",
    "        print(temp)\n",
    "        break"
   ]
  },
  {
   "cell_type": "code",
   "execution_count": 73,
   "id": "vocational-litigation",
   "metadata": {},
   "outputs": [
    {
     "data": {
      "text/html": [
       "<div>\n",
       "<style scoped>\n",
       "    .dataframe tbody tr th:only-of-type {\n",
       "        vertical-align: middle;\n",
       "    }\n",
       "\n",
       "    .dataframe tbody tr th {\n",
       "        vertical-align: top;\n",
       "    }\n",
       "\n",
       "    .dataframe thead th {\n",
       "        text-align: right;\n",
       "    }\n",
       "</style>\n",
       "<table border=\"1\" class=\"dataframe\">\n",
       "  <thead>\n",
       "    <tr style=\"text-align: right;\">\n",
       "      <th></th>\n",
       "      <th>ids</th>\n",
       "      <th>mapping</th>\n",
       "      <th>userId</th>\n",
       "    </tr>\n",
       "  </thead>\n",
       "  <tbody>\n",
       "    <tr>\n",
       "      <th>1976259</th>\n",
       "      <td>2_user_999989774</td>\n",
       "      <td>1976260</td>\n",
       "      <td>999989774</td>\n",
       "    </tr>\n",
       "    <tr>\n",
       "      <th>1976260</th>\n",
       "      <td>2_user_999991513</td>\n",
       "      <td>1976261</td>\n",
       "      <td>999991513</td>\n",
       "    </tr>\n",
       "    <tr>\n",
       "      <th>1976261</th>\n",
       "      <td>2_user_999994057</td>\n",
       "      <td>1976262</td>\n",
       "      <td>999994057</td>\n",
       "    </tr>\n",
       "    <tr>\n",
       "      <th>1976262</th>\n",
       "      <td>2_user_99999667</td>\n",
       "      <td>1976263</td>\n",
       "      <td>99999667</td>\n",
       "    </tr>\n",
       "    <tr>\n",
       "      <th>1976263</th>\n",
       "      <td>2_user_999999891</td>\n",
       "      <td>1976264</td>\n",
       "      <td>999999891</td>\n",
       "    </tr>\n",
       "  </tbody>\n",
       "</table>\n",
       "</div>"
      ],
      "text/plain": [
       "                      ids  mapping     userId\n",
       "1976259  2_user_999989774  1976260  999989774\n",
       "1976260  2_user_999991513  1976261  999991513\n",
       "1976261  2_user_999994057  1976262  999994057\n",
       "1976262   2_user_99999667  1976263   99999667\n",
       "1976263  2_user_999999891  1976264  999999891"
      ]
     },
     "execution_count": 73,
     "metadata": {},
     "output_type": "execute_result"
    }
   ],
   "source": [
    "user_mapping.tail(5)"
   ]
  },
  {
   "cell_type": "code",
   "execution_count": 74,
   "id": "occupied-onion",
   "metadata": {},
   "outputs": [
    {
     "data": {
      "text/plain": [
       "'v_1976264_1: -0.384767 0.0184156 -0.198459 0.02862 0.749588 -0.465176 1.03756 0.755093 -0.237331 -0.0749291 0.257781 0.179921 0.467672 -0.0607599 -0.317543 0.528643 -0.162297 0.133466 0.210119 0.0823327 -0.352756 -0.613152 0.112987 0.0811176 -0.212291 0.0384478 0.189875 -0.0466602 -0.573383 -0.0380357 -0.00423541 0.0257472\\n'"
      ]
     },
     "execution_count": 74,
     "metadata": {},
     "output_type": "execute_result"
    }
   ],
   "source": [
    "lines[-1]"
   ]
  },
  {
   "cell_type": "code",
   "execution_count": 75,
   "id": "strange-wallace",
   "metadata": {},
   "outputs": [
    {
     "data": {
      "text/plain": [
       "(1976265, 2)"
      ]
     },
     "execution_count": 75,
     "metadata": {},
     "output_type": "execute_result"
    }
   ],
   "source": [
    "df.shape"
   ]
  },
  {
   "cell_type": "code",
   "execution_count": 78,
   "id": "applicable-anaheim",
   "metadata": {},
   "outputs": [
    {
     "data": {
      "text/plain": [
       "1976267"
      ]
     },
     "execution_count": 78,
     "metadata": {},
     "output_type": "execute_result"
    }
   ],
   "source": [
    "i"
   ]
  },
  {
   "cell_type": "code",
   "execution_count": 79,
   "id": "authentic-disorder",
   "metadata": {},
   "outputs": [
    {
     "data": {
      "text/plain": [
       "3952529"
      ]
     },
     "execution_count": 79,
     "metadata": {},
     "output_type": "execute_result"
    }
   ],
   "source": [
    "len(lines)-i"
   ]
  },
  {
   "cell_type": "code",
   "execution_count": 80,
   "id": "atmospheric-bangladesh",
   "metadata": {},
   "outputs": [
    {
     "data": {
      "text/plain": [
       "5928796"
      ]
     },
     "execution_count": 80,
     "metadata": {},
     "output_type": "execute_result"
    }
   ],
   "source": [
    "len(lines)"
   ]
  },
  {
   "cell_type": "code",
   "execution_count": 84,
   "id": "lonely-guarantee",
   "metadata": {},
   "outputs": [
    {
     "data": {
      "text/plain": [
       "'v_2_0: -0.0336824 0.496715 0.270941 -0.0819325 0.561933 0.0507159 0.408108 0.318693 0.232859 0.298464 -0.12911 0.535579 0.135187 0.079769 0.506298 0.235516 -0.339947 0.475495 0.146366 0.248828 -0.148972 0.0708901 0.199863 0.301869 0.252357 0.0395289 0.0422494 0.368209 -0.284703 0.162369 -0.224932 0.333465\\n'"
      ]
     },
     "execution_count": 84,
     "metadata": {},
     "output_type": "execute_result"
    }
   ],
   "source": [
    "lines[i+3]"
   ]
  },
  {
   "cell_type": "code",
   "execution_count": 86,
   "id": "editorial-bradley",
   "metadata": {},
   "outputs": [
    {
     "data": {
      "text/plain": [
       "'i_1976264: -0.101978\\n'"
      ]
     },
     "execution_count": 86,
     "metadata": {},
     "output_type": "execute_result"
    }
   ],
   "source": [
    "lines[i-2]"
   ]
  },
  {
   "cell_type": "code",
   "execution_count": 87,
   "id": "genuine-angola",
   "metadata": {},
   "outputs": [
    {
     "name": "stderr",
     "output_type": "stream",
     "text": [
      "<ipython-input-87-9513ec7a52cb>:1: SettingWithCopyWarning: \n",
      "A value is trying to be set on a copy of a slice from a DataFrame.\n",
      "Try using .loc[row_indexer,col_indexer] = value instead\n",
      "\n",
      "See the caveats in the documentation: https://pandas.pydata.org/pandas-docs/stable/user_guide/indexing.html#returning-a-view-versus-a-copy\n",
      "  post_mapping['embs'] = post_mapping.mapping.map(lambda x: embs['v_' + str(x) + '_0'])\n",
      "<ipython-input-87-9513ec7a52cb>:2: SettingWithCopyWarning: \n",
      "A value is trying to be set on a copy of a slice from a DataFrame.\n",
      "Try using .loc[row_indexer,col_indexer] = value instead\n",
      "\n",
      "See the caveats in the documentation: https://pandas.pydata.org/pandas-docs/stable/user_guide/indexing.html#returning-a-view-versus-a-copy\n",
      "  post_mapping['bias'] = post_mapping.mapping.map(lambda x: embs['i_' + str(x)][0])\n"
     ]
    }
   ],
   "source": [
    "post_mapping['embs'] = post_mapping.mapping.map(lambda x: embs['v_' + str(x) + '_0'])\n",
    "post_mapping['bias'] = post_mapping.mapping.map(lambda x: embs['i_' + str(x)][0])"
   ]
  },
  {
   "cell_type": "code",
   "execution_count": 90,
   "id": "imported-delhi",
   "metadata": {},
   "outputs": [
    {
     "name": "stderr",
     "output_type": "stream",
     "text": [
      "<ipython-input-90-26c524d8b590>:1: SettingWithCopyWarning: \n",
      "A value is trying to be set on a copy of a slice from a DataFrame.\n",
      "Try using .loc[row_indexer,col_indexer] = value instead\n",
      "\n",
      "See the caveats in the documentation: https://pandas.pydata.org/pandas-docs/stable/user_guide/indexing.html#returning-a-view-versus-a-copy\n",
      "  user_mapping['embs'] = user_mapping.mapping.map(lambda x: embs['v_' + str(x) + '_1'])\n",
      "<ipython-input-90-26c524d8b590>:2: SettingWithCopyWarning: \n",
      "A value is trying to be set on a copy of a slice from a DataFrame.\n",
      "Try using .loc[row_indexer,col_indexer] = value instead\n",
      "\n",
      "See the caveats in the documentation: https://pandas.pydata.org/pandas-docs/stable/user_guide/indexing.html#returning-a-view-versus-a-copy\n",
      "  user_mapping['bias'] = user_mapping.mapping.map(lambda x: embs['i_' + str(x)][0])\n"
     ]
    }
   ],
   "source": [
    "user_mapping['embs'] = user_mapping.mapping.map(lambda x: embs['v_' + str(x) + '_1'])\n",
    "user_mapping['bias'] = user_mapping.mapping.map(lambda x: embs['i_' + str(x)][0])"
   ]
  },
  {
   "cell_type": "code",
   "execution_count": 91,
   "id": "dietary-circuit",
   "metadata": {},
   "outputs": [
    {
     "data": {
      "text/html": [
       "<div>\n",
       "<style scoped>\n",
       "    .dataframe tbody tr th:only-of-type {\n",
       "        vertical-align: middle;\n",
       "    }\n",
       "\n",
       "    .dataframe tbody tr th {\n",
       "        vertical-align: top;\n",
       "    }\n",
       "\n",
       "    .dataframe thead th {\n",
       "        text-align: right;\n",
       "    }\n",
       "</style>\n",
       "<table border=\"1\" class=\"dataframe\">\n",
       "  <thead>\n",
       "    <tr style=\"text-align: right;\">\n",
       "      <th></th>\n",
       "      <th>ids</th>\n",
       "      <th>mapping</th>\n",
       "      <th>userId</th>\n",
       "      <th>embs</th>\n",
       "      <th>bias</th>\n",
       "    </tr>\n",
       "  </thead>\n",
       "  <tbody>\n",
       "    <tr>\n",
       "      <th>31693</th>\n",
       "      <td>2_user_1000005774</td>\n",
       "      <td>31694</td>\n",
       "      <td>1000005774</td>\n",
       "      <td>[-0.0151534, 0.048237, 0.133296, 0.0609551, -0...</td>\n",
       "      <td>0.081973</td>\n",
       "    </tr>\n",
       "    <tr>\n",
       "      <th>31694</th>\n",
       "      <td>2_user_1000007538</td>\n",
       "      <td>31695</td>\n",
       "      <td>1000007538</td>\n",
       "      <td>[0.0285963, 0.0662877, -0.216215, -0.121115, 0...</td>\n",
       "      <td>-2.237300</td>\n",
       "    </tr>\n",
       "    <tr>\n",
       "      <th>31695</th>\n",
       "      <td>2_user_1000007814</td>\n",
       "      <td>31696</td>\n",
       "      <td>1000007814</td>\n",
       "      <td>[-0.119122, -0.0127557, 0.0055039, -0.0575958,...</td>\n",
       "      <td>-0.225457</td>\n",
       "    </tr>\n",
       "    <tr>\n",
       "      <th>31696</th>\n",
       "      <td>2_user_1000009203</td>\n",
       "      <td>31697</td>\n",
       "      <td>1000009203</td>\n",
       "      <td>[0.07242, -0.0817003, 0.148537, -0.117717, -0....</td>\n",
       "      <td>-0.637548</td>\n",
       "    </tr>\n",
       "    <tr>\n",
       "      <th>31697</th>\n",
       "      <td>2_user_1000009529</td>\n",
       "      <td>31698</td>\n",
       "      <td>1000009529</td>\n",
       "      <td>[0.0593121, 0.33128, 0.367663, 0.204667, 0.064...</td>\n",
       "      <td>0.281941</td>\n",
       "    </tr>\n",
       "  </tbody>\n",
       "</table>\n",
       "</div>"
      ],
      "text/plain": [
       "                     ids  mapping      userId  \\\n",
       "31693  2_user_1000005774    31694  1000005774   \n",
       "31694  2_user_1000007538    31695  1000007538   \n",
       "31695  2_user_1000007814    31696  1000007814   \n",
       "31696  2_user_1000009203    31697  1000009203   \n",
       "31697  2_user_1000009529    31698  1000009529   \n",
       "\n",
       "                                                    embs      bias  \n",
       "31693  [-0.0151534, 0.048237, 0.133296, 0.0609551, -0...  0.081973  \n",
       "31694  [0.0285963, 0.0662877, -0.216215, -0.121115, 0... -2.237300  \n",
       "31695  [-0.119122, -0.0127557, 0.0055039, -0.0575958,... -0.225457  \n",
       "31696  [0.07242, -0.0817003, 0.148537, -0.117717, -0.... -0.637548  \n",
       "31697  [0.0593121, 0.33128, 0.367663, 0.204667, 0.064...  0.281941  "
      ]
     },
     "execution_count": 91,
     "metadata": {},
     "output_type": "execute_result"
    }
   ],
   "source": [
    "user_mapping.head(5)"
   ]
  },
  {
   "cell_type": "code",
   "execution_count": 92,
   "id": "wound-supply",
   "metadata": {},
   "outputs": [],
   "source": [
    "post_mapping = post_mapping[['postId', 'embs']]\n",
    "user_mapping = user_mapping[['userId', 'embs']]"
   ]
  },
  {
   "cell_type": "code",
   "execution_count": 93,
   "id": "exciting-pottery",
   "metadata": {},
   "outputs": [
    {
     "data": {
      "text/html": [
       "<div>\n",
       "<style scoped>\n",
       "    .dataframe tbody tr th:only-of-type {\n",
       "        vertical-align: middle;\n",
       "    }\n",
       "\n",
       "    .dataframe tbody tr th {\n",
       "        vertical-align: top;\n",
       "    }\n",
       "\n",
       "    .dataframe thead th {\n",
       "        text-align: right;\n",
       "    }\n",
       "</style>\n",
       "<table border=\"1\" class=\"dataframe\">\n",
       "  <thead>\n",
       "    <tr style=\"text-align: right;\">\n",
       "      <th></th>\n",
       "      <th>postId</th>\n",
       "      <th>embs</th>\n",
       "    </tr>\n",
       "  </thead>\n",
       "  <tbody>\n",
       "    <tr>\n",
       "      <th>0</th>\n",
       "      <td>1000023282</td>\n",
       "      <td>[0.389045, 0.593008, 0.263784, 0.505996, 0.310...</td>\n",
       "    </tr>\n",
       "    <tr>\n",
       "      <th>1</th>\n",
       "      <td>1000272282</td>\n",
       "      <td>[-0.0336824, 0.496715, 0.270941, -0.0819325, 0...</td>\n",
       "    </tr>\n",
       "    <tr>\n",
       "      <th>2</th>\n",
       "      <td>1000759972</td>\n",
       "      <td>[0.43129, 0.660865, 0.770177, 0.20388, 0.03448...</td>\n",
       "    </tr>\n",
       "    <tr>\n",
       "      <th>3</th>\n",
       "      <td>1000867472</td>\n",
       "      <td>[-0.35692, -0.173044, -0.56379, 0.599986, 0.12...</td>\n",
       "    </tr>\n",
       "    <tr>\n",
       "      <th>4</th>\n",
       "      <td>1000918572</td>\n",
       "      <td>[0.834869, -0.275304, 0.107529, 0.447371, 0.50...</td>\n",
       "    </tr>\n",
       "  </tbody>\n",
       "</table>\n",
       "</div>"
      ],
      "text/plain": [
       "       postId                                               embs\n",
       "0  1000023282  [0.389045, 0.593008, 0.263784, 0.505996, 0.310...\n",
       "1  1000272282  [-0.0336824, 0.496715, 0.270941, -0.0819325, 0...\n",
       "2  1000759972  [0.43129, 0.660865, 0.770177, 0.20388, 0.03448...\n",
       "3  1000867472  [-0.35692, -0.173044, -0.56379, 0.599986, 0.12...\n",
       "4  1000918572  [0.834869, -0.275304, 0.107529, 0.447371, 0.50..."
      ]
     },
     "execution_count": 93,
     "metadata": {},
     "output_type": "execute_result"
    }
   ],
   "source": [
    "post_mapping.head(5)"
   ]
  },
  {
   "cell_type": "code",
   "execution_count": 94,
   "id": "relative-imperial",
   "metadata": {},
   "outputs": [],
   "source": [
    "post_emb_mat = np.array(post_mapping.embs.to_list()) "
   ]
  },
  {
   "cell_type": "code",
   "execution_count": 96,
   "id": "exceptional-legislature",
   "metadata": {},
   "outputs": [
    {
     "data": {
      "text/plain": [
       "(31693, 32)"
      ]
     },
     "execution_count": 96,
     "metadata": {},
     "output_type": "execute_result"
    }
   ],
   "source": [
    "post_emb_mat.shape"
   ]
  },
  {
   "cell_type": "code",
   "execution_count": 98,
   "id": "simple-skill",
   "metadata": {},
   "outputs": [
    {
     "data": {
      "text/plain": [
       "1.6591597586144018"
      ]
     },
     "execution_count": 98,
     "metadata": {},
     "output_type": "execute_result"
    }
   ],
   "source": [
    "np.linalg.norm(post_emb_mat[1])"
   ]
  },
  {
   "cell_type": "code",
   "execution_count": 100,
   "id": "sexual-copyright",
   "metadata": {},
   "outputs": [],
   "source": [
    "sampled_posts = post_mapping.sample(n = 12)"
   ]
  },
  {
   "cell_type": "code",
   "execution_count": 102,
   "id": "protecting-fishing",
   "metadata": {},
   "outputs": [
    {
     "data": {
      "text/html": [
       "<div>\n",
       "<style scoped>\n",
       "    .dataframe tbody tr th:only-of-type {\n",
       "        vertical-align: middle;\n",
       "    }\n",
       "\n",
       "    .dataframe tbody tr th {\n",
       "        vertical-align: top;\n",
       "    }\n",
       "\n",
       "    .dataframe thead th {\n",
       "        text-align: right;\n",
       "    }\n",
       "</style>\n",
       "<table border=\"1\" class=\"dataframe\">\n",
       "  <thead>\n",
       "    <tr style=\"text-align: right;\">\n",
       "      <th></th>\n",
       "      <th>postId</th>\n",
       "      <th>embs</th>\n",
       "    </tr>\n",
       "  </thead>\n",
       "  <tbody>\n",
       "    <tr>\n",
       "      <th>11180</th>\n",
       "      <td>3743303972</td>\n",
       "      <td>[-0.435723, -0.0230965, -0.512326, 0.252693, 0...</td>\n",
       "    </tr>\n",
       "    <tr>\n",
       "      <th>27693</th>\n",
       "      <td>9362945572</td>\n",
       "      <td>[0.522945, 0.158675, 0.4244, 0.571837, 0.05382...</td>\n",
       "    </tr>\n",
       "    <tr>\n",
       "      <th>1175</th>\n",
       "      <td>1197280872</td>\n",
       "      <td>[0.0642727, -0.169545, -0.0565719, -0.235322, ...</td>\n",
       "    </tr>\n",
       "    <tr>\n",
       "      <th>29796</th>\n",
       "      <td>9700303772</td>\n",
       "      <td>[0.12076, 0.465173, -0.0281689, 0.145544, -0.0...</td>\n",
       "    </tr>\n",
       "    <tr>\n",
       "      <th>29351</th>\n",
       "      <td>9624599282</td>\n",
       "      <td>[-0.00289742, -0.16665, 0.63338, -0.279567, -0...</td>\n",
       "    </tr>\n",
       "    <tr>\n",
       "      <th>18657</th>\n",
       "      <td>5924173272</td>\n",
       "      <td>[0.799029, -0.022157, -0.577354, 0.699148, -0....</td>\n",
       "    </tr>\n",
       "    <tr>\n",
       "      <th>5684</th>\n",
       "      <td>1879161572</td>\n",
       "      <td>[0.649723, 0.333849, -0.260854, 0.169189, -0.2...</td>\n",
       "    </tr>\n",
       "    <tr>\n",
       "      <th>6958</th>\n",
       "      <td>3081592472</td>\n",
       "      <td>[0.0692729, 0.38509, -0.0167813, 0.458627, -0....</td>\n",
       "    </tr>\n",
       "    <tr>\n",
       "      <th>8870</th>\n",
       "      <td>3390776772</td>\n",
       "      <td>[0.0757729, 0.416675, 0.130022, 0.720366, -0.0...</td>\n",
       "    </tr>\n",
       "    <tr>\n",
       "      <th>22554</th>\n",
       "      <td>7534619972</td>\n",
       "      <td>[-0.216479, -0.175487, 0.339488, -0.204452, 0....</td>\n",
       "    </tr>\n",
       "    <tr>\n",
       "      <th>11966</th>\n",
       "      <td>3869801572</td>\n",
       "      <td>[-0.180861, 0.146044, -0.0178207, 0.38194, -0....</td>\n",
       "    </tr>\n",
       "    <tr>\n",
       "      <th>1691</th>\n",
       "      <td>1271412272</td>\n",
       "      <td>[-0.169713, -0.21562, 0.190216, 0.332484, 0.01...</td>\n",
       "    </tr>\n",
       "  </tbody>\n",
       "</table>\n",
       "</div>"
      ],
      "text/plain": [
       "           postId                                               embs\n",
       "11180  3743303972  [-0.435723, -0.0230965, -0.512326, 0.252693, 0...\n",
       "27693  9362945572  [0.522945, 0.158675, 0.4244, 0.571837, 0.05382...\n",
       "1175   1197280872  [0.0642727, -0.169545, -0.0565719, -0.235322, ...\n",
       "29796  9700303772  [0.12076, 0.465173, -0.0281689, 0.145544, -0.0...\n",
       "29351  9624599282  [-0.00289742, -0.16665, 0.63338, -0.279567, -0...\n",
       "18657  5924173272  [0.799029, -0.022157, -0.577354, 0.699148, -0....\n",
       "5684   1879161572  [0.649723, 0.333849, -0.260854, 0.169189, -0.2...\n",
       "6958   3081592472  [0.0692729, 0.38509, -0.0167813, 0.458627, -0....\n",
       "8870   3390776772  [0.0757729, 0.416675, 0.130022, 0.720366, -0.0...\n",
       "22554  7534619972  [-0.216479, -0.175487, 0.339488, -0.204452, 0....\n",
       "11966  3869801572  [-0.180861, 0.146044, -0.0178207, 0.38194, -0....\n",
       "1691   1271412272  [-0.169713, -0.21562, 0.190216, 0.332484, 0.01..."
      ]
     },
     "execution_count": 102,
     "metadata": {},
     "output_type": "execute_result"
    }
   ],
   "source": [
    "sampled"
   ]
  },
  {
   "cell_type": "code",
   "execution_count": 106,
   "id": "fatal-thailand",
   "metadata": {},
   "outputs": [],
   "source": [
    "res = cosine_similarity(sampled.embs.to_list(), post_emb_mat)"
   ]
  },
  {
   "cell_type": "code",
   "execution_count": 107,
   "id": "induced-proxy",
   "metadata": {},
   "outputs": [
    {
     "data": {
      "text/plain": [
       "(12, 31693)"
      ]
     },
     "execution_count": 107,
     "metadata": {},
     "output_type": "execute_result"
    }
   ],
   "source": [
    "res.shape"
   ]
  },
  {
   "cell_type": "code",
   "execution_count": 108,
   "id": "intelligent-essay",
   "metadata": {},
   "outputs": [
    {
     "data": {
      "text/plain": [
       "array([-0.27951027,  0.35294845,  0.19703144, ...,  0.02860971,\n",
       "        0.39252253, -0.01030776])"
      ]
     },
     "execution_count": 108,
     "metadata": {},
     "output_type": "execute_result"
    }
   ],
   "source": [
    "res[0]"
   ]
  },
  {
   "cell_type": "code",
   "execution_count": 114,
   "id": "committed-cylinder",
   "metadata": {},
   "outputs": [
    {
     "data": {
      "text/html": [
       "<div>\n",
       "<style scoped>\n",
       "    .dataframe tbody tr th:only-of-type {\n",
       "        vertical-align: middle;\n",
       "    }\n",
       "\n",
       "    .dataframe tbody tr th {\n",
       "        vertical-align: top;\n",
       "    }\n",
       "\n",
       "    .dataframe thead th {\n",
       "        text-align: right;\n",
       "    }\n",
       "</style>\n",
       "<table border=\"1\" class=\"dataframe\">\n",
       "  <thead>\n",
       "    <tr style=\"text-align: right;\">\n",
       "      <th></th>\n",
       "      <th>postId</th>\n",
       "      <th>embs</th>\n",
       "    </tr>\n",
       "  </thead>\n",
       "  <tbody>\n",
       "    <tr>\n",
       "      <th>11180</th>\n",
       "      <td>3743303972</td>\n",
       "      <td>[-0.435723, -0.0230965, -0.512326, 0.252693, 0...</td>\n",
       "    </tr>\n",
       "    <tr>\n",
       "      <th>29796</th>\n",
       "      <td>9700303772</td>\n",
       "      <td>[0.12076, 0.465173, -0.0281689, 0.145544, -0.0...</td>\n",
       "    </tr>\n",
       "  </tbody>\n",
       "</table>\n",
       "</div>"
      ],
      "text/plain": [
       "           postId                                               embs\n",
       "11180  3743303972  [-0.435723, -0.0230965, -0.512326, 0.252693, 0...\n",
       "29796  9700303772  [0.12076, 0.465173, -0.0281689, 0.145544, -0.0..."
      ]
     },
     "execution_count": 114,
     "metadata": {},
     "output_type": "execute_result"
    }
   ],
   "source": [
    "sampled.iloc[[0,3]]"
   ]
  },
  {
   "cell_type": "code",
   "execution_count": 139,
   "id": "reverse-incentive",
   "metadata": {},
   "outputs": [],
   "source": [
    "indices = res.argsort(axis=1)[::-1][:,:10]"
   ]
  },
  {
   "cell_type": "code",
   "execution_count": 140,
   "id": "commercial-detection",
   "metadata": {},
   "outputs": [
    {
     "data": {
      "text/plain": [
       "0.9999999999999998"
      ]
     },
     "execution_count": 140,
     "metadata": {},
     "output_type": "execute_result"
    }
   ],
   "source": [
    "res[0][11180]"
   ]
  },
  {
   "cell_type": "code",
   "execution_count": 141,
   "id": "backed-longer",
   "metadata": {},
   "outputs": [
    {
     "data": {
      "text/plain": [
       "[array([ 0.08153468, -0.30267704,  0.07624981,  0.22386679, -0.08093571,\n",
       "         0.03187127,  0.03007138,  0.11425278,  0.10660897,  0.16885942]),\n",
       " array([ 0.23617258, -0.21271133,  0.01586302,  0.0644886 , -0.21920018,\n",
       "         0.19471298, -0.04950575,  0.07408365, -0.18633004, -0.13929134]),\n",
       " array([0.13514285, 0.15736032, 0.14229764, 0.39273488, 0.00394741,\n",
       "        0.11062649, 0.23718837, 0.29787811, 0.17612269, 0.08424734]),\n",
       " array([ 0.0089667 ,  0.20829271,  0.21375413,  0.21152667,  0.16970524,\n",
       "         0.21529055,  0.16787119,  0.28413809, -0.04075838,  0.10559648]),\n",
       " array([-0.57228363, -0.33870237, -0.42414385, -0.53693897, -0.38059314,\n",
       "        -0.27289061, -0.34281853, -0.33620253, -0.54064567, -0.38793982]),\n",
       " array([ 0.2561144 ,  0.13249073,  0.18408711,  0.16826056,  0.19570156,\n",
       "         0.06045068, -0.19465555, -0.28361284,  0.40759904,  0.33858719]),\n",
       " array([ 0.21948013,  0.17650395,  0.14685628,  0.29143746,  0.15009248,\n",
       "         0.18041449, -0.01083408,  0.39016242,  0.47126277,  0.08157529]),\n",
       " array([-0.28433699, -0.14644456, -0.2458609 , -0.44377541, -0.24049008,\n",
       "        -0.26594948, -0.18922404, -0.33610982, -0.39977193, -0.27339409]),\n",
       " array([-0.17563924,  0.21322764,  0.07481523,  0.19212601,  0.14690593,\n",
       "         0.0506014 ,  0.2683871 ,  0.04547275,  0.20207087,  0.17019797]),\n",
       " array([0.41425285, 0.50355285, 0.48394727, 0.02949524, 0.4639424 ,\n",
       "        0.21226611, 0.41811719, 0.35975495, 0.40213067, 0.31448027]),\n",
       " array([ 0.32582218, -0.507598  , -0.09522397, -0.03173505, -0.02612873,\n",
       "        -0.55837157,  0.22214709,  0.15060202, -0.07608313, -0.53655484]),\n",
       " array([ 0.12291456,  0.03992144,  0.06854811,  0.19525671,  0.12441614,\n",
       "         0.16242369, -0.09662258, -0.03896481,  0.09331285,  0.09053084])]"
      ]
     },
     "execution_count": 141,
     "metadata": {},
     "output_type": "execute_result"
    }
   ],
   "source": [
    "[res[i, ind] for i, ind in enumerate(indices)]"
   ]
  },
  {
   "cell_type": "code",
   "execution_count": 147,
   "id": "bulgarian-glass",
   "metadata": {},
   "outputs": [],
   "source": [
    "top_n_indices = [(-cos_sim).argsort()[:10] for cos_sim in res]"
   ]
  },
  {
   "cell_type": "code",
   "execution_count": 152,
   "id": "asian-helping",
   "metadata": {},
   "outputs": [],
   "source": [
    "top_n_vals = [res[i, inds] for i, inds in enumerate(top_n_indices)]"
   ]
  },
  {
   "cell_type": "code",
   "execution_count": 153,
   "id": "civic-bouquet",
   "metadata": {},
   "outputs": [
    {
     "data": {
      "text/plain": [
       "[array([1.        , 0.90194228, 0.88182311, 0.86245753, 0.80963296,\n",
       "        0.80915742, 0.79410391, 0.7835342 , 0.77960873, 0.77613763]),\n",
       " array([1.        , 0.82848737, 0.82235853, 0.80822458, 0.80761802,\n",
       "        0.79274499, 0.78857584, 0.78804687, 0.78753803, 0.78619891]),\n",
       " array([1.        , 0.82296778, 0.8129457 , 0.79872742, 0.7875285 ,\n",
       "        0.78409823, 0.78183319, 0.77952027, 0.77931888, 0.77603641]),\n",
       " array([1.        , 0.90497849, 0.87886105, 0.87726867, 0.87592334,\n",
       "        0.86274203, 0.855797  , 0.8503195 , 0.84864842, 0.8441641 ]),\n",
       " array([1.        , 0.86875931, 0.85718788, 0.8548015 , 0.8515302 ,\n",
       "        0.84819041, 0.84338882, 0.84115634, 0.83768128, 0.83296636]),\n",
       " array([1.        , 0.89209459, 0.85999168, 0.8433774 , 0.83681543,\n",
       "        0.83592928, 0.83588619, 0.82954342, 0.82363654, 0.81674845]),\n",
       " array([1.        , 0.83610381, 0.82750062, 0.82643147, 0.8093739 ,\n",
       "        0.79199887, 0.79127163, 0.7893327 , 0.78488905, 0.78363522]),\n",
       " array([1.        , 0.89874026, 0.88123506, 0.86070681, 0.85582041,\n",
       "        0.85463871, 0.83668744, 0.82669547, 0.82591193, 0.82498959]),\n",
       " array([1.        , 0.88627297, 0.86944248, 0.86866517, 0.86720103,\n",
       "        0.86579642, 0.85892966, 0.85048152, 0.84697758, 0.84599258]),\n",
       " array([1.        , 0.9268625 , 0.91658711, 0.90413179, 0.89125768,\n",
       "        0.87627482, 0.86914476, 0.86718375, 0.86603357, 0.86599694]),\n",
       " array([1.        , 0.83732093, 0.8284835 , 0.82380992, 0.81742544,\n",
       "        0.81519486, 0.8110603 , 0.80593632, 0.80184627, 0.79923695]),\n",
       " array([1.        , 0.73079571, 0.72274503, 0.70170118, 0.67934388,\n",
       "        0.67022163, 0.66938402, 0.66901784, 0.66558642, 0.66553411])]"
      ]
     },
     "execution_count": 153,
     "metadata": {},
     "output_type": "execute_result"
    }
   ],
   "source": [
    "top_n_vals"
   ]
  },
  {
   "cell_type": "code",
   "execution_count": 156,
   "id": "british-freeware",
   "metadata": {},
   "outputs": [
    {
     "data": {
      "text/plain": [
       "['3743303972',\n",
       " '3534254082',\n",
       " '3000724872',\n",
       " '7398499872',\n",
       " '1435087872',\n",
       " '7247908972',\n",
       " '1676473082',\n",
       " '7511573872',\n",
       " '9014914082',\n",
       " '5091299082']"
      ]
     },
     "execution_count": 156,
     "metadata": {},
     "output_type": "execute_result"
    }
   ],
   "source": [
    "sampledpost_mapping.iloc[top_n_indices[0]].postId.to_list()"
   ]
  },
  {
   "cell_type": "code",
   "execution_count": 158,
   "id": "distant-carol",
   "metadata": {},
   "outputs": [],
   "source": [
    "sampled[\"similar_posts\"] = [post_mapping.iloc[inds].postId.to_list() for inds in top_n_indices]\n",
    "sampled[\"cosine_similarity\"] = top_n_vals"
   ]
  },
  {
   "cell_type": "code",
   "execution_count": 159,
   "id": "valuable-concord",
   "metadata": {},
   "outputs": [
    {
     "data": {
      "text/html": [
       "<div>\n",
       "<style scoped>\n",
       "    .dataframe tbody tr th:only-of-type {\n",
       "        vertical-align: middle;\n",
       "    }\n",
       "\n",
       "    .dataframe tbody tr th {\n",
       "        vertical-align: top;\n",
       "    }\n",
       "\n",
       "    .dataframe thead th {\n",
       "        text-align: right;\n",
       "    }\n",
       "</style>\n",
       "<table border=\"1\" class=\"dataframe\">\n",
       "  <thead>\n",
       "    <tr style=\"text-align: right;\">\n",
       "      <th></th>\n",
       "      <th>postId</th>\n",
       "      <th>embs</th>\n",
       "      <th>similar_posts</th>\n",
       "      <th>cosine_similarity</th>\n",
       "    </tr>\n",
       "  </thead>\n",
       "  <tbody>\n",
       "    <tr>\n",
       "      <th>11180</th>\n",
       "      <td>3743303972</td>\n",
       "      <td>[-0.435723, -0.0230965, -0.512326, 0.252693, 0...</td>\n",
       "      <td>[3743303972, 3534254082, 3000724872, 739849987...</td>\n",
       "      <td>[0.9999999999999998, 0.9019422762855831, 0.881...</td>\n",
       "    </tr>\n",
       "    <tr>\n",
       "      <th>27693</th>\n",
       "      <td>9362945572</td>\n",
       "      <td>[0.522945, 0.158675, 0.4244, 0.571837, 0.05382...</td>\n",
       "      <td>[9362945572, 9870983572, 5339548672, 708799667...</td>\n",
       "      <td>[1.0, 0.8284873721822135, 0.8223585344304476, ...</td>\n",
       "    </tr>\n",
       "    <tr>\n",
       "      <th>1175</th>\n",
       "      <td>1197280872</td>\n",
       "      <td>[0.0642727, -0.169545, -0.0565719, -0.235322, ...</td>\n",
       "      <td>[1197280872, 7680286872, 3642593772, 913160257...</td>\n",
       "      <td>[1.0, 0.8229677801859888, 0.8129457004639016, ...</td>\n",
       "    </tr>\n",
       "    <tr>\n",
       "      <th>29796</th>\n",
       "      <td>9700303772</td>\n",
       "      <td>[0.12076, 0.465173, -0.0281689, 0.145544, -0.0...</td>\n",
       "      <td>[9700303772, 3026413082, 5716425972, 502969628...</td>\n",
       "      <td>[1.0, 0.9049784864415444, 0.8788610544776726, ...</td>\n",
       "    </tr>\n",
       "    <tr>\n",
       "      <th>29351</th>\n",
       "      <td>9624599282</td>\n",
       "      <td>[-0.00289742, -0.16665, 0.63338, -0.279567, -0...</td>\n",
       "      <td>[9624599282, 5124713182, 5899439282, 347887387...</td>\n",
       "      <td>[1.0, 0.8687593095469017, 0.8571878791017087, ...</td>\n",
       "    </tr>\n",
       "  </tbody>\n",
       "</table>\n",
       "</div>"
      ],
      "text/plain": [
       "           postId                                               embs  \\\n",
       "11180  3743303972  [-0.435723, -0.0230965, -0.512326, 0.252693, 0...   \n",
       "27693  9362945572  [0.522945, 0.158675, 0.4244, 0.571837, 0.05382...   \n",
       "1175   1197280872  [0.0642727, -0.169545, -0.0565719, -0.235322, ...   \n",
       "29796  9700303772  [0.12076, 0.465173, -0.0281689, 0.145544, -0.0...   \n",
       "29351  9624599282  [-0.00289742, -0.16665, 0.63338, -0.279567, -0...   \n",
       "\n",
       "                                           similar_posts  \\\n",
       "11180  [3743303972, 3534254082, 3000724872, 739849987...   \n",
       "27693  [9362945572, 9870983572, 5339548672, 708799667...   \n",
       "1175   [1197280872, 7680286872, 3642593772, 913160257...   \n",
       "29796  [9700303772, 3026413082, 5716425972, 502969628...   \n",
       "29351  [9624599282, 5124713182, 5899439282, 347887387...   \n",
       "\n",
       "                                       cosine_similarity  \n",
       "11180  [0.9999999999999998, 0.9019422762855831, 0.881...  \n",
       "27693  [1.0, 0.8284873721822135, 0.8223585344304476, ...  \n",
       "1175   [1.0, 0.8229677801859888, 0.8129457004639016, ...  \n",
       "29796  [1.0, 0.9049784864415444, 0.8788610544776726, ...  \n",
       "29351  [1.0, 0.8687593095469017, 0.8571878791017087, ...  "
      ]
     },
     "execution_count": 159,
     "metadata": {},
     "output_type": "execute_result"
    }
   ],
   "source": [
    "sampled.head(5)"
   ]
  },
  {
   "cell_type": "code",
   "execution_count": null,
   "id": "heard-defensive",
   "metadata": {},
   "outputs": [],
   "source": []
  }
 ],
 "metadata": {
  "kernelspec": {
   "display_name": "Python 3",
   "language": "python",
   "name": "python3"
  },
  "language_info": {
   "codemirror_mode": {
    "name": "ipython",
    "version": 3
   },
   "file_extension": ".py",
   "mimetype": "text/x-python",
   "name": "python",
   "nbconvert_exporter": "python",
   "pygments_lexer": "ipython3",
   "version": "3.8.8"
  }
 },
 "nbformat": 4,
 "nbformat_minor": 5
}
