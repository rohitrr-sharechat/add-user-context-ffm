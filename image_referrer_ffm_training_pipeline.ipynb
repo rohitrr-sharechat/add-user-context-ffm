{
 "cells": [
  {
   "cell_type": "code",
   "execution_count": 6,
   "id": "molecular-tract",
   "metadata": {},
   "outputs": [],
   "source": [
    "from google.cloud import bigquery, storage\n",
    "from datetime import datetime, timedelta\n",
    "import pathlib\n",
    "from sklearn.model_selection import train_test_split\n",
    "import os\n",
    "import shutil\n",
    "from random import randint\n",
    "import pandas as pd\n",
    "from google.cloud.exceptions import NotFound\n",
    "from utils.download_from_GCP import download_table_to_local_as_one_file\n",
    "from utils.read_sql_as_string import readSqlFile"
   ]
  },
  {
   "cell_type": "code",
   "execution_count": 7,
   "id": "horizontal-mobility",
   "metadata": {},
   "outputs": [
    {
     "name": "stderr",
     "output_type": "stream",
     "text": [
      "/home/rohitrr/miniconda3/envs/py3.8/lib/python3.8/site-packages/google/auth/_default.py:70: UserWarning: Your application has authenticated using end user credentials from Google Cloud SDK without a quota project. You might receive a \"quota exceeded\" or \"API not enabled\" error. We recommend you rerun `gcloud auth application-default login` and make sure a quota project is added. Or you can use service accounts instead. For more information about service accounts, see https://cloud.google.com/docs/authentication/\n",
      "  warnings.warn(_CLOUD_SDK_CREDENTIALS_WARNING)\n"
     ]
    }
   ],
   "source": [
    "client = bigquery.Client(project=\"sharechat-production\")"
   ]
  },
  {
   "cell_type": "code",
   "execution_count": 8,
   "id": "capable-draft",
   "metadata": {},
   "outputs": [],
   "source": [
    "LANGS = [\n",
    "    \"Hindi\",\n",
    "    # \"Tamil\",\n",
    "    # \"Telugu\",\n",
    "#     \"Kannada\",\n",
    "#     \"Punjabi\",\n",
    "# #     \"Odia\",\n",
    "#     \"Bengali\",\n",
    "# #     \"Marathi\",\n",
    "#     \"Malayalam\",\n",
    "#     \"Gujarati\",\n",
    "]\n",
    "# DAYS_OF_DATA_CONSIDERED = 7\n",
    "TRAINING_DAYS = 30\n",
    "TESTING_DAYS = 3\n",
    "rating_def_dict =  {\n",
    "        \"lpo\": \"is_lpo\",\n",
    "        \"like\": \"is_like\",\n",
    "        \"share\": \"is_share\",\n",
    "#         \"fav\": \"is_fav\",\n",
    "    }\n",
    "   \n",
    "\n",
    "BASE_BIG_QUERY_PATH = \"maximal-furnace-783.rohitrr\"\n",
    "RANDOM_SEED = 9745\n",
    "TEST_DATA_FILE_NAME = \"test.txt\"\n",
    "TRAIN_DATA_FILE_NAME = \"train.txt\"\n",
    "QUERY_FOLDER_PATH = \"./queries/image/\""
   ]
  },
  {
   "cell_type": "code",
   "execution_count": 9,
   "id": "desirable-surgery",
   "metadata": {},
   "outputs": [],
   "source": [
    "def delete_tables(delete_tables_path_list):\n",
    "    for delete_table_path in delete_tables_path_list:\n",
    "        client.delete_table(delete_table_path)\n",
    "\n",
    "    print(\"All tables deleted\")\n",
    "    \n",
    "def construct_base_table(lang, common_posts_end_time, \n",
    "                         common_posts_days, end_time, days,\n",
    "                         overwrite_base_table = False, \n",
    "                         mode = \"train\"):\n",
    "    \n",
    "    temp_q0_table_path = BASE_BIG_QUERY_PATH+'.'+f'referrer_image_{mode}_temp_q0_table_{lang}'\n",
    "    if(not overwrite_base_table):\n",
    "        try:\n",
    "            client.get_table(temp_q0_table_path)\n",
    "            print(f\"Table-{temp_q0_table_path} already exists, not overwriting\")\n",
    "            return temp_q0_table_path\n",
    "        except NotFound:\n",
    "            print(f\"Table-{temp_q0_table_path} not already present - going ahead creating it\")\n",
    "            \n",
    "    print(f\"Running query 1 for {lang} .....\")\n",
    "    job_config = bigquery.QueryJobConfig(destination= temp_q0_table_path,\n",
    "                                         write_disposition = \"WRITE_TRUNCATE\"\n",
    "                                         )\n",
    "    sql = readSqlFile(f\"{QUERY_FOLDER_PATH}/query0.sql\", lang = lang,\n",
    "                      common_posts_end_time = common_posts_end_time,\n",
    "                      common_posts_days = common_posts_days,\n",
    "                      end_time=end_time, days = days)\n",
    "    query_job = client.query(sql, job_config=job_config)\n",
    "    query_job.result()\n",
    "    print(f\"Query 0 results loaded to the table {temp_q0_table_path}\")\n",
    "    return temp_q0_table_path"
   ]
  },
  {
   "cell_type": "code",
   "execution_count": 10,
   "id": "innocent-cisco",
   "metadata": {},
   "outputs": [],
   "source": [
    "def collect_and_prepare_train_data_with_base_table(lang, rating_def, base_q0_table_path,\n",
    "                                             save_path):\n",
    "    delete_tables = []\n",
    "    # Run Q1 query\n",
    "    temp_q0_table_path = base_q0_table_path\n",
    "    temp_q1_table_path = BASE_BIG_QUERY_PATH+'.'+f'referrer_image_train_temp_q1_table_{lang}_{rating_def}'\n",
    "    job_config = bigquery.QueryJobConfig(destination= temp_q1_table_path,\n",
    "                                         write_disposition = \"WRITE_TRUNCATE\"\n",
    "                                         )\n",
    "    sql = readSqlFile(f\"{QUERY_FOLDER_PATH}/query1.sql\", lang = lang, \n",
    "                      rating_def = rating_def,\n",
    "                     q0_table = temp_q0_table_path)\n",
    "    query_job = client.query(sql, job_config=job_config)\n",
    "    query_job.result()\n",
    "    print(f\"Query 1 results loaded to the table {temp_q1_table_path}\")\n",
    "    train_table_with_valid_user_post_ids = temp_q1_table_path\n",
    "    delete_tables.append(temp_q1_table_path)\n",
    "\n",
    "    # Run Q2 query\n",
    "    table_with_mapping = BASE_BIG_QUERY_PATH+'.'+f'referrer_image_train_temp_q2_table_{lang}_{rating_def}'\n",
    "    job_config = bigquery.QueryJobConfig(destination= table_with_mapping, \n",
    "                                         write_disposition = \"WRITE_TRUNCATE\")\n",
    "    sql = readSqlFile(f\"{QUERY_FOLDER_PATH}/query2.sql\", lang = lang, \n",
    "                      rating_def = rating_def,\n",
    "                     q1_table = temp_q1_table_path)\n",
    "    query_job = client.query(sql, job_config=job_config)\n",
    "    query_job.result()\n",
    "    print(f\"Query 2 results loaded to the table {table_with_mapping}\")\n",
    "    download_table_to_local_as_one_file(table_with_mapping, save_path, \n",
    "                                out_file_name = f\"user_post_ffm_mapping.csv\")\n",
    "    delete_tables.append(table_with_mapping)\n",
    "\n",
    "    # Run Q3 query\n",
    "    temp_q3_table_path = BASE_BIG_QUERY_PATH+'.'+f'referrer_image_train_temp_q3_table_{lang}_{rating_def}'\n",
    "    job_config = bigquery.QueryJobConfig(destination= temp_q3_table_path,\n",
    "                                         write_disposition = \"WRITE_TRUNCATE\"\n",
    "                                         )\n",
    "    sql = readSqlFile(f\"{QUERY_FOLDER_PATH}/query3.sql\", lang = lang, \n",
    "                      rating_def = rating_def,\n",
    "                      q1_table = temp_q1_table_path,\n",
    "                     q2_table = table_with_mapping)\n",
    "    query_job = client.query(sql, job_config=job_config)\n",
    "    query_job.result()\n",
    "    print(f\"Query 3 results loaded to the table {temp_q3_table_path}\")\n",
    "    delete_tables.append(temp_q3_table_path)\n",
    "\n",
    "#     Save results to local storage\n",
    "    download_table_to_local_as_one_file(temp_q3_table_path, save_path, with_header=False,\n",
    "                                        out_file_name = f\"{TRAIN_DATA_FILE_NAME}\")\n",
    "    return delete_tables, train_table_with_valid_user_post_ids, table_with_mapping\n",
    "\n",
    "def collect_and_prepare_test_data_with_base_table(lang, rating_def, base_q0_table_path, \n",
    "                                             table_with_valid_user_post_ids,\n",
    "                                            table_with_mapping,\n",
    "                                             save_path):\n",
    "    delete_tables = []\n",
    "    # Run Q1 query\n",
    "    temp_q0_table_path = base_q0_table_path\n",
    "    temp_q1_table_path = BASE_BIG_QUERY_PATH+'.'+f'referrer_image_test_temp_q1_table_{lang}_{rating_def}'\n",
    "    job_config = bigquery.QueryJobConfig(destination= temp_q1_table_path,\n",
    "                                         write_disposition = \"WRITE_TRUNCATE\"\n",
    "                                         )\n",
    "    # Changed query from the train case\n",
    "    sql = readSqlFile(f\"{QUERY_FOLDER_PATH}/test_query1.sql\", lang = lang, \n",
    "                      rating_def = rating_def,\n",
    "                     q0_table = temp_q0_table_path,\n",
    "                     train_q1_table = table_with_valid_user_post_ids)\n",
    "    query_job = client.query(sql, job_config=job_config)\n",
    "    query_job.result()\n",
    "    print(f\"Query 1 results loaded to the table {temp_q1_table_path}\")\n",
    "    delete_tables.append(temp_q1_table_path)\n",
    "    \n",
    "    # Run Q3 query\n",
    "    temp_q3_table_path = BASE_BIG_QUERY_PATH+'.'+f'referrer_image_test_temp_q3_table_{lang}_{rating_def}'\n",
    "    job_config = bigquery.QueryJobConfig(destination= temp_q3_table_path,\n",
    "                                         write_disposition = \"WRITE_TRUNCATE\"\n",
    "                                         )\n",
    "    sql = readSqlFile(f\"{QUERY_FOLDER_PATH}/query3.sql\", lang = lang, \n",
    "                      rating_def = rating_def,\n",
    "                      q1_table = temp_q1_table_path,\n",
    "                     q2_table = table_with_mapping)\n",
    "    query_job = client.query(sql, job_config=job_config)\n",
    "    query_job.result()\n",
    "    print(f\"Query 3 results loaded to the table {temp_q3_table_path}\")\n",
    "    delete_tables.append(temp_q3_table_path)\n",
    "\n",
    "#     Save results to local storage\n",
    "    download_table_to_local_as_one_file(temp_q3_table_path, save_path, with_header=False,\n",
    "                                        out_file_name = f\"{TEST_DATA_FILE_NAME}\")\n",
    "    return delete_tables"
   ]
  },
  {
   "cell_type": "code",
   "execution_count": 11,
   "id": "revised-portugal",
   "metadata": {
    "tags": []
   },
   "outputs": [
    {
     "name": "stdout",
     "output_type": "stream",
     "text": [
      "2021-04-30 00:00:00 2021-04-27 00:00:00\n"
     ]
    }
   ],
   "source": [
    "common_end_time = datetime(2021, 4, 30) # the hours, minutes and seconds are taken to be 0\n",
    "test_end_time = common_end_time\n",
    "train_end_time = common_end_time - timedelta(TESTING_DAYS)\n",
    "print(test_end_time, train_end_time)"
   ]
  },
  {
   "cell_type": "code",
   "execution_count": null,
   "id": "verified-gravity",
   "metadata": {
    "tags": []
   },
   "outputs": [
    {
     "name": "stdout",
     "output_type": "stream",
     "text": [
      "Running query 1 for Hindi .....\n",
      "Query 0 results loaded to the table maximal-furnace-783.rohitrr.referrer_image_train_temp_q0_table_Hindi\n",
      "Running query 1 for Hindi .....\n",
      "Query 0 results loaded to the table maximal-furnace-783.rohitrr.referrer_image_test_temp_q0_table_Hindi\n",
      "Query 1 results loaded to the table maximal-furnace-783.rohitrr.referrer_image_train_temp_q1_table_Hindi_is_lpo\n",
      "Query 2 results loaded to the table maximal-furnace-783.rohitrr.referrer_image_train_temp_q2_table_Hindi_is_lpo\n",
      "Downloading table - maximal-furnace-783.rohitrr.referrer_image_train_temp_q2_table_Hindi_is_lpo to gcs\n"
     ]
    },
    {
     "name": "stderr",
     "output_type": "stream",
     "text": [
      "/home/rohitrr/miniconda3/envs/py3.8/lib/python3.8/site-packages/google/auth/_default.py:70: UserWarning: Your application has authenticated using end user credentials from Google Cloud SDK without a quota project. You might receive a \"quota exceeded\" or \"API not enabled\" error. We recommend you rerun `gcloud auth application-default login` and make sure a quota project is added. Or you can use service accounts instead. For more information about service accounts, see https://cloud.google.com/docs/authentication/\n",
      "  warnings.warn(_CLOUD_SDK_CREDENTIALS_WARNING)\n",
      "/home/rohitrr/miniconda3/envs/py3.8/lib/python3.8/site-packages/google/auth/_default.py:70: UserWarning: Your application has authenticated using end user credentials from Google Cloud SDK without a quota project. You might receive a \"quota exceeded\" or \"API not enabled\" error. We recommend you rerun `gcloud auth application-default login` and make sure a quota project is added. Or you can use service accounts instead. For more information about service accounts, see https://cloud.google.com/docs/authentication/\n",
      "  warnings.warn(_CLOUD_SDK_CREDENTIALS_WARNING)\n"
     ]
    },
    {
     "name": "stdout",
     "output_type": "stream",
     "text": [
      "Exported maximal-furnace-783:rohitrr.referrer_image_train_temp_q2_table_Hindi_is_lpo to gs://query_runner_results/referrer_image_train_temp_q2_table_Hindi_is_lpo_2021-05-24_18:10:33_13/*.csv\n",
      "Downloading from gcs_folder_name referrer_image_train_temp_q2_table_Hindi_is_lpo_2021-05-24_18:10:33_13 to local\n"
     ]
    },
    {
     "name": "stderr",
     "output_type": "stream",
     "text": [
      "/home/rohitrr/miniconda3/envs/py3.8/lib/python3.8/site-packages/google/auth/_default.py:70: UserWarning: Your application has authenticated using end user credentials from Google Cloud SDK without a quota project. You might receive a \"quota exceeded\" or \"API not enabled\" error. We recommend you rerun `gcloud auth application-default login` and make sure a quota project is added. Or you can use service accounts instead. For more information about service accounts, see https://cloud.google.com/docs/authentication/\n",
      "  warnings.warn(_CLOUD_SDK_CREDENTIALS_WARNING)\n"
     ]
    },
    {
     "name": "stdout",
     "output_type": "stream",
     "text": [
      "Contents in gs://query_runner_results/referrer_image_train_temp_q2_table_Hindi_is_lpo_2021-05-24_18:10:33_13     transferred to ./train_test_data_models/image/Hindi/is_lpo/temp_download_folder\n",
      "Merging and saving files from ./train_test_data_models/image/Hindi/is_lpo/temp_download_folder to ./train_test_data_models/image/Hindi/is_lpo\n",
      "Saved file user_post_ffm_mapping.csv in ./train_test_data_models/image/Hindi/is_lpo\n",
      "Query 3 results loaded to the table maximal-furnace-783.rohitrr.referrer_image_train_temp_q3_table_Hindi_is_lpo\n",
      "Downloading table - maximal-furnace-783.rohitrr.referrer_image_train_temp_q3_table_Hindi_is_lpo to gcs\n"
     ]
    },
    {
     "name": "stderr",
     "output_type": "stream",
     "text": [
      "/home/rohitrr/miniconda3/envs/py3.8/lib/python3.8/site-packages/google/auth/_default.py:70: UserWarning: Your application has authenticated using end user credentials from Google Cloud SDK without a quota project. You might receive a \"quota exceeded\" or \"API not enabled\" error. We recommend you rerun `gcloud auth application-default login` and make sure a quota project is added. Or you can use service accounts instead. For more information about service accounts, see https://cloud.google.com/docs/authentication/\n",
      "  warnings.warn(_CLOUD_SDK_CREDENTIALS_WARNING)\n",
      "/home/rohitrr/miniconda3/envs/py3.8/lib/python3.8/site-packages/google/auth/_default.py:70: UserWarning: Your application has authenticated using end user credentials from Google Cloud SDK without a quota project. You might receive a \"quota exceeded\" or \"API not enabled\" error. We recommend you rerun `gcloud auth application-default login` and make sure a quota project is added. Or you can use service accounts instead. For more information about service accounts, see https://cloud.google.com/docs/authentication/\n",
      "  warnings.warn(_CLOUD_SDK_CREDENTIALS_WARNING)\n"
     ]
    },
    {
     "name": "stdout",
     "output_type": "stream",
     "text": [
      "Exported maximal-furnace-783:rohitrr.referrer_image_train_temp_q3_table_Hindi_is_lpo to gs://query_runner_results/referrer_image_train_temp_q3_table_Hindi_is_lpo_2021-05-24_18:31:57_63/*.csv\n",
      "Downloading from gcs_folder_name referrer_image_train_temp_q3_table_Hindi_is_lpo_2021-05-24_18:31:57_63 to local\n"
     ]
    },
    {
     "name": "stderr",
     "output_type": "stream",
     "text": [
      "/home/rohitrr/miniconda3/envs/py3.8/lib/python3.8/site-packages/google/auth/_default.py:70: UserWarning: Your application has authenticated using end user credentials from Google Cloud SDK without a quota project. You might receive a \"quota exceeded\" or \"API not enabled\" error. We recommend you rerun `gcloud auth application-default login` and make sure a quota project is added. Or you can use service accounts instead. For more information about service accounts, see https://cloud.google.com/docs/authentication/\n",
      "  warnings.warn(_CLOUD_SDK_CREDENTIALS_WARNING)\n"
     ]
    },
    {
     "name": "stdout",
     "output_type": "stream",
     "text": [
      "Contents in gs://query_runner_results/referrer_image_train_temp_q3_table_Hindi_is_lpo_2021-05-24_18:31:57_63     transferred to ./train_test_data_models/image/Hindi/is_lpo/temp_download_folder\n",
      "Merging and saving files from ./train_test_data_models/image/Hindi/is_lpo/temp_download_folder to ./train_test_data_models/image/Hindi/is_lpo\n",
      "Saved file train.txt in ./train_test_data_models/image/Hindi/is_lpo\n",
      "Query 1 results loaded to the table maximal-furnace-783.rohitrr.referrer_image_test_temp_q1_table_Hindi_is_lpo\n",
      "Query 3 results loaded to the table maximal-furnace-783.rohitrr.referrer_image_test_temp_q3_table_Hindi_is_lpo\n",
      "Downloading table - maximal-furnace-783.rohitrr.referrer_image_test_temp_q3_table_Hindi_is_lpo to gcs\n"
     ]
    },
    {
     "name": "stderr",
     "output_type": "stream",
     "text": [
      "/home/rohitrr/miniconda3/envs/py3.8/lib/python3.8/site-packages/google/auth/_default.py:70: UserWarning: Your application has authenticated using end user credentials from Google Cloud SDK without a quota project. You might receive a \"quota exceeded\" or \"API not enabled\" error. We recommend you rerun `gcloud auth application-default login` and make sure a quota project is added. Or you can use service accounts instead. For more information about service accounts, see https://cloud.google.com/docs/authentication/\n",
      "  warnings.warn(_CLOUD_SDK_CREDENTIALS_WARNING)\n",
      "/home/rohitrr/miniconda3/envs/py3.8/lib/python3.8/site-packages/google/auth/_default.py:70: UserWarning: Your application has authenticated using end user credentials from Google Cloud SDK without a quota project. You might receive a \"quota exceeded\" or \"API not enabled\" error. We recommend you rerun `gcloud auth application-default login` and make sure a quota project is added. Or you can use service accounts instead. For more information about service accounts, see https://cloud.google.com/docs/authentication/\n",
      "  warnings.warn(_CLOUD_SDK_CREDENTIALS_WARNING)\n"
     ]
    },
    {
     "name": "stdout",
     "output_type": "stream",
     "text": [
      "Exported maximal-furnace-783:rohitrr.referrer_image_test_temp_q3_table_Hindi_is_lpo to gs://query_runner_results/referrer_image_test_temp_q3_table_Hindi_is_lpo_2021-05-24_19:50:02_7/*.csv\n",
      "Downloading from gcs_folder_name referrer_image_test_temp_q3_table_Hindi_is_lpo_2021-05-24_19:50:02_7 to local\n"
     ]
    },
    {
     "name": "stderr",
     "output_type": "stream",
     "text": [
      "/home/rohitrr/miniconda3/envs/py3.8/lib/python3.8/site-packages/google/auth/_default.py:70: UserWarning: Your application has authenticated using end user credentials from Google Cloud SDK without a quota project. You might receive a \"quota exceeded\" or \"API not enabled\" error. We recommend you rerun `gcloud auth application-default login` and make sure a quota project is added. Or you can use service accounts instead. For more information about service accounts, see https://cloud.google.com/docs/authentication/\n",
      "  warnings.warn(_CLOUD_SDK_CREDENTIALS_WARNING)\n"
     ]
    },
    {
     "name": "stdout",
     "output_type": "stream",
     "text": [
      "Contents in gs://query_runner_results/referrer_image_test_temp_q3_table_Hindi_is_lpo_2021-05-24_19:50:02_7     transferred to ./train_test_data_models/image/Hindi/is_lpo/temp_download_folder\n",
      "Merging and saving files from ./train_test_data_models/image/Hindi/is_lpo/temp_download_folder to ./train_test_data_models/image/Hindi/is_lpo\n",
      "Saved file test.txt in ./train_test_data_models/image/Hindi/is_lpo\n",
      "Training started for label is_lpo in Hindi .......\n",
      "Model trained and saved in ./train_test_data_models/image/Hindi/is_lpo/out\n",
      "Query 1 results loaded to the table maximal-furnace-783.rohitrr.referrer_image_train_temp_q1_table_Hindi_is_like\n",
      "Query 2 results loaded to the table maximal-furnace-783.rohitrr.referrer_image_train_temp_q2_table_Hindi_is_like\n",
      "Downloading table - maximal-furnace-783.rohitrr.referrer_image_train_temp_q2_table_Hindi_is_like to gcs\n"
     ]
    },
    {
     "name": "stderr",
     "output_type": "stream",
     "text": [
      "/home/rohitrr/miniconda3/envs/py3.8/lib/python3.8/site-packages/google/auth/_default.py:70: UserWarning: Your application has authenticated using end user credentials from Google Cloud SDK without a quota project. You might receive a \"quota exceeded\" or \"API not enabled\" error. We recommend you rerun `gcloud auth application-default login` and make sure a quota project is added. Or you can use service accounts instead. For more information about service accounts, see https://cloud.google.com/docs/authentication/\n",
      "  warnings.warn(_CLOUD_SDK_CREDENTIALS_WARNING)\n",
      "/home/rohitrr/miniconda3/envs/py3.8/lib/python3.8/site-packages/google/auth/_default.py:70: UserWarning: Your application has authenticated using end user credentials from Google Cloud SDK without a quota project. You might receive a \"quota exceeded\" or \"API not enabled\" error. We recommend you rerun `gcloud auth application-default login` and make sure a quota project is added. Or you can use service accounts instead. For more information about service accounts, see https://cloud.google.com/docs/authentication/\n",
      "  warnings.warn(_CLOUD_SDK_CREDENTIALS_WARNING)\n"
     ]
    },
    {
     "name": "stdout",
     "output_type": "stream",
     "text": [
      "Exported maximal-furnace-783:rohitrr.referrer_image_train_temp_q2_table_Hindi_is_like to gs://query_runner_results/referrer_image_train_temp_q2_table_Hindi_is_like_2021-05-25_02:31:38_28/*.csv\n",
      "Downloading from gcs_folder_name referrer_image_train_temp_q2_table_Hindi_is_like_2021-05-25_02:31:38_28 to local\n"
     ]
    },
    {
     "name": "stderr",
     "output_type": "stream",
     "text": [
      "/home/rohitrr/miniconda3/envs/py3.8/lib/python3.8/site-packages/google/auth/_default.py:70: UserWarning: Your application has authenticated using end user credentials from Google Cloud SDK without a quota project. You might receive a \"quota exceeded\" or \"API not enabled\" error. We recommend you rerun `gcloud auth application-default login` and make sure a quota project is added. Or you can use service accounts instead. For more information about service accounts, see https://cloud.google.com/docs/authentication/\n",
      "  warnings.warn(_CLOUD_SDK_CREDENTIALS_WARNING)\n"
     ]
    },
    {
     "name": "stdout",
     "output_type": "stream",
     "text": [
      "Contents in gs://query_runner_results/referrer_image_train_temp_q2_table_Hindi_is_like_2021-05-25_02:31:38_28     transferred to ./train_test_data_models/image/Hindi/is_like/temp_download_folder\n",
      "Merging and saving files from ./train_test_data_models/image/Hindi/is_like/temp_download_folder to ./train_test_data_models/image/Hindi/is_like\n",
      "Saved file user_post_ffm_mapping.csv in ./train_test_data_models/image/Hindi/is_like\n",
      "Query 3 results loaded to the table maximal-furnace-783.rohitrr.referrer_image_train_temp_q3_table_Hindi_is_like\n",
      "Downloading table - maximal-furnace-783.rohitrr.referrer_image_train_temp_q3_table_Hindi_is_like to gcs\n"
     ]
    },
    {
     "name": "stderr",
     "output_type": "stream",
     "text": [
      "/home/rohitrr/miniconda3/envs/py3.8/lib/python3.8/site-packages/google/auth/_default.py:70: UserWarning: Your application has authenticated using end user credentials from Google Cloud SDK without a quota project. You might receive a \"quota exceeded\" or \"API not enabled\" error. We recommend you rerun `gcloud auth application-default login` and make sure a quota project is added. Or you can use service accounts instead. For more information about service accounts, see https://cloud.google.com/docs/authentication/\n",
      "  warnings.warn(_CLOUD_SDK_CREDENTIALS_WARNING)\n",
      "/home/rohitrr/miniconda3/envs/py3.8/lib/python3.8/site-packages/google/auth/_default.py:70: UserWarning: Your application has authenticated using end user credentials from Google Cloud SDK without a quota project. You might receive a \"quota exceeded\" or \"API not enabled\" error. We recommend you rerun `gcloud auth application-default login` and make sure a quota project is added. Or you can use service accounts instead. For more information about service accounts, see https://cloud.google.com/docs/authentication/\n",
      "  warnings.warn(_CLOUD_SDK_CREDENTIALS_WARNING)\n"
     ]
    },
    {
     "name": "stdout",
     "output_type": "stream",
     "text": [
      "Exported maximal-furnace-783:rohitrr.referrer_image_train_temp_q3_table_Hindi_is_like to gs://query_runner_results/referrer_image_train_temp_q3_table_Hindi_is_like_2021-05-25_02:42:41_180/*.csv\n",
      "Downloading from gcs_folder_name referrer_image_train_temp_q3_table_Hindi_is_like_2021-05-25_02:42:41_180 to local\n"
     ]
    },
    {
     "name": "stderr",
     "output_type": "stream",
     "text": [
      "/home/rohitrr/miniconda3/envs/py3.8/lib/python3.8/site-packages/google/auth/_default.py:70: UserWarning: Your application has authenticated using end user credentials from Google Cloud SDK without a quota project. You might receive a \"quota exceeded\" or \"API not enabled\" error. We recommend you rerun `gcloud auth application-default login` and make sure a quota project is added. Or you can use service accounts instead. For more information about service accounts, see https://cloud.google.com/docs/authentication/\n",
      "  warnings.warn(_CLOUD_SDK_CREDENTIALS_WARNING)\n"
     ]
    },
    {
     "name": "stdout",
     "output_type": "stream",
     "text": [
      "Contents in gs://query_runner_results/referrer_image_train_temp_q3_table_Hindi_is_like_2021-05-25_02:42:41_180     transferred to ./train_test_data_models/image/Hindi/is_like/temp_download_folder\n",
      "Merging and saving files from ./train_test_data_models/image/Hindi/is_like/temp_download_folder to ./train_test_data_models/image/Hindi/is_like\n",
      "Saved file train.txt in ./train_test_data_models/image/Hindi/is_like\n",
      "Query 1 results loaded to the table maximal-furnace-783.rohitrr.referrer_image_test_temp_q1_table_Hindi_is_like\n",
      "Query 3 results loaded to the table maximal-furnace-783.rohitrr.referrer_image_test_temp_q3_table_Hindi_is_like\n",
      "Downloading table - maximal-furnace-783.rohitrr.referrer_image_test_temp_q3_table_Hindi_is_like to gcs\n"
     ]
    },
    {
     "name": "stderr",
     "output_type": "stream",
     "text": [
      "/home/rohitrr/miniconda3/envs/py3.8/lib/python3.8/site-packages/google/auth/_default.py:70: UserWarning: Your application has authenticated using end user credentials from Google Cloud SDK without a quota project. You might receive a \"quota exceeded\" or \"API not enabled\" error. We recommend you rerun `gcloud auth application-default login` and make sure a quota project is added. Or you can use service accounts instead. For more information about service accounts, see https://cloud.google.com/docs/authentication/\n",
      "  warnings.warn(_CLOUD_SDK_CREDENTIALS_WARNING)\n",
      "/home/rohitrr/miniconda3/envs/py3.8/lib/python3.8/site-packages/google/auth/_default.py:70: UserWarning: Your application has authenticated using end user credentials from Google Cloud SDK without a quota project. You might receive a \"quota exceeded\" or \"API not enabled\" error. We recommend you rerun `gcloud auth application-default login` and make sure a quota project is added. Or you can use service accounts instead. For more information about service accounts, see https://cloud.google.com/docs/authentication/\n",
      "  warnings.warn(_CLOUD_SDK_CREDENTIALS_WARNING)\n"
     ]
    },
    {
     "name": "stdout",
     "output_type": "stream",
     "text": [
      "Exported maximal-furnace-783:rohitrr.referrer_image_test_temp_q3_table_Hindi_is_like to gs://query_runner_results/referrer_image_test_temp_q3_table_Hindi_is_like_2021-05-25_03:21:47_132/*.csv\n",
      "Downloading from gcs_folder_name referrer_image_test_temp_q3_table_Hindi_is_like_2021-05-25_03:21:47_132 to local\n"
     ]
    },
    {
     "name": "stderr",
     "output_type": "stream",
     "text": [
      "/home/rohitrr/miniconda3/envs/py3.8/lib/python3.8/site-packages/google/auth/_default.py:70: UserWarning: Your application has authenticated using end user credentials from Google Cloud SDK without a quota project. You might receive a \"quota exceeded\" or \"API not enabled\" error. We recommend you rerun `gcloud auth application-default login` and make sure a quota project is added. Or you can use service accounts instead. For more information about service accounts, see https://cloud.google.com/docs/authentication/\n",
      "  warnings.warn(_CLOUD_SDK_CREDENTIALS_WARNING)\n"
     ]
    },
    {
     "name": "stdout",
     "output_type": "stream",
     "text": [
      "Contents in gs://query_runner_results/referrer_image_test_temp_q3_table_Hindi_is_like_2021-05-25_03:21:47_132     transferred to ./train_test_data_models/image/Hindi/is_like/temp_download_folder\n",
      "Merging and saving files from ./train_test_data_models/image/Hindi/is_like/temp_download_folder to ./train_test_data_models/image/Hindi/is_like\n",
      "Saved file test.txt in ./train_test_data_models/image/Hindi/is_like\n",
      "Training started for label is_like in Hindi .......\n",
      "Model trained and saved in ./train_test_data_models/image/Hindi/is_like/out\n",
      "Query 1 results loaded to the table maximal-furnace-783.rohitrr.referrer_image_train_temp_q1_table_Hindi_is_share\n",
      "Query 2 results loaded to the table maximal-furnace-783.rohitrr.referrer_image_train_temp_q2_table_Hindi_is_share\n",
      "Downloading table - maximal-furnace-783.rohitrr.referrer_image_train_temp_q2_table_Hindi_is_share to gcs\n"
     ]
    },
    {
     "name": "stderr",
     "output_type": "stream",
     "text": [
      "/home/rohitrr/miniconda3/envs/py3.8/lib/python3.8/site-packages/google/auth/_default.py:70: UserWarning: Your application has authenticated using end user credentials from Google Cloud SDK without a quota project. You might receive a \"quota exceeded\" or \"API not enabled\" error. We recommend you rerun `gcloud auth application-default login` and make sure a quota project is added. Or you can use service accounts instead. For more information about service accounts, see https://cloud.google.com/docs/authentication/\n",
      "  warnings.warn(_CLOUD_SDK_CREDENTIALS_WARNING)\n",
      "/home/rohitrr/miniconda3/envs/py3.8/lib/python3.8/site-packages/google/auth/_default.py:70: UserWarning: Your application has authenticated using end user credentials from Google Cloud SDK without a quota project. You might receive a \"quota exceeded\" or \"API not enabled\" error. We recommend you rerun `gcloud auth application-default login` and make sure a quota project is added. Or you can use service accounts instead. For more information about service accounts, see https://cloud.google.com/docs/authentication/\n",
      "  warnings.warn(_CLOUD_SDK_CREDENTIALS_WARNING)\n"
     ]
    },
    {
     "name": "stdout",
     "output_type": "stream",
     "text": [
      "Exported maximal-furnace-783:rohitrr.referrer_image_train_temp_q2_table_Hindi_is_share to gs://query_runner_results/referrer_image_train_temp_q2_table_Hindi_is_share_2021-05-25_07:26:50_4/*.csv\n",
      "Downloading from gcs_folder_name referrer_image_train_temp_q2_table_Hindi_is_share_2021-05-25_07:26:50_4 to local\n"
     ]
    },
    {
     "name": "stderr",
     "output_type": "stream",
     "text": [
      "/home/rohitrr/miniconda3/envs/py3.8/lib/python3.8/site-packages/google/auth/_default.py:70: UserWarning: Your application has authenticated using end user credentials from Google Cloud SDK without a quota project. You might receive a \"quota exceeded\" or \"API not enabled\" error. We recommend you rerun `gcloud auth application-default login` and make sure a quota project is added. Or you can use service accounts instead. For more information about service accounts, see https://cloud.google.com/docs/authentication/\n",
      "  warnings.warn(_CLOUD_SDK_CREDENTIALS_WARNING)\n"
     ]
    },
    {
     "name": "stdout",
     "output_type": "stream",
     "text": [
      "Contents in gs://query_runner_results/referrer_image_train_temp_q2_table_Hindi_is_share_2021-05-25_07:26:50_4     transferred to ./train_test_data_models/image/Hindi/is_share/temp_download_folder\n",
      "Merging and saving files from ./train_test_data_models/image/Hindi/is_share/temp_download_folder to ./train_test_data_models/image/Hindi/is_share\n",
      "Saved file user_post_ffm_mapping.csv in ./train_test_data_models/image/Hindi/is_share\n",
      "Query 3 results loaded to the table maximal-furnace-783.rohitrr.referrer_image_train_temp_q3_table_Hindi_is_share\n",
      "Downloading table - maximal-furnace-783.rohitrr.referrer_image_train_temp_q3_table_Hindi_is_share to gcs\n"
     ]
    },
    {
     "name": "stderr",
     "output_type": "stream",
     "text": [
      "/home/rohitrr/miniconda3/envs/py3.8/lib/python3.8/site-packages/google/auth/_default.py:70: UserWarning: Your application has authenticated using end user credentials from Google Cloud SDK without a quota project. You might receive a \"quota exceeded\" or \"API not enabled\" error. We recommend you rerun `gcloud auth application-default login` and make sure a quota project is added. Or you can use service accounts instead. For more information about service accounts, see https://cloud.google.com/docs/authentication/\n",
      "  warnings.warn(_CLOUD_SDK_CREDENTIALS_WARNING)\n",
      "/home/rohitrr/miniconda3/envs/py3.8/lib/python3.8/site-packages/google/auth/_default.py:70: UserWarning: Your application has authenticated using end user credentials from Google Cloud SDK without a quota project. You might receive a \"quota exceeded\" or \"API not enabled\" error. We recommend you rerun `gcloud auth application-default login` and make sure a quota project is added. Or you can use service accounts instead. For more information about service accounts, see https://cloud.google.com/docs/authentication/\n",
      "  warnings.warn(_CLOUD_SDK_CREDENTIALS_WARNING)\n"
     ]
    },
    {
     "name": "stdout",
     "output_type": "stream",
     "text": [
      "Exported maximal-furnace-783:rohitrr.referrer_image_train_temp_q3_table_Hindi_is_share to gs://query_runner_results/referrer_image_train_temp_q3_table_Hindi_is_share_2021-05-25_07:36:28_84/*.csv\n",
      "Downloading from gcs_folder_name referrer_image_train_temp_q3_table_Hindi_is_share_2021-05-25_07:36:28_84 to local\n"
     ]
    },
    {
     "name": "stderr",
     "output_type": "stream",
     "text": [
      "/home/rohitrr/miniconda3/envs/py3.8/lib/python3.8/site-packages/google/auth/_default.py:70: UserWarning: Your application has authenticated using end user credentials from Google Cloud SDK without a quota project. You might receive a \"quota exceeded\" or \"API not enabled\" error. We recommend you rerun `gcloud auth application-default login` and make sure a quota project is added. Or you can use service accounts instead. For more information about service accounts, see https://cloud.google.com/docs/authentication/\n",
      "  warnings.warn(_CLOUD_SDK_CREDENTIALS_WARNING)\n"
     ]
    },
    {
     "name": "stdout",
     "output_type": "stream",
     "text": [
      "Contents in gs://query_runner_results/referrer_image_train_temp_q3_table_Hindi_is_share_2021-05-25_07:36:28_84     transferred to ./train_test_data_models/image/Hindi/is_share/temp_download_folder\n",
      "Merging and saving files from ./train_test_data_models/image/Hindi/is_share/temp_download_folder to ./train_test_data_models/image/Hindi/is_share\n",
      "Saved file train.txt in ./train_test_data_models/image/Hindi/is_share\n",
      "Query 1 results loaded to the table maximal-furnace-783.rohitrr.referrer_image_test_temp_q1_table_Hindi_is_share\n",
      "Query 3 results loaded to the table maximal-furnace-783.rohitrr.referrer_image_test_temp_q3_table_Hindi_is_share\n",
      "Downloading table - maximal-furnace-783.rohitrr.referrer_image_test_temp_q3_table_Hindi_is_share to gcs\n"
     ]
    },
    {
     "name": "stderr",
     "output_type": "stream",
     "text": [
      "/home/rohitrr/miniconda3/envs/py3.8/lib/python3.8/site-packages/google/auth/_default.py:70: UserWarning: Your application has authenticated using end user credentials from Google Cloud SDK without a quota project. You might receive a \"quota exceeded\" or \"API not enabled\" error. We recommend you rerun `gcloud auth application-default login` and make sure a quota project is added. Or you can use service accounts instead. For more information about service accounts, see https://cloud.google.com/docs/authentication/\n",
      "  warnings.warn(_CLOUD_SDK_CREDENTIALS_WARNING)\n",
      "/home/rohitrr/miniconda3/envs/py3.8/lib/python3.8/site-packages/google/auth/_default.py:70: UserWarning: Your application has authenticated using end user credentials from Google Cloud SDK without a quota project. You might receive a \"quota exceeded\" or \"API not enabled\" error. We recommend you rerun `gcloud auth application-default login` and make sure a quota project is added. Or you can use service accounts instead. For more information about service accounts, see https://cloud.google.com/docs/authentication/\n",
      "  warnings.warn(_CLOUD_SDK_CREDENTIALS_WARNING)\n"
     ]
    },
    {
     "name": "stdout",
     "output_type": "stream",
     "text": [
      "Exported maximal-furnace-783:rohitrr.referrer_image_test_temp_q3_table_Hindi_is_share to gs://query_runner_results/referrer_image_test_temp_q3_table_Hindi_is_share_2021-05-25_08:10:24_49/*.csv\n",
      "Downloading from gcs_folder_name referrer_image_test_temp_q3_table_Hindi_is_share_2021-05-25_08:10:24_49 to local\n"
     ]
    },
    {
     "name": "stderr",
     "output_type": "stream",
     "text": [
      "/home/rohitrr/miniconda3/envs/py3.8/lib/python3.8/site-packages/google/auth/_default.py:70: UserWarning: Your application has authenticated using end user credentials from Google Cloud SDK without a quota project. You might receive a \"quota exceeded\" or \"API not enabled\" error. We recommend you rerun `gcloud auth application-default login` and make sure a quota project is added. Or you can use service accounts instead. For more information about service accounts, see https://cloud.google.com/docs/authentication/\n",
      "  warnings.warn(_CLOUD_SDK_CREDENTIALS_WARNING)\n"
     ]
    },
    {
     "name": "stdout",
     "output_type": "stream",
     "text": [
      "Contents in gs://query_runner_results/referrer_image_test_temp_q3_table_Hindi_is_share_2021-05-25_08:10:24_49     transferred to ./train_test_data_models/image/Hindi/is_share/temp_download_folder\n",
      "Merging and saving files from ./train_test_data_models/image/Hindi/is_share/temp_download_folder to ./train_test_data_models/image/Hindi/is_share\n"
     ]
    }
   ],
   "source": [
    "%%time\n",
    "for lang in LANGS:\n",
    "    base_q0_train_table_path = construct_base_table(lang, train_end_time, TRAINING_DAYS, \n",
    "                                                    train_end_time, TRAINING_DAYS,\n",
    "                                             overwrite_base_table=True, mode=\"train\")\n",
    "    \n",
    "    base_q0_test_table_path = construct_base_table(lang, train_end_time, TRAINING_DAYS, \n",
    "                                             test_end_time, TESTING_DAYS,\n",
    "                                             overwrite_base_table=True, mode=\"test\")\n",
    "    \n",
    "    for key, rating_def in rating_def_dict.items():\n",
    "        save_path = f\"./train_test_data_models/image/{lang}/{rating_def}\"\n",
    "        train_delete_table_paths, table_with_valid_user_post_ids, train_table_with_mapping = \\\n",
    "        collect_and_prepare_train_data_with_base_table(lang, rating_def,\n",
    "                                 base_q0_train_table_path, save_path)\n",
    "\n",
    "        test_delete_table_paths = \\\n",
    "        collect_and_prepare_test_data_with_base_table(lang, rating_def,\n",
    "                                 base_q0_test_table_path,\n",
    "                                 table_with_valid_user_post_ids,\n",
    "                                 train_table_with_mapping,\n",
    "                                 save_path\n",
    "                                 )\n",
    "#         Delete all created tables\n",
    "#         delete_tables(\n",
    "#             train_delete_table_paths+test_delete_table_paths\n",
    "#         )\n",
    "#         Train using xlearn binary\n",
    "        print(f\"Training started for label {rating_def} in {lang} .......\")\n",
    "        model_output_path = os.path.join(save_path, \"out\")\n",
    "        pathlib.Path(model_output_path).mkdir(parents = True, exist_ok = True)\n",
    "        cmd = f\"./xlearn_train {save_path}/{TRAIN_DATA_FILE_NAME} \\\n",
    "        -v {save_path}/{TEST_DATA_FILE_NAME} -x auc -s 2 -k 32 -m {model_output_path}/model.out \\\n",
    "        -t {model_output_path}/model.txt -b 0.001 --disk 2>&1 | tee \\\n",
    "        {model_output_path}/logs\"\n",
    "        os.system(cmd)\n",
    "        print(f\"Model trained and saved in {model_output_path}\")"
   ]
  },
  {
   "cell_type": "code",
   "execution_count": 17,
   "id": "described-butterfly",
   "metadata": {
    "tags": []
   },
   "outputs": [
    {
     "name": "stdout",
     "output_type": "stream",
     "text": [
      "Model trained and saved in ./train_test_data_models/Marathi/is_vp_click/out\n"
     ]
    }
   ],
   "source": [
    "model_output_path = os.path.join(save_path, \"out\")\n",
    "pathlib.Path(model_output_path).mkdir(parents = True, exist_ok = True)\n",
    "cmd = f\"./xlearn_train {save_path}/{TRAIN_DATA_FILE_NAME} \\\n",
    "-v {save_path}/{TRAIN_DATA_FILE_NAME} -x auc -s 2 -k 32 -m {model_output_path}/model.out \\\n",
    "-t {model_output_path}/model.txt -b 0.001 --disk 2>&1 | tee \\\n",
    "{model_output_path}/logs\"\n",
    "os.system(cmd)\n",
    "print(f\"Model trained and saved in {model_output_path}\")"
   ]
  },
  {
   "cell_type": "markdown",
   "id": "afraid-contemporary",
   "metadata": {},
   "source": [
    "### Scrap code"
   ]
  },
  {
   "cell_type": "code",
   "execution_count": 21,
   "id": "reflected-somerset",
   "metadata": {},
   "outputs": [],
   "source": [
    "sql = readSqlFile(\"./queries/video/query0.sql\", \n",
    "                  lang = \"Odia\", rating_def = rating_def, \n",
    "                  end_time=end_time)"
   ]
  },
  {
   "cell_type": "code",
   "execution_count": 33,
   "id": "stuffed-sense",
   "metadata": {},
   "outputs": [],
   "source": [
    "rating_def = \"is_vp_succ\""
   ]
  },
  {
   "cell_type": "code",
   "execution_count": 34,
   "id": "classified-garden",
   "metadata": {},
   "outputs": [
    {
     "name": "stdout",
     "output_type": "stream",
     "text": [
      "Training started for label is_vp_succ in Bengali .......\n",
      "Model trained and saved in ./train_test_data_models/Bengali/is_like/out\n"
     ]
    }
   ],
   "source": [
    "print(f\"Training started for label {rating_def} in {lang} .......\")\n",
    "model_output_path = os.path.join(save_path, \"out\")\n",
    "pathlib.Path(model_output_path).mkdir(parents = True, exist_ok = True)\n",
    "cmd = f\"./xlearn_train {save_path}/{TRAIN_DATA_FILE_NAME} \\\n",
    "-v {save_path}/{TEST_DATA_FILE_NAME} -x auc -s 2 -k 32 -m {model_output_path}/model.out \\\n",
    "-t {model_output_path}/model.txt -b 0.001 --disk 2>&1 | tee \\\n",
    "{model_output_path}/logs\"\n",
    "os.system(cmd)\n",
    "print(f\"Model trained and saved in {model_output_path}\")"
   ]
  },
  {
   "cell_type": "code",
   "execution_count": 36,
   "id": "compliant-violence",
   "metadata": {},
   "outputs": [
    {
     "name": "stdout",
     "output_type": "stream",
     "text": [
      "./train_test_data_models/Bengali/is_like/train.txt\n"
     ]
    }
   ],
   "source": [
    "print(f\"{save_path}/{TRAIN_DATA_FILE_NAME}\")"
   ]
  },
  {
   "cell_type": "code",
   "execution_count": null,
   "id": "editorial-ballot",
   "metadata": {},
   "outputs": [],
   "source": [
    "client.delete_table(temp_q1_table_path)"
   ]
  },
  {
   "cell_type": "code",
   "execution_count": 44,
   "id": "subsequent-effect",
   "metadata": {},
   "outputs": [],
   "source": [
    "pathlib.Path(f\"./train_test_data/{rating_def}/{lang}\").mkdir(parents = True, exist_ok = True)"
   ]
  },
  {
   "cell_type": "code",
   "execution_count": 45,
   "id": "protecting-chest",
   "metadata": {},
   "outputs": [],
   "source": [
    "sql = f\"\"\"\n",
    "SELECT * FROM `{temp_q3_table_path}`\n",
    "\"\"\"\n",
    "data_df = client.query(sql).to_dataframe()"
   ]
  },
  {
   "cell_type": "code",
   "execution_count": 52,
   "id": "federal-michigan",
   "metadata": {},
   "outputs": [],
   "source": [
    "train_df, test_df = train_test_split(data_df, test_size = 0.2, random_state=RANDOM_SEED)"
   ]
  },
  {
   "cell_type": "code",
   "execution_count": 53,
   "id": "handy-governor",
   "metadata": {},
   "outputs": [],
   "source": [
    "save_path = f\"./train_test_data/{rating_def}/{lang}\"\n",
    "pathlib.Path(save_path).mkdir(parents = True, exist_ok = True)\n",
    "test_df.to_csv(os.path.join(save_path, \"test.txt\"), sep=\"\\n\", header = False, index=False)"
   ]
  },
  {
   "cell_type": "code",
   "execution_count": 59,
   "id": "flying-interface",
   "metadata": {},
   "outputs": [
    {
     "name": "stdout",
     "output_type": "stream",
     "text": [
      "\u001b[32m\u001b[1m----------------------------------------------------------------------------------------------\n",
      "           _\n",
      "          | |\n",
      "     __  _| |     ___  __ _ _ __ _ __\n",
      "     \\ \\/ / |    / _ \\/ _` | '__| '_ \\ \n",
      "      >  <| |___|  __/ (_| | |  | | | |\n",
      "     /_/\\_\\_____/\\___|\\__,_|_|  |_| |_|\n",
      "\n",
      "        xLearn   -- 0.44 Version --\n",
      "----------------------------------------------------------------------------------------------\n",
      "\n",
      "\u001b[39m\u001b[0m\u001b[32m[------------] \u001b[0mxLearn uses 64 threads for training task.\n",
      "\u001b[32m\u001b[1m[ ACTION     ] Read Problem ...\u001b[0m\n",
      "\u001b[32m[------------] \u001b[0mNumber of Feature: 517707\n",
      "\u001b[32m[------------] \u001b[0mNumber of Field: 2\n",
      "\u001b[32m[------------] \u001b[0mTime cost for reading problem: 23.14 (sec)\n",
      "\u001b[32m\u001b[1m[ ACTION     ] Initialize model ...\u001b[0m\n",
      "\u001b[32m[------------] \u001b[0mModel size: 256.74 MB\n",
      "\u001b[32m[------------] \u001b[0mTime cost for model initial: 0.34 (sec)\n",
      "\u001b[32m\u001b[1m[ ACTION     ] Start to train ...\u001b[0m\n",
      "\u001b[32m[------------]\u001b[0m Epoch      Train log_loss       Test log_loss            Test AUC     Time cost (sec)\n",
      "\u001b[32m[ \u001b[0m  10%\u001b[32m      ]\u001b[0m     1            0.418973            0.410742            0.769566               24.66\n",
      "\u001b[32m[ \u001b[0m  20%\u001b[32m      ]\u001b[0m     2            0.400472            0.404218            0.779871               24.93\n",
      "\u001b[32m[ \u001b[0m  30%\u001b[32m      ]\u001b[0m     3            0.375957            0.403592            0.782683               23.41\n",
      "\u001b[32m[ \u001b[0m  40%\u001b[32m      ]\u001b[0m     4            0.334905            0.418434            0.769949               23.34\n",
      "\u001b[32m[ \u001b[0m  50%\u001b[32m      ]\u001b[0m     5            0.295719            0.439514            0.754984               24.52\n",
      "\u001b[32m[ \u001b[0m  60%\u001b[32m      ]\u001b[0m     6            0.267937            0.459180            0.743783               23.32\n",
      "\u001b[32m\u001b[1m[ ACTION     ] Early-stopping at epoch 3, best AUC: 0.782683\u001b[0m\n",
      "\u001b[32m\u001b[1m[ ACTION     ] Start to save model ...\u001b[0m\n",
      "\u001b[32m[------------] \u001b[0mModel file: out/model.out\n",
      "\u001b[32m[------------] \u001b[0mTime cost for saving model: 0.21 (sec)\n",
      "\u001b[32m\u001b[1m[ ACTION     ] Start to save txt model ...\u001b[0m\n",
      "\u001b[32m[------------] \u001b[0mTXT Model file: out/model.txt\n",
      "\u001b[32m[------------] \u001b[0mTime cost for saving txt model: 13.31 (sec)\n",
      "\u001b[32m\u001b[1m[ ACTION     ] Finish training\u001b[0m\n",
      "\u001b[32m\u001b[1m[ ACTION     ] Clear the xLearn environment ...\u001b[0m\n",
      "\u001b[32m[------------] \u001b[0mTotal time cost: 181.45 (sec)\n"
     ]
    }
   ],
   "source": [
    "! ./xlearn_train ./train_test_data/is_vp_succ2/Odia/train.txt -v ./train_test_data/is_vp_succ2/Odia/test.txt -x auc -s 2 -k 32 -m out/model.out -t out/model.txt -b 0.001 --disk 2>&1 | tee out/logs"
   ]
  },
  {
   "cell_type": "code",
   "execution_count": 72,
   "id": "signed-learning",
   "metadata": {},
   "outputs": [],
   "source": [
    "cmd = f\"./xlearn_train {save_path}/train.txt \\\n",
    "-v {save_path}/test.txt -x auc -s 2 -k 32 -m {model_output_path}/model.out \\\n",
    "-t {model_output_path}/model.txt -b 0.001 --disk 2>&1 | tee \\\n",
    "{model_output_path}/logs\""
   ]
  },
  {
   "cell_type": "code",
   "execution_count": 63,
   "id": "synthetic-cliff",
   "metadata": {},
   "outputs": [],
   "source": [
    "model_output_path = os.path.join(save_path, \"out\")\n",
    "pathlib.Path(model_output_path).mkdir(parents = True, exist_ok = True)"
   ]
  },
  {
   "cell_type": "code",
   "execution_count": 62,
   "id": "spectacular-military",
   "metadata": {},
   "outputs": [],
   "source": [
    "model_out_path"
   ]
  },
  {
   "cell_type": "code",
   "execution_count": 73,
   "id": "existing-judges",
   "metadata": {},
   "outputs": [
    {
     "data": {
      "text/plain": [
       "'./xlearn_train ./train_test_data/is_vp_succ2/Odia/train.txt -v ./train_test_data/is_vp_succ2/Odia/test.txt -x auc -s 2 -k 32 -m ./train_test_data/is_vp_succ2/Odia/out/model.out -t ./train_test_data/is_vp_succ2/Odia/out/model.txt -b 0.001 --disk 2>&1 | tee ./train_test_data/is_vp_succ2/Odia/out/logs'"
      ]
     },
     "execution_count": 73,
     "metadata": {},
     "output_type": "execute_result"
    }
   ],
   "source": [
    "cmd"
   ]
  },
  {
   "cell_type": "code",
   "execution_count": 74,
   "id": "simplified-london",
   "metadata": {},
   "outputs": [
    {
     "data": {
      "text/plain": [
       "0"
      ]
     },
     "execution_count": 74,
     "metadata": {},
     "output_type": "execute_result"
    }
   ],
   "source": [
    "os.system(\"touch check_file.txt\")"
   ]
  },
  {
   "cell_type": "code",
   "execution_count": 43,
   "id": "legitimate-feedback",
   "metadata": {},
   "outputs": [
    {
     "data": {
      "text/plain": [
       "['maximal-furnace-783.rohitrr.train_temp_q0_table_Odia_is_vp_succ2',\n",
       " 'maximal-furnace-783.rohitrr.train_temp_q1_table_Odia_is_vp_succ2',\n",
       " 'maximal-furnace-783.rohitrr.train_temp_q2_table_Odia_is_vp_succ2',\n",
       " 'maximal-furnace-783.rohitrr.train_temp_q3_table_Odia_is_vp_succ2']"
      ]
     },
     "execution_count": 43,
     "metadata": {},
     "output_type": "execute_result"
    }
   ],
   "source": [
    "train_delete_table_paths"
   ]
  },
  {
   "cell_type": "code",
   "execution_count": 17,
   "id": "confirmed-there",
   "metadata": {},
   "outputs": [],
   "source": [
    "import csv"
   ]
  },
  {
   "cell_type": "code",
   "execution_count": 53,
   "id": "controversial-melissa",
   "metadata": {},
   "outputs": [],
   "source": [
    "count = 10\n",
    "rows = []"
   ]
  },
  {
   "cell_type": "code",
   "execution_count": 57,
   "id": "unexpected-wonder",
   "metadata": {},
   "outputs": [],
   "source": [
    "with open(\"./train_test_data_models/is_vp_succ2/Kannada/user_post_ffm_mapping.csv\") as csv_file:\n",
    "    csv_reader = csv.reader(csv_file, delimiter = \",\")\n",
    "    i = 0\n",
    "    for row in csv_reader:\n",
    "        rows.append(row)\n",
    "        i+=1\n",
    "        if(i > count):\n",
    "            break"
   ]
  },
  {
   "cell_type": "code",
   "execution_count": 58,
   "id": "thrown-latino",
   "metadata": {},
   "outputs": [
    {
     "data": {
      "text/plain": [
       "['1_post_1000004482', '1']"
      ]
     },
     "execution_count": 58,
     "metadata": {},
     "output_type": "execute_result"
    }
   ],
   "source": [
    "rows[1]"
   ]
  },
  {
   "cell_type": "code",
   "execution_count": 36,
   "id": "logical-darkness",
   "metadata": {},
   "outputs": [],
   "source": [
    "f = open(\"./train_test_data_models/is_vp_succ2/Kannada/user_post_ffm_mapping.csv\")"
   ]
  },
  {
   "cell_type": "code",
   "execution_count": 37,
   "id": "adequate-compact",
   "metadata": {},
   "outputs": [
    {
     "data": {
      "text/plain": [
       "'1_post_1000004482\\t1\\n'"
      ]
     },
     "execution_count": 37,
     "metadata": {},
     "output_type": "execute_result"
    }
   ],
   "source": [
    "next(f)"
   ]
  },
  {
   "cell_type": "code",
   "execution_count": 1,
   "id": "public-suite",
   "metadata": {},
   "outputs": [
    {
     "ename": "Exception",
     "evalue": "check",
     "output_type": "error",
     "traceback": [
      "\u001b[0;31m---------------------------------------------------------------------------\u001b[0m",
      "\u001b[0;31mException\u001b[0m                                 Traceback (most recent call last)",
      "\u001b[0;32m<ipython-input-1-ade9bbba3fe9>\u001b[0m in \u001b[0;36m<module>\u001b[0;34m\u001b[0m\n\u001b[0;32m----> 1\u001b[0;31m \u001b[0;32mraise\u001b[0m \u001b[0mException\u001b[0m\u001b[0;34m(\u001b[0m\u001b[0;34m\"check\"\u001b[0m\u001b[0;34m)\u001b[0m\u001b[0;34m\u001b[0m\u001b[0;34m\u001b[0m\u001b[0m\n\u001b[0m",
      "\u001b[0;31mException\u001b[0m: check"
     ]
    }
   ],
   "source": [
    "raise Exception(\"check\")"
   ]
  },
  {
   "cell_type": "code",
   "execution_count": 44,
   "id": "early-format",
   "metadata": {},
   "outputs": [],
   "source": [
    "with open(\"./train_test_data_models/Bengali/is_vp_succ/test.txt\") as f:\n",
    "    lines = f.readlines()"
   ]
  },
  {
   "cell_type": "code",
   "execution_count": 45,
   "id": "adopted-income",
   "metadata": {},
   "outputs": [
    {
     "name": "stdout",
     "output_type": "stream",
     "text": [
      "0.21455608238342266\n"
     ]
    }
   ],
   "source": [
    "count = 0\n",
    "for l in lines:\n",
    "    if(l[0] == \"1\"):\n",
    "        count+=1\n",
    "print(count/len(lines))"
   ]
  },
  {
   "cell_type": "code",
   "execution_count": null,
   "id": "dedicated-bikini",
   "metadata": {},
   "outputs": [],
   "source": []
  },
  {
   "cell_type": "code",
   "execution_count": 11,
   "id": "optimum-requirement",
   "metadata": {},
   "outputs": [
    {
     "ename": "AttributeError",
     "evalue": "'str' object has no attribute 'strftime'",
     "output_type": "error",
     "traceback": [
      "\u001b[0;31m---------------------------------------------------------------------------\u001b[0m",
      "\u001b[0;31mAttributeError\u001b[0m                            Traceback (most recent call last)",
      "\u001b[0;32m<ipython-input-11-d4b5f89e9601>\u001b[0m in \u001b[0;36m<module>\u001b[0;34m\u001b[0m\n\u001b[0;32m----> 1\u001b[0;31m sql = readSqlFile(f\"{QUERY_FOLDER_PATH}/query0.sql\", lang = \"Hindi\",\n\u001b[0m\u001b[1;32m      2\u001b[0m                   \u001b[0mcommon_posts_end_time\u001b[0m \u001b[0;34m=\u001b[0m \u001b[0;34m\"akahfk\"\u001b[0m\u001b[0;34m,\u001b[0m\u001b[0;34m\u001b[0m\u001b[0;34m\u001b[0m\u001b[0m\n\u001b[1;32m      3\u001b[0m                   \u001b[0mcommon_posts_days\u001b[0m \u001b[0;34m=\u001b[0m \u001b[0;34m\"afkhd\"\u001b[0m\u001b[0;34m,\u001b[0m\u001b[0;34m\u001b[0m\u001b[0;34m\u001b[0m\u001b[0m\n\u001b[1;32m      4\u001b[0m                   end_time=\"afljds\", days = \"ajkfdks\")\n",
      "\u001b[0;32m~/test/referrer_ffm_test/utils/read_sql_as_string.py\u001b[0m in \u001b[0;36mreadSqlFile\u001b[0;34m(file_path, lang, rating_def, q0_table, q1_table, q2_table, train_q1_table, end_time, days, common_posts_end_time, common_posts_days)\u001b[0m\n\u001b[1;32m      7\u001b[0m         sql_command = sql_command.format(\n\u001b[1;32m      8\u001b[0m             \u001b[0mcommon_posts_end_time\u001b[0m \u001b[0;34m=\u001b[0m \u001b[0mcommon_posts_end_time\u001b[0m \u001b[0;32mif\u001b[0m \u001b[0mcommon_posts_end_time\u001b[0m \u001b[0;34m==\u001b[0m \u001b[0;34m\"\"\u001b[0m \u001b[0;32melse\u001b[0m\u001b[0;31m \u001b[0m\u001b[0;31m\\\u001b[0m\u001b[0;34m\u001b[0m\u001b[0;34m\u001b[0m\u001b[0m\n\u001b[0;32m----> 9\u001b[0;31m                                     \u001b[0mstr\u001b[0m\u001b[0;34m(\u001b[0m\u001b[0mcommon_posts_end_time\u001b[0m\u001b[0;34m.\u001b[0m\u001b[0mstrftime\u001b[0m\u001b[0;34m(\u001b[0m\u001b[0;34m'%Y-%m-%d %H:%M:%S'\u001b[0m\u001b[0;34m)\u001b[0m\u001b[0;34m)\u001b[0m\u001b[0;34m,\u001b[0m\u001b[0;34m\u001b[0m\u001b[0;34m\u001b[0m\u001b[0m\n\u001b[0m\u001b[1;32m     10\u001b[0m             \u001b[0mcommon_posts_days\u001b[0m \u001b[0;34m=\u001b[0m \u001b[0mcommon_posts_days\u001b[0m\u001b[0;34m,\u001b[0m\u001b[0;34m\u001b[0m\u001b[0;34m\u001b[0m\u001b[0m\n\u001b[1;32m     11\u001b[0m             \u001b[0mdays\u001b[0m\u001b[0;34m=\u001b[0m\u001b[0mdays\u001b[0m\u001b[0;34m,\u001b[0m\u001b[0;34m\u001b[0m\u001b[0;34m\u001b[0m\u001b[0m\n",
      "\u001b[0;31mAttributeError\u001b[0m: 'str' object has no attribute 'strftime'"
     ]
    }
   ],
   "source": [
    "sql = readSqlFile(f\"{QUERY_FOLDER_PATH}/query0.sql\", lang = \"Hindi\",\n",
    "                  common_posts_end_time = \"akahfk\",\n",
    "                  common_posts_days = \"afkhd\",\n",
    "                  end_time=\"afljds\", days = \"ajkfdks\")"
   ]
  },
  {
   "cell_type": "code",
   "execution_count": 13,
   "id": "graduate-commissioner",
   "metadata": {},
   "outputs": [
    {
     "ename": "NameError",
     "evalue": "name 'QUERY_FOLDER_PAT' is not defined",
     "output_type": "error",
     "traceback": [
      "\u001b[0;31m---------------------------------------------------------------------------\u001b[0m",
      "\u001b[0;31mNameError\u001b[0m                                 Traceback (most recent call last)",
      "\u001b[0;32m<ipython-input-13-1e4180e403ed>\u001b[0m in \u001b[0;36m<module>\u001b[0;34m\u001b[0m\n\u001b[0;32m----> 1\u001b[0;31m \u001b[0;34mf\"{QUERY_FOLDER_PAT}afsd\"\u001b[0m\u001b[0;34m\u001b[0m\u001b[0;34m\u001b[0m\u001b[0m\n\u001b[0m",
      "\u001b[0;31mNameError\u001b[0m: name 'QUERY_FOLDER_PAT' is not defined"
     ]
    }
   ],
   "source": [
    "f\"{QUERY_FOLDER_PAT}afsd\""
   ]
  },
  {
   "cell_type": "code",
   "execution_count": null,
   "id": "wrong-intent",
   "metadata": {},
   "outputs": [],
   "source": []
  }
 ],
 "metadata": {
  "kernelspec": {
   "display_name": "Python 3",
   "language": "python",
   "name": "python3"
  },
  "language_info": {
   "codemirror_mode": {
    "name": "ipython",
    "version": 3
   },
   "file_extension": ".py",
   "mimetype": "text/x-python",
   "name": "python",
   "nbconvert_exporter": "python",
   "pygments_lexer": "ipython3",
   "version": "3.8.8"
  }
 },
 "nbformat": 4,
 "nbformat_minor": 5
}
